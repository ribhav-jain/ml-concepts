{
 "cells": [
  {
   "cell_type": "markdown",
   "metadata": {},
   "source": [
    "## 🌿 Stemming vs Lemmatization\n",
    "\n",
    "Both **stemming** and **lemmatization** are text normalization techniques used to reduce words to their root/base form.\n",
    "\n",
    "---\n",
    "\n",
    "### 🔹 Stemming\n",
    "\n",
    "- **Reduces words to their stem/root** by chopping off suffixes.\n",
    "- Often produces **non-dictionary words**.\n",
    "- Uses **heuristic rules** (e.g., remove \"ing\", \"ed\", \"s\").\n",
    "- Faster but less accurate.\n",
    "\n",
    "**Example:**  \n",
    "`playing`, `played`, `plays` → `play`\n",
    "\n",
    "But:  \n",
    "`studies` → `studi` ❌ (not a real word)\n",
    "\n",
    "**Popular Algorithms:**\n",
    "\n",
    "- PorterStemmer\n",
    "- SnowballStemmer\n",
    "- LancasterStemmer\n",
    "\n",
    "---\n",
    "\n",
    "### 🔹 Lemmatization\n",
    "\n",
    "- Reduces words to their **base/dictionary form (lemma)**.\n",
    "- **Considers part of speech (POS)** and word meaning.\n",
    "- **Accurate**, but slower than stemming.\n",
    "\n",
    "**Example:**  \n",
    "`studies`, `studying` → `study`  \n",
    "`better` → `good` ✅\n",
    "\n",
    "**Requires:** a proper dictionary (e.g., WordNet).\n",
    "\n",
    "---\n",
    "\n",
    "## ✅ Comparison Table\n",
    "\n",
    "| Feature         | Stemming                  | Lemmatization           |\n",
    "| --------------- | ------------------------- | ----------------------- |\n",
    "| Output          | Word stem (may not exist) | Dictionary word (lemma) |\n",
    "| Speed           | Faster                    | Slower                  |\n",
    "| Accuracy        | Lower                     | Higher                  |\n",
    "| Uses POS info?  | ❌ No                     | ✅ Yes                  |\n",
    "| Library Support | Porter, Snowball, etc.    | WordNetLemmatizer       |\n",
    "\n",
    "> ✅ **Tip:** Use **lemmatization** for tasks needing linguistic accuracy (e.g., sentiment, NER). Use **stemming** when speed matters and slight errors are acceptable.\n"
   ]
  },
  {
   "cell_type": "code",
   "execution_count": 1,
   "metadata": {},
   "outputs": [],
   "source": [
    "words = [\n",
    "    \"eating\",\n",
    "    \"eats\",\n",
    "    \"eaten\",\n",
    "    \"writing\",\n",
    "    \"writes\",\n",
    "    \"programming\",\n",
    "    \"programs\",\n",
    "    \"history\",\n",
    "    \"finally\",\n",
    "    \"finalized\",\n",
    "]"
   ]
  },
  {
   "cell_type": "markdown",
   "metadata": {},
   "source": [
    "### PorterStemmer\n"
   ]
  },
  {
   "cell_type": "code",
   "execution_count": 2,
   "metadata": {},
   "outputs": [],
   "source": [
    "from nltk.stem import PorterStemmer"
   ]
  },
  {
   "cell_type": "code",
   "execution_count": 3,
   "metadata": {},
   "outputs": [],
   "source": [
    "stemming = PorterStemmer()"
   ]
  },
  {
   "cell_type": "code",
   "execution_count": 4,
   "metadata": {},
   "outputs": [
    {
     "name": "stdout",
     "output_type": "stream",
     "text": [
      "eating -> eat\n",
      "eats -> eat\n",
      "eaten -> eaten\n",
      "writing -> write\n",
      "writes -> write\n",
      "programming -> program\n",
      "programs -> program\n",
      "history -> histori\n",
      "finally -> final\n",
      "finalized -> final\n"
     ]
    }
   ],
   "source": [
    "for word in words:\n",
    "    print(word + \" -> \" + stemming.stem(word))"
   ]
  },
  {
   "cell_type": "code",
   "execution_count": 5,
   "metadata": {},
   "outputs": [
    {
     "data": {
      "text/plain": [
       "'congratul'"
      ]
     },
     "execution_count": 5,
     "metadata": {},
     "output_type": "execute_result"
    }
   ],
   "source": [
    "stemming.stem(\"congratulations\")"
   ]
  },
  {
   "cell_type": "code",
   "execution_count": 6,
   "metadata": {},
   "outputs": [
    {
     "data": {
      "text/plain": [
       "'sit'"
      ]
     },
     "execution_count": 6,
     "metadata": {},
     "output_type": "execute_result"
    }
   ],
   "source": [
    "stemming.stem(\"sitting\")"
   ]
  },
  {
   "cell_type": "markdown",
   "metadata": {},
   "source": [
    "### RegexpStemmer class\n",
    "\n",
    "NLTK has RegexpStemmer class with the help of which we can easily implement Regular Expression Stemmer algorithms. It basically takes a single regular expression and removes any prefix or suffix that matches the expression.\n"
   ]
  },
  {
   "cell_type": "code",
   "execution_count": 7,
   "metadata": {},
   "outputs": [],
   "source": [
    "from nltk.stem import RegexpStemmer"
   ]
  },
  {
   "cell_type": "code",
   "execution_count": 8,
   "metadata": {
    "scrolled": true
   },
   "outputs": [],
   "source": [
    "reg_stemmer = RegexpStemmer(\"ing$|s$|e$|able$\", min=4)"
   ]
  },
  {
   "cell_type": "code",
   "execution_count": 9,
   "metadata": {},
   "outputs": [
    {
     "data": {
      "text/plain": [
       "'eat'"
      ]
     },
     "execution_count": 9,
     "metadata": {},
     "output_type": "execute_result"
    }
   ],
   "source": [
    "reg_stemmer.stem(\"eating\")"
   ]
  },
  {
   "cell_type": "code",
   "execution_count": 10,
   "metadata": {},
   "outputs": [
    {
     "data": {
      "text/plain": [
       "'ingeat'"
      ]
     },
     "execution_count": 10,
     "metadata": {},
     "output_type": "execute_result"
    }
   ],
   "source": [
    "reg_stemmer.stem(\"ingeating\")"
   ]
  },
  {
   "cell_type": "markdown",
   "metadata": {},
   "source": [
    "### Snowball Stemmer\n",
    "\n",
    "It is a stemming algorithm which is also known as the Porter2 stemming algorithm as it is a better version of the Porter Stemmer since some issues of it were fixed in this stemmer.\n"
   ]
  },
  {
   "cell_type": "code",
   "execution_count": 11,
   "metadata": {},
   "outputs": [],
   "source": [
    "from nltk.stem import SnowballStemmer"
   ]
  },
  {
   "cell_type": "code",
   "execution_count": 12,
   "metadata": {},
   "outputs": [],
   "source": [
    "snowballsstemmer = SnowballStemmer(\"english\")"
   ]
  },
  {
   "cell_type": "code",
   "execution_count": 13,
   "metadata": {},
   "outputs": [
    {
     "name": "stdout",
     "output_type": "stream",
     "text": [
      "eating -> eat\n",
      "eats -> eat\n",
      "eaten -> eaten\n",
      "writing -> write\n",
      "writes -> write\n",
      "programming -> program\n",
      "programs -> program\n",
      "history -> histori\n",
      "finally -> final\n",
      "finalized -> final\n"
     ]
    }
   ],
   "source": [
    "for word in words:\n",
    "    print(word + \" -> \" + snowballsstemmer.stem(word))"
   ]
  },
  {
   "cell_type": "code",
   "execution_count": 14,
   "metadata": {},
   "outputs": [
    {
     "data": {
      "text/plain": [
       "('fairli', 'sportingli')"
      ]
     },
     "execution_count": 14,
     "metadata": {},
     "output_type": "execute_result"
    }
   ],
   "source": [
    "stemming.stem(\"fairly\"), stemming.stem(\"sportingly\")"
   ]
  },
  {
   "cell_type": "code",
   "execution_count": 15,
   "metadata": {},
   "outputs": [
    {
     "data": {
      "text/plain": [
       "('fair', 'sport')"
      ]
     },
     "execution_count": 15,
     "metadata": {},
     "output_type": "execute_result"
    }
   ],
   "source": [
    "snowballsstemmer.stem(\"fairly\"), snowballsstemmer.stem(\"sportingly\")"
   ]
  }
 ],
 "metadata": {
  "kernelspec": {
   "display_name": "Python 3",
   "language": "python",
   "name": "python3"
  },
  "language_info": {
   "codemirror_mode": {
    "name": "ipython",
    "version": 3
   },
   "file_extension": ".py",
   "mimetype": "text/x-python",
   "name": "python",
   "nbconvert_exporter": "python",
   "pygments_lexer": "ipython3",
   "version": "3.12.2"
  }
 },
 "nbformat": 4,
 "nbformat_minor": 4
}
