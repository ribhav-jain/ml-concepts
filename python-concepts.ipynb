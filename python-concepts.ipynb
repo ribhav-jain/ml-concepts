{
 "cells": [
  {
   "cell_type": "markdown",
   "metadata": {},
   "source": [
    "- Interpreter\n",
    "- python --version # version\n",
    "\n",
    "**Run**\n",
    "- python helloworld.py"
   ]
  },
  {
   "cell_type": "markdown",
   "metadata": {},
   "source": [
    "#### Anaconda Basics\n",
    "Anaconda is a distribution of Python/R for **data science** and **machine learning** with tools for managing packages and environments.\n",
    "\n",
    "#### Key Features\n",
    "- **Package Manager**: `conda` for easy package management.\n",
    "- **Environments**: Isolate projects with virtual environments.\n",
    "- **Pre-installed Tools**: Includes Jupyter, Spyder, and libraries like NumPy, pandas, and scikit-learn.\n"
   ]
  },
  {
   "cell_type": "markdown",
   "metadata": {},
   "source": [
    "### Creating Virtual Environments\n",
    "Virtual environments are used to isolate project dependencies. Below are methods to create virtual environments using **Conda**, **Python**, and **virtualenv**.\n"
   ]
  },
  {
   "cell_type": "markdown",
   "metadata": {},
   "source": [
    "### Comparison of Virtual Environment Creation Methods\n",
    "\n",
    "This table compares the installation and creation steps for virtual environments using **Conda**, **Python (venv)**, and **virtualenv**.\n",
    "\n",
    "| **Method**              | **Command**                                                                 | **Notes**                                                                 |\n",
    "|-------------------------|-----------------------------------------------------------------------------|---------------------------------------------------------------------------|\n",
    "| **Using Conda**          | `conda create --name myenv python=3.9`                                      | Replace `myenv` with your environment name.                              |\n",
    "|                         | `conda activate myenv`                                                      | Activates the environment.                                                |\n",
    "|                         | `conda deactivate`                                                          | Deactivates the environment.                                              |\n",
    "|                         | `conda remove --name myenv --all`                                           | Removes the environment.                                                 |\n",
    "| **Using Python (venv)**  | `sudo apt install python3-venv`                                             | Installs the `venv` module (if not already installed).                   |\n",
    "|                         | `python3 -m venv myenv`                                                     | Creates a new environment using the `venv` module.                       |\n",
    "|                         | `source myenv/bin/activate`                                                 | Activates the environment (Linux/Mac).                                    |\n",
    "|                         | `deactivate`                                                                | Deactivates the environment.                                              |\n",
    "|                         | `rm -rf myenv`                                                              | Removes the environment.                                                 |\n",
    "| **Using virtualenv**     | `pip install virtualenv`                                                    | Installs the `virtualenv` package.                                       |\n",
    "|                         | `virtualenv myenv`                                                          | Creates a new virtual environment.                                        |\n",
    "|                         | `virtualenv myenv --python=python3.9`                                       | Creates a new virtual environment with a specific Python version.         |\n",
    "|                         | `source myenv/bin/activate`                                                 | Activates the environment (Linux/Mac).                                    |\n",
    "|                         | `deactivate`                                                                | Deactivates the environment.                                              |\n",
    "|                         | `rm -rf myenv`                                                              | Removes the environment.                                                 |\n",
    "\n",
    "---\n",
    "\n",
    "## Notes:\n",
    "- **Conda** is best suited for managing complex environments with additional dependencies for data science or machine learning projects.\n",
    "- **Python's built-in `venv`** module is lightweight and sufficient for general Python projects.\n",
    "- **virtualenv** provides more flexibility than `venv` and is useful if you need compatibility with older Python versions or additional features.\n"
   ]
  },
  {
   "cell_type": "markdown",
   "metadata": {},
   "source": [
    "To run Jupyter notebooks in Visual Studio Code, you need to install the following component:\n",
    "\n",
    "```bash\n",
    "     pip install ipykernel\n",
    "```"
   ]
  },
  {
   "cell_type": "markdown",
   "metadata": {},
   "source": [
    "### Indentation\n",
    "Indentation in Python is used to define the structure and hierarchy of the code. Unlike many other programming languages that use braces {} to delimit blocks of code, Python uses indentation to determine the grouping of statements. This means that all the statements within a block must be indented at the same level."
   ]
  },
  {
   "cell_type": "code",
   "execution_count": 1,
   "metadata": {},
   "outputs": [
    {
     "name": "stdout",
     "output_type": "stream",
     "text": [
      "32\n"
     ]
    }
   ],
   "source": [
    "## Indentation\n",
    "## Python uses indentation to define blocks of code. Consistent use of spaces (commonly 4) or a tab is required.\n",
    "\n",
    "age = 32\n",
    "if age > 30:\n",
    "    print(age)"
   ]
  },
  {
   "cell_type": "code",
   "execution_count": 2,
   "metadata": {},
   "outputs": [
    {
     "data": {
      "text/plain": [
       "'\\nThis is a exmaple of multi line comments\\nWelcome to the python course\\n'"
      ]
     },
     "execution_count": 2,
     "metadata": {},
     "output_type": "execute_result"
    }
   ],
   "source": [
    "# This is a single line comment\n",
    "\n",
    "\"\"\"\n",
    "This is a exmaple of multi line comments\n",
    "Welcome to the python course\n",
    "\"\"\""
   ]
  },
  {
   "cell_type": "code",
   "execution_count": 3,
   "metadata": {},
   "outputs": [
    {
     "name": "stdout",
     "output_type": "stream",
     "text": [
      "GeeksForGeeks is the best platform for DSA content,Welcome to GFG\n"
     ]
    }
   ],
   "source": [
    "# This print() function ends with \",\" as set in the end argument.\n",
    "print (\"GeeksForGeeks is the best platform for DSA content\", end= \",\")\n",
    "print(\"Welcome to GFG\")"
   ]
  },
  {
   "cell_type": "code",
   "execution_count": 4,
   "metadata": {},
   "outputs": [
    {
     "name": "stdout",
     "output_type": "stream",
     "text": [
      "We are the so-called \"Vikings\" from the north.\n"
     ]
    }
   ],
   "source": [
    "print(\"We are the so-called \\\"Vikings\\\" from the north.\")"
   ]
  },
  {
   "cell_type": "code",
   "execution_count": 5,
   "metadata": {},
   "outputs": [
    {
     "name": "stdout",
     "output_type": "stream",
     "text": [
      "I want to pay 49.95 dollars for 3 pieces of item 567.\n",
      "I have a Ford, it is a Mustang.\n",
      "Second argument:  11, first one:   47.42\n"
     ]
    }
   ],
   "source": [
    "quantity = 3\n",
    "item = 567\n",
    "price = 49.95\n",
    "myorder = \"I want to pay {2} dollars for {0} pieces of item {1}.\"\n",
    "print(myorder.format(quantity, item, price))\n",
    "\n",
    "myorder = \"I have a {carname}, it is a {model}.\"\n",
    "print(myorder.format(carname=\"Ford\", model=\"Mustang\"))\n",
    "\n",
    "print(\"Second argument: {1:3d}, first one: {0:7.2f}\".format(47.421, 11))"
   ]
  },
  {
   "cell_type": "code",
   "execution_count": 6,
   "metadata": {},
   "outputs": [
    {
     "name": "stdout",
     "output_type": "stream",
     "text": [
      "43\n"
     ]
    }
   ],
   "source": [
    "# Line Continuation\n",
    "# Use a backslash (\\) to continue a statement to the next line\n",
    "\n",
    "total = 1 + 2 + 3 + 4 + 5 + \\\n",
    "6 + 7 + 4 + 5 + 6\n",
    "\n",
    "print(total)"
   ]
  },
  {
   "cell_type": "code",
   "execution_count": 7,
   "metadata": {},
   "outputs": [
    {
     "name": "stdout",
     "output_type": "stream",
     "text": [
      "<class 'int'>\n",
      "<class 'set'>\n"
     ]
    }
   ],
   "source": [
    "# Declared using parentheses () :\n",
    "n = (1 * 2 * 3 + 7 + 8 + 9)\n",
    "print(type(n))\n",
    "\n",
    "# Declared using square brackets [] :\n",
    "footballer = ['MESSI',\n",
    "          'NEYMAR',\n",
    "          'SUAREZ']\n",
    "\n",
    "# Declared using braces {} :\n",
    "x = {1 + 2 + 3 + 4 + 5 + 6 +\n",
    "     7 + 8 + 9}\n",
    "print(type(x))"
   ]
  },
  {
   "cell_type": "code",
   "execution_count": 8,
   "metadata": {},
   "outputs": [
    {
     "name": "stdout",
     "output_type": "stream",
     "text": [
      "15\n"
     ]
    }
   ],
   "source": [
    "## Multiple Statements on a single line\n",
    "x=5;y=10;z=x+y\n",
    "print(z)\n",
    "\n",
    "x, y, z = \"Orange\", \"Banana\", \"Cherry\"\n",
    "x = y = z = \"Orange\""
   ]
  },
  {
   "cell_type": "code",
   "execution_count": 9,
   "metadata": {},
   "outputs": [
    {
     "name": "stdout",
     "output_type": "stream",
     "text": [
      "<class 'int'>\n",
      "<class 'str'>\n"
     ]
    }
   ],
   "source": [
    "# Understand  Semantics In Python\n",
    "# variable assignment\n",
    "# Type Inference\n",
    "\n",
    "age = 32  # age is an integer\n",
    "print(type(age))\n",
    "\n",
    "name = \"Ribhav\"  # name is a string\n",
    "print(type(name))"
   ]
  },
  {
   "cell_type": "code",
   "execution_count": 10,
   "metadata": {},
   "outputs": [
    {
     "ename": "NameError",
     "evalue": "name 'b' is not defined",
     "output_type": "error",
     "traceback": [
      "\u001b[1;31m---------------------------------------------------------------------------\u001b[0m",
      "\u001b[1;31mNameError\u001b[0m                                 Traceback (most recent call last)",
      "Cell \u001b[1;32mIn[10], line 2\u001b[0m\n\u001b[0;32m      1\u001b[0m \u001b[38;5;66;03m## Name Error\u001b[39;00m\n\u001b[1;32m----> 2\u001b[0m a\u001b[38;5;241m=\u001b[39m\u001b[43mb\u001b[49m\n",
      "\u001b[1;31mNameError\u001b[0m: name 'b' is not defined"
     ]
    }
   ],
   "source": [
    "## Name Error\n",
    "a=b"
   ]
  },
  {
   "cell_type": "markdown",
   "metadata": {},
   "source": [
    "Syntax ensures the code is properly structured, while semantics ensures the code behaves as expected."
   ]
  },
  {
   "cell_type": "markdown",
   "metadata": {},
   "source": [
    "Global variables can be used by everyone, both inside of functions and outside.\n",
    "To create a global variable inside a function, you can use the global keyword.\n"
   ]
  },
  {
   "cell_type": "code",
   "execution_count": 11,
   "metadata": {},
   "outputs": [
    {
     "name": "stdout",
     "output_type": "stream",
     "text": [
      "200\n"
     ]
    }
   ],
   "source": [
    "x = 300\n",
    "\n",
    "\n",
    "def myfunc():\n",
    "    global x\n",
    "    x = 200\n",
    "\n",
    "\n",
    "myfunc()\n",
    "print(x)"
   ]
  },
  {
   "cell_type": "code",
   "execution_count": 12,
   "metadata": {},
   "outputs": [
    {
     "name": "stdout",
     "output_type": "stream",
     "text": [
      "Python is awesome\n"
     ]
    }
   ],
   "source": [
    "x = \"awesome\"\n",
    "def myfunc():\n",
    "  print(\"Python is \" + x)\n",
    "myfunc()\n"
   ]
  },
  {
   "cell_type": "markdown",
   "metadata": {},
   "source": [
    "**nonlocal** Python nonlocal keyword is used to make the variable which refers to the variable bounded in the nearest scope.\n",
    "\n",
    "Disadvantages of nonlocal:\n",
    "- nonlocal variable is not used with the global and local variable.\n",
    "- a nonlocal variable is not used for a variable which is not in nesting scope.\n"
   ]
  },
  {
   "cell_type": "code",
   "execution_count": 13,
   "metadata": {},
   "outputs": [
    {
     "name": "stdout",
     "output_type": "stream",
     "text": [
      "20\n"
     ]
    }
   ],
   "source": [
    "def fun():\n",
    "    var1 = 10\n",
    "\n",
    "    def gun():\n",
    "        # tell python explicitly that it has to access var1 initialised  in fun on line 2 using the\n",
    "        nonlocal var1\n",
    "        var1 = var1 + 10\n",
    "        print(var1)\n",
    "\n",
    "    gun()\n",
    "\n",
    "\n",
    "fun()\n",
    "\n",
    "# It will return an error when var1 is not defined in fun()."
   ]
  },
  {
   "cell_type": "markdown",
   "metadata": {},
   "source": [
    "### Variables\n",
    "Variables are fundamental elements in programming used to store data that can be referenced and manipulated in a program. In Python, variables are created when you assign a value to them, and they do not need explicit declaration to reserve memory space. The declaration happens automatically when you assign a value to a variable.\n"
   ]
  },
  {
   "cell_type": "code",
   "execution_count": 14,
   "metadata": {},
   "outputs": [
    {
     "name": "stdout",
     "output_type": "stream",
     "text": [
      "age : 32\n",
      "Height: 6.1\n",
      "Name: Ribhav\n"
     ]
    }
   ],
   "source": [
    "## Declaring And Assigning Variables\n",
    "age = 32\n",
    "height = 6.1\n",
    "name = \"Ribhav\"\n",
    "is_student = True\n",
    "\n",
    "## printing the variables\n",
    "print(\"age :\", age)\n",
    "print(\"Height:\", height)\n",
    "print(\"Name:\", name)"
   ]
  },
  {
   "cell_type": "code",
   "execution_count": 15,
   "metadata": {},
   "outputs": [],
   "source": [
    "## Naming Conventions\n",
    "## Variable names should be descriptive\n",
    "## They must start with a letter or an '_' and contains letter, numbers and underscores\n",
    "## variables names case sensitive\n",
    "\n",
    "# valid variable names\n",
    "\n",
    "first_name = \"Ribhav\"\n",
    "last_name = \"Jain\""
   ]
  },
  {
   "cell_type": "code",
   "execution_count": 16,
   "metadata": {},
   "outputs": [],
   "source": [
    "# Invalid variable names\n",
    "# 2age=30\n",
    "# first-name=\"Ribhav\"\n",
    "# @name=\"Ribhav\""
   ]
  },
  {
   "cell_type": "code",
   "execution_count": 17,
   "metadata": {},
   "outputs": [],
   "source": [
    "## Python is dynamically typed, type of a variable is determined at runtime\n",
    "age = 25  # int\n",
    "height = 6.1  # float\n",
    "name = \"Ribhav\"  # str\n",
    "is_student = True  # bool"
   ]
  },
  {
   "cell_type": "markdown",
   "metadata": {},
   "source": [
    "Casting"
   ]
  },
  {
   "cell_type": "code",
   "execution_count": 18,
   "metadata": {},
   "outputs": [
    {
     "name": "stdout",
     "output_type": "stream",
     "text": [
      "25\n",
      "<class 'str'>\n"
     ]
    }
   ],
   "source": [
    "# Type conversion\n",
    "age_str = str(age)\n",
    "print(age_str)\n",
    "print(type(age_str))"
   ]
  },
  {
   "cell_type": "code",
   "execution_count": 19,
   "metadata": {},
   "outputs": [
    {
     "name": "stdout",
     "output_type": "stream",
     "text": [
      "<class 'int'>\n"
     ]
    }
   ],
   "source": [
    "age = \"25\"\n",
    "print(type(int(age)))"
   ]
  },
  {
   "cell_type": "code",
   "execution_count": 20,
   "metadata": {},
   "outputs": [
    {
     "ename": "ValueError",
     "evalue": "invalid literal for int() with base 10: 'Ribhav'",
     "output_type": "error",
     "traceback": [
      "\u001b[1;31m---------------------------------------------------------------------------\u001b[0m",
      "\u001b[1;31mValueError\u001b[0m                                Traceback (most recent call last)",
      "Cell \u001b[1;32mIn[20], line 2\u001b[0m\n\u001b[0;32m      1\u001b[0m name\u001b[38;5;241m=\u001b[39m\u001b[38;5;124m\"\u001b[39m\u001b[38;5;124mRibhav\u001b[39m\u001b[38;5;124m\"\u001b[39m\n\u001b[1;32m----> 2\u001b[0m \u001b[38;5;28;43mint\u001b[39;49m\u001b[43m(\u001b[49m\u001b[43mname\u001b[49m\u001b[43m)\u001b[49m\n",
      "\u001b[1;31mValueError\u001b[0m: invalid literal for int() with base 10: 'Ribhav'"
     ]
    }
   ],
   "source": [
    "name=\"Ribhav\"\n",
    "int(name)"
   ]
  },
  {
   "cell_type": "code",
   "execution_count": 21,
   "metadata": {},
   "outputs": [
    {
     "data": {
      "text/plain": [
       "5.0"
      ]
     },
     "execution_count": 21,
     "metadata": {},
     "output_type": "execute_result"
    }
   ],
   "source": [
    "height = 5.11\n",
    "type(height)\n",
    "float(int(height))"
   ]
  },
  {
   "cell_type": "code",
   "execution_count": 22,
   "metadata": {},
   "outputs": [
    {
     "name": "stdout",
     "output_type": "stream",
     "text": [
      "10 <class 'int'>\n",
      "Hello <class 'str'>\n",
      "3.14 <class 'float'>\n"
     ]
    }
   ],
   "source": [
    "## Dynamic Typing\n",
    "## Python allows the type of a variable to change as the program executes\n",
    "var = 10  # int\n",
    "print(var, type(var))\n",
    "\n",
    "var = \"Hello\"\n",
    "print(var, type(var))\n",
    "\n",
    "var = 3.14\n",
    "print(var, type(var))"
   ]
  },
  {
   "cell_type": "code",
   "execution_count": 23,
   "metadata": {},
   "outputs": [
    {
     "name": "stdout",
     "output_type": "stream",
     "text": [
      "26 <class 'int'>\n"
     ]
    }
   ],
   "source": [
    "## input\n",
    "\n",
    "age = int(input(\"What is the age\"))\n",
    "print(age, type(age))"
   ]
  },
  {
   "cell_type": "code",
   "execution_count": 24,
   "metadata": {},
   "outputs": [
    {
     "name": "stdout",
     "output_type": "stream",
     "text": [
      "Sum: 26.0\n",
      "Difference: -2.0\n",
      "Product: 168.0\n",
      "Quotient: 0.8571428571428571\n"
     ]
    }
   ],
   "source": [
    "### Simple calculator\n",
    "num1 = float(input(\"Enter first number: \"))\n",
    "num2 = float(input(\"Enter second number: \"))\n",
    "\n",
    "sum = num1 + num2\n",
    "difference = num1 - num2\n",
    "product = num1 * num2\n",
    "quotient = num1 / num2\n",
    "\n",
    "print(\"Sum:\", sum)\n",
    "print(\"Difference:\", difference)\n",
    "print(\"Product:\", product)\n",
    "print(\"Quotient:\", quotient)"
   ]
  },
  {
   "cell_type": "markdown",
   "metadata": {},
   "source": [
    "## DataTypes\n",
    "#### 1. Definition:\n",
    "\n",
    "- Data types are a classification of data which tell the compiler or interpreter how the programmer intends to use the data.\n",
    "- They determine the type of operations that can be performed on the data, the values that the data can take, and the amount of memory needed to store the data.\n",
    "\n",
    "#### 2. Importance of Data Types in Programming\n",
    "Explanation:\n",
    "\n",
    "- Data types ensure that data is stored in an efficient way.\n",
    "- They help in performing correct operations on data.\n",
    "- Proper use of data types can prevent errors and bugs in the program."
   ]
  },
  {
   "cell_type": "markdown",
   "metadata": {},
   "source": [
    "1. Basic Data Types\n",
    "   - Integers\n",
    "   - Floating-point numbers\n",
    "   - Strings\n",
    "   - Booleans\n",
    "2. Advanced Data Types\n",
    "   - Lists\n",
    "   - Tuples\n",
    "   - Sets\n",
    "   - Dictionaries\n"
   ]
  },
  {
   "cell_type": "code",
   "execution_count": 25,
   "metadata": {},
   "outputs": [
    {
     "data": {
      "text/plain": [
       "int"
      ]
     },
     "execution_count": 25,
     "metadata": {},
     "output_type": "execute_result"
    }
   ],
   "source": [
    "## Integer Example\n",
    "age = 35\n",
    "type(age)"
   ]
  },
  {
   "cell_type": "code",
   "execution_count": 26,
   "metadata": {},
   "outputs": [
    {
     "name": "stdout",
     "output_type": "stream",
     "text": [
      "5.11\n",
      "<class 'float'>\n"
     ]
    }
   ],
   "source": [
    "## Floating point datatype\n",
    "height = 5.11\n",
    "print(height)\n",
    "print(type(height))"
   ]
  },
  {
   "cell_type": "code",
   "execution_count": 27,
   "metadata": {},
   "outputs": [
    {
     "name": "stdout",
     "output_type": "stream",
     "text": [
      "Ribhav\n",
      "<class 'str'>\n"
     ]
    }
   ],
   "source": [
    "## string datatype example\n",
    "name = \"Ribhav\"\n",
    "print(name)\n",
    "print(type(name))"
   ]
  },
  {
   "cell_type": "code",
   "execution_count": 28,
   "metadata": {},
   "outputs": [
    {
     "name": "stdout",
     "output_type": "stream",
     "text": [
      "Jello, World!\n",
      "['Hello', ' World!']\n"
     ]
    }
   ],
   "source": [
    "# String Functions:\n",
    "# All string methods return new values. They do not change the original string.\n",
    "\n",
    "a = \" Hello, World! \"\n",
    "a.lower()\n",
    "a.upper()\n",
    "# strip()- removes any whitespace from the beginning or the end\n",
    "\n",
    "# replace()- replaces a string with another string\n",
    "a = \"Hello, World!\"\n",
    "print(a.replace(\"H\", \"J\"))\n",
    "\n",
    "a = \"Hello, World!\"\n",
    "print(a.split(\",\"))  # returns list ['Hello', ' World!']"
   ]
  },
  {
   "cell_type": "code",
   "execution_count": 29,
   "metadata": {},
   "outputs": [
    {
     "data": {
      "text/plain": [
       "bool"
      ]
     },
     "execution_count": 29,
     "metadata": {},
     "output_type": "execute_result"
    }
   ],
   "source": [
    "## boolean datatype\n",
    "is_true = True\n",
    "type(is_true)"
   ]
  },
  {
   "cell_type": "code",
   "execution_count": 30,
   "metadata": {},
   "outputs": [
    {
     "data": {
      "text/plain": [
       "bool"
      ]
     },
     "execution_count": 30,
     "metadata": {},
     "output_type": "execute_result"
    }
   ],
   "source": [
    "a = 10\n",
    "b = 10\n",
    "\n",
    "type(a == b)"
   ]
  },
  {
   "cell_type": "code",
   "execution_count": 31,
   "metadata": {},
   "outputs": [
    {
     "ename": "TypeError",
     "evalue": "can only concatenate str (not \"int\") to str",
     "output_type": "error",
     "traceback": [
      "\u001b[1;31m---------------------------------------------------------------------------\u001b[0m",
      "\u001b[1;31mTypeError\u001b[0m                                 Traceback (most recent call last)",
      "Cell \u001b[1;32mIn[31], line 3\u001b[0m\n\u001b[0;32m      1\u001b[0m \u001b[38;5;66;03m## common errors\u001b[39;00m\n\u001b[1;32m----> 3\u001b[0m result \u001b[38;5;241m=\u001b[39m \u001b[38;5;124;43m\"\u001b[39;49m\u001b[38;5;124;43mHello\u001b[39;49m\u001b[38;5;124;43m\"\u001b[39;49m\u001b[43m \u001b[49m\u001b[38;5;241;43m+\u001b[39;49m\u001b[43m \u001b[49m\u001b[38;5;241;43m5\u001b[39;49m\n",
      "\u001b[1;31mTypeError\u001b[0m: can only concatenate str (not \"int\") to str"
     ]
    }
   ],
   "source": [
    "## common errors\n",
    "\n",
    "result = \"Hello\" + 5"
   ]
  },
  {
   "cell_type": "code",
   "execution_count": 33,
   "metadata": {},
   "outputs": [
    {
     "name": "stdout",
     "output_type": "stream",
     "text": [
      "Hello5\n"
     ]
    }
   ],
   "source": [
    "result = \"Hello\" + str(5)\n",
    "print(result)"
   ]
  },
  {
   "cell_type": "markdown",
   "metadata": {},
   "source": [
    "## Operators\n",
    "\n",
    "1. Introduction to Operators\n",
    "2. Arithmetic Operators\n",
    "   - Addition\n",
    "   - Subtraction\n",
    "   - Multiplication\n",
    "   - Division\n",
    "   - Floor Division\n",
    "   - Modulus\n",
    "   - Exponentiation\n",
    "3. Comparison Operators\n",
    "   - Equal to\n",
    "   - Not equal to\n",
    "   - Greater than\n",
    "   - Less than\n",
    "   - Greater than or equal to \n",
    "   - Less than or equal to\n",
    "4. Logical Operators\n",
    "   - AND\n",
    "   - OR\n",
    "   - NOT\n"
   ]
  },
  {
   "cell_type": "code",
   "execution_count": 34,
   "metadata": {},
   "outputs": [
    {
     "name": "stdout",
     "output_type": "stream",
     "text": [
      "15\n",
      "5\n",
      "50\n",
      "2.0\n",
      "2\n",
      "0\n",
      "100000\n"
     ]
    }
   ],
   "source": [
    "## Arithmethic Operation\n",
    "\n",
    "a = 10\n",
    "b = 5\n",
    "\n",
    "add_result = a + b  # addiiton\n",
    "sub_result = a - b  # subtraction\n",
    "mult_result = a * b  # multiplication\n",
    "div_result = a / b  # division\n",
    "floor_div_result = a // b  ## floor division\n",
    "modulus_result = a % b  # modulus operation\n",
    "\n",
    "exponent_result = a**b  ## Exponentiation\n",
    "\n",
    "\n",
    "print(add_result)\n",
    "print(sub_result)\n",
    "print(mult_result)\n",
    "print(div_result)\n",
    "print(floor_div_result)\n",
    "print(modulus_result)\n",
    "print(exponent_result)"
   ]
  },
  {
   "cell_type": "code",
   "execution_count": 35,
   "metadata": {},
   "outputs": [
    {
     "data": {
      "text/plain": [
       "True"
      ]
     },
     "execution_count": 35,
     "metadata": {},
     "output_type": "execute_result"
    }
   ],
   "source": [
    "## Comparison Operators\n",
    "## == Equal to\n",
    "a = 10\n",
    "b = 10\n",
    "\n",
    "a == b"
   ]
  },
  {
   "cell_type": "code",
   "execution_count": 37,
   "metadata": {},
   "outputs": [
    {
     "data": {
      "text/plain": [
       "False"
      ]
     },
     "execution_count": 37,
     "metadata": {},
     "output_type": "execute_result"
    }
   ],
   "source": [
    "## Not Equal to !=\n",
    "a != b"
   ]
  },
  {
   "cell_type": "code",
   "execution_count": 38,
   "metadata": {},
   "outputs": [
    {
     "data": {
      "text/plain": [
       "False"
      ]
     },
     "execution_count": 38,
     "metadata": {},
     "output_type": "execute_result"
    }
   ],
   "source": [
    "# greater than >\n",
    "\n",
    "num1 = 45\n",
    "num2 = 55\n",
    "\n",
    "num1 > num2"
   ]
  },
  {
   "cell_type": "code",
   "execution_count": 39,
   "metadata": {},
   "outputs": [
    {
     "name": "stdout",
     "output_type": "stream",
     "text": [
      "True\n"
     ]
    }
   ],
   "source": [
    "## less than <\n",
    "\n",
    "print(num1 < num2)"
   ]
  },
  {
   "cell_type": "code",
   "execution_count": 40,
   "metadata": {},
   "outputs": [
    {
     "name": "stdout",
     "output_type": "stream",
     "text": [
      "True\n"
     ]
    }
   ],
   "source": [
    "# greater than or equal to\n",
    "number1 = 45\n",
    "number2 = 45\n",
    "\n",
    "print(number1 >= number2)"
   ]
  },
  {
   "cell_type": "code",
   "execution_count": 41,
   "metadata": {},
   "outputs": [
    {
     "name": "stdout",
     "output_type": "stream",
     "text": [
      "True\n"
     ]
    }
   ],
   "source": [
    "# less than or equal to\n",
    "number1 = 44\n",
    "number2 = 45\n",
    "\n",
    "print(number1 <= number2)"
   ]
  },
  {
   "cell_type": "code",
   "execution_count": 42,
   "metadata": {},
   "outputs": [
    {
     "name": "stdout",
     "output_type": "stream",
     "text": [
      "True\n",
      "False\n"
     ]
    }
   ],
   "source": [
    "## And, Not, OR\n",
    "X = True\n",
    "Y = True\n",
    "\n",
    "result = X and Y\n",
    "print(result)\n",
    "\n",
    "X = False\n",
    "Y = True\n",
    "\n",
    "result = X and Y\n",
    "print(result)"
   ]
  },
  {
   "cell_type": "code",
   "execution_count": 43,
   "metadata": {},
   "outputs": [
    {
     "name": "stdout",
     "output_type": "stream",
     "text": [
      "False\n"
     ]
    }
   ],
   "source": [
    "## OR\n",
    "X = False\n",
    "Y = False\n",
    "\n",
    "result = X or Y\n",
    "print(result)"
   ]
  },
  {
   "cell_type": "code",
   "execution_count": 44,
   "metadata": {},
   "outputs": [
    {
     "data": {
      "text/plain": [
       "True"
      ]
     },
     "execution_count": 44,
     "metadata": {},
     "output_type": "execute_result"
    }
   ],
   "source": [
    "# Not operator\n",
    "X = False\n",
    "not X"
   ]
  },
  {
   "cell_type": "code",
   "execution_count": 45,
   "metadata": {},
   "outputs": [
    {
     "name": "stdout",
     "output_type": "stream",
     "text": [
      "No, 'expensive' is NOT present.\n"
     ]
    }
   ],
   "source": [
    "txt = \"The best things in life are free!\"\n",
    "if \"expensive\" not in txt:\n",
    "    print(\"No, 'expensive' is NOT present.\")"
   ]
  },
  {
   "cell_type": "markdown",
   "metadata": {},
   "source": [
    "### Bitwise Operators\n",
    "\n",
    "Bitwise operators are used to compare binary numbers.\n",
    "\n",
    "| Operator | Name | Description                                | Example                          |\n",
    "|----------|------|--------------------------------------------|----------------------------------|\n",
    "| `&`      | AND  | Sets each bit to 1 if both bits are 1      | `5 & 3` = `1` (0101 & 0011 = 0001) |\n",
    "| `|`      | OR   | Sets each bit to 1 if one of two bits is 1 | `5 | 3` = `7` (0101 | 0011 = 0111) |\n",
    "| `^`      | XOR  | Sets each bit to 1 if only one of two bits is 1 | `5 ^ 3` = `6` (0101 ^ 0011 = 0110) |\n",
    "| `~`      | NOT  | Inverts all the bits                       | `~5` = `-6` (inverts 0101 to 1010 in 2's complement) |\n"
   ]
  },
  {
   "cell_type": "code",
   "execution_count": 46,
   "metadata": {},
   "outputs": [
    {
     "data": {
      "text/plain": [
       "1"
      ]
     },
     "execution_count": 46,
     "metadata": {},
     "output_type": "execute_result"
    }
   ],
   "source": [
    "5 & 3"
   ]
  },
  {
   "cell_type": "markdown",
   "metadata": {},
   "source": [
    "### Control Flow\n",
    "\n",
    "#### Conditional Statements (if, elif, else)\n",
    "\n",
    "1. Introduction to Conditional Statements\n",
    "2. if Statement\n",
    "3. else Statement\n",
    "4. elif Statement\n",
    "5. Nested Conditional Statements\n"
   ]
  },
  {
   "cell_type": "code",
   "execution_count": 47,
   "metadata": {},
   "outputs": [
    {
     "name": "stdout",
     "output_type": "stream",
     "text": [
      "You are allowed to vote in the elections\n"
     ]
    }
   ],
   "source": [
    "## if statement\n",
    "age = 20\n",
    "\n",
    "if age >= 18:\n",
    "    print(\"You are allowed to vote in the elections\")"
   ]
  },
  {
   "cell_type": "code",
   "execution_count": 48,
   "metadata": {},
   "outputs": [
    {
     "name": "stdout",
     "output_type": "stream",
     "text": [
      "You are a minor\n"
     ]
    }
   ],
   "source": [
    "## else\n",
    "## The else statement executes a block of code if the condition in the if statement is False.\n",
    "\n",
    "age = 16\n",
    "\n",
    "if age >= 18:\n",
    "    print(\"You are eligible for voting\")\n",
    "else:\n",
    "    print(\"You are a minor\")"
   ]
  },
  {
   "cell_type": "code",
   "execution_count": 49,
   "metadata": {},
   "outputs": [
    {
     "name": "stdout",
     "output_type": "stream",
     "text": [
      "You are a teenager\n"
     ]
    }
   ],
   "source": [
    "## elif\n",
    "## The elif statement allows you to check multiple conditions. It stands for \"else if\"\n",
    "\n",
    "age = 17\n",
    "\n",
    "if age < 13:\n",
    "    print(\"You are a child\")\n",
    "elif age < 18:\n",
    "    print(\"You are a teenager\")\n",
    "else:\n",
    "    print(\"You are an adult\")"
   ]
  },
  {
   "cell_type": "code",
   "execution_count": 50,
   "metadata": {},
   "outputs": [
    {
     "name": "stdout",
     "output_type": "stream",
     "text": [
      "The number is positive\n",
      "The number is odd\n"
     ]
    }
   ],
   "source": [
    "## Nested Conditional Statements\n",
    "\n",
    "# You can place one or more if, elif, or else statements inside another if, elif, or else statement to create nested conditional statements.\n",
    "\n",
    "## number even, odd, negative\n",
    "\n",
    "num = int(input(\"Enter the number\"))\n",
    "\n",
    "if num > 0:\n",
    "    print(\"The number is positive\")\n",
    "    if num % 2 == 0:\n",
    "        print(\"The number is even\")\n",
    "    else:\n",
    "        print(\"The number is odd\")\n",
    "\n",
    "else:\n",
    "    print(\"The number is zero or negative\")"
   ]
  },
  {
   "cell_type": "code",
   "execution_count": 51,
   "metadata": {},
   "outputs": [
    {
     "name": "stdout",
     "output_type": "stream",
     "text": [
      "1\n"
     ]
    }
   ],
   "source": [
    "# Ternary operator:\n",
    "a = 1 if 20 > 10 else 0\n",
    "print(a)"
   ]
  },
  {
   "cell_type": "markdown",
   "metadata": {},
   "source": [
    "1. Introduction to Loops\n",
    "2. for Loop\n",
    "   - Iterating over a range\n",
    "   - Iterating over a string\n",
    "\n",
    "3. while Loop\n",
    "4. Loop Control Statements\n",
    "    - break\n",
    "    - continue\n",
    "    - pass\n",
    "5. Nested Loops"
   ]
  },
  {
   "cell_type": "code",
   "execution_count": 52,
   "metadata": {},
   "outputs": [
    {
     "data": {
      "text/plain": [
       "range(0, 5)"
      ]
     },
     "execution_count": 52,
     "metadata": {},
     "output_type": "execute_result"
    }
   ],
   "source": [
    "range(5)"
   ]
  },
  {
   "cell_type": "code",
   "execution_count": 53,
   "metadata": {},
   "outputs": [
    {
     "name": "stdout",
     "output_type": "stream",
     "text": [
      "0\n",
      "1\n",
      "2\n",
      "3\n",
      "4\n"
     ]
    }
   ],
   "source": [
    "## for loop\n",
    "\n",
    "for i in range(5):\n",
    "    print(i)"
   ]
  },
  {
   "cell_type": "code",
   "execution_count": 54,
   "metadata": {},
   "outputs": [
    {
     "name": "stdout",
     "output_type": "stream",
     "text": [
      "1\n",
      "2\n",
      "3\n",
      "4\n",
      "5\n"
     ]
    }
   ],
   "source": [
    "for i in range(1, 6):\n",
    "    print(i)"
   ]
  },
  {
   "cell_type": "code",
   "execution_count": 55,
   "metadata": {},
   "outputs": [
    {
     "name": "stdout",
     "output_type": "stream",
     "text": [
      "1\n",
      "3\n",
      "5\n",
      "7\n",
      "9\n"
     ]
    }
   ],
   "source": [
    "for i in range(1, 10, 2):\n",
    "    print(i)"
   ]
  },
  {
   "cell_type": "code",
   "execution_count": 56,
   "metadata": {},
   "outputs": [
    {
     "name": "stdout",
     "output_type": "stream",
     "text": [
      "10\n",
      "9\n",
      "8\n",
      "7\n",
      "6\n",
      "5\n",
      "4\n",
      "3\n",
      "2\n"
     ]
    }
   ],
   "source": [
    "for i in range(10, 1, -1):\n",
    "    print(i)"
   ]
  },
  {
   "cell_type": "code",
   "execution_count": 57,
   "metadata": {},
   "outputs": [
    {
     "name": "stdout",
     "output_type": "stream",
     "text": [
      "R\n",
      "i\n",
      "b\n",
      "h\n",
      "a\n",
      "v\n",
      " \n",
      "J\n",
      "a\n",
      "i\n",
      "n\n"
     ]
    }
   ],
   "source": [
    "## strings\n",
    "\n",
    "str = \"Ribhav Jain\"\n",
    "\n",
    "for i in str:\n",
    "    print(i)"
   ]
  },
  {
   "cell_type": "code",
   "execution_count": 58,
   "metadata": {},
   "outputs": [
    {
     "name": "stdout",
     "output_type": "stream",
     "text": [
      "0\n",
      "1\n",
      "2\n",
      "3\n",
      "4\n"
     ]
    }
   ],
   "source": [
    "## while loop\n",
    "\n",
    "## The while loop continues to execute as long as the condition is True.\n",
    "\n",
    "count = 0\n",
    "\n",
    "while count < 5:\n",
    "    print(count)\n",
    "    count = count + 1"
   ]
  },
  {
   "cell_type": "code",
   "execution_count": 59,
   "metadata": {},
   "outputs": [
    {
     "name": "stdout",
     "output_type": "stream",
     "text": [
      "0\n",
      "1\n",
      "2\n",
      "3\n",
      "4\n"
     ]
    }
   ],
   "source": [
    "## Loop Control Statements\n",
    "\n",
    "## break\n",
    "## The break statement exits the loop permaturely\n",
    "\n",
    "for i in range(10):\n",
    "    if i == 5:\n",
    "        break\n",
    "    print(i)"
   ]
  },
  {
   "cell_type": "code",
   "execution_count": 60,
   "metadata": {},
   "outputs": [
    {
     "name": "stdout",
     "output_type": "stream",
     "text": [
      "1\n",
      "3\n",
      "5\n",
      "7\n",
      "9\n"
     ]
    }
   ],
   "source": [
    "## continue\n",
    "\n",
    "## The continue statement skips the current iteration and continues with the next.\n",
    "\n",
    "for i in range(10):\n",
    "    if i % 2 == 0:\n",
    "        continue\n",
    "    print(i)"
   ]
  },
  {
   "cell_type": "code",
   "execution_count": 61,
   "metadata": {},
   "outputs": [
    {
     "name": "stdout",
     "output_type": "stream",
     "text": [
      "0\n",
      "1\n",
      "2\n",
      "3\n",
      "4\n"
     ]
    }
   ],
   "source": [
    "## pass\n",
    "## The pass statement is a null operation; it does nothing.\n",
    "# pass is the null statement in python. Nothing happens when this is encountered. This is used to prevent indentation errors and used as a placeholder.\n",
    "\n",
    "for i in range(5):\n",
    "    if i == 3:\n",
    "        pass\n",
    "    print(i)"
   ]
  },
  {
   "cell_type": "code",
   "execution_count": 62,
   "metadata": {},
   "outputs": [
    {
     "name": "stdout",
     "output_type": "stream",
     "text": [
      "i:0 and j:0\n",
      "i:0 and j:1\n",
      "i:1 and j:0\n",
      "i:1 and j:1\n",
      "i:2 and j:0\n",
      "i:2 and j:1\n"
     ]
    }
   ],
   "source": [
    "## Nested loopss\n",
    "## a loop inside a loop\n",
    "\n",
    "for i in range(3):\n",
    "    for j in range(2):\n",
    "        print(f\"i:{i} and j:{j}\")"
   ]
  },
  {
   "cell_type": "markdown",
   "metadata": {},
   "source": [
    "#### Introduction To Lists\n",
    "- Lists are ordered, mutable collections of items.\n",
    "- List items are ordered, changeable, and allow duplicate values.\n",
    "- They can contain items of different data types."
   ]
  },
  {
   "cell_type": "code",
   "execution_count": 63,
   "metadata": {},
   "outputs": [
    {
     "name": "stdout",
     "output_type": "stream",
     "text": [
      "<class 'list'>\n",
      "['Ribhav', 'Jain', 1, 2, 3, 4, 5]\n",
      "[1, 'Hello', 3.14, True]\n"
     ]
    }
   ],
   "source": [
    "lst = []\n",
    "print(type(lst))\n",
    "\n",
    "names = [\"Ribhav\", \"Jain\", 1, 2, 3, 4, 5]\n",
    "print(names)\n",
    "\n",
    "mixed_list = [1, \"Hello\", 3.14, True]\n",
    "print(mixed_list)"
   ]
  },
  {
   "cell_type": "code",
   "execution_count": 64,
   "metadata": {},
   "outputs": [
    {
     "name": "stdout",
     "output_type": "stream",
     "text": [
      "apple\n",
      "cherry\n",
      "gauva\n",
      "gauva\n"
     ]
    }
   ],
   "source": [
    "### Accessing List Elements\n",
    "\n",
    "fruits = [\"apple\", \"banana\", \"cherry\", \"kiwi\", \"gauva\"]\n",
    "print(fruits[0])\n",
    "print(fruits[2])\n",
    "print(fruits[4])\n",
    "print(fruits[-1])"
   ]
  },
  {
   "cell_type": "code",
   "execution_count": 65,
   "metadata": {},
   "outputs": [
    {
     "name": "stdout",
     "output_type": "stream",
     "text": [
      "['banana', 'cherry', 'kiwi', 'gauva']\n",
      "['banana', 'cherry']\n"
     ]
    }
   ],
   "source": [
    "print(fruits[1:])\n",
    "print(fruits[1:3])"
   ]
  },
  {
   "cell_type": "code",
   "execution_count": 66,
   "metadata": {},
   "outputs": [
    {
     "name": "stdout",
     "output_type": "stream",
     "text": [
      "['apple', 'watermelon', 'cherry', 'kiwi', 'gauva']\n"
     ]
    }
   ],
   "source": [
    "fruits[1] = \"watermelon\"\n",
    "print(fruits)"
   ]
  },
  {
   "cell_type": "code",
   "execution_count": 67,
   "metadata": {},
   "outputs": [
    {
     "data": {
      "text/plain": [
       "['apple', 'w', 'a', 't', 'e', 'r', 'm', 'e', 'l', 'o', 'n']"
      ]
     },
     "execution_count": 67,
     "metadata": {},
     "output_type": "execute_result"
    }
   ],
   "source": [
    "fruits[1:] = \"watermelon\"\n",
    "fruits"
   ]
  },
  {
   "cell_type": "code",
   "execution_count": 68,
   "metadata": {},
   "outputs": [
    {
     "name": "stdout",
     "output_type": "stream",
     "text": [
      "['apple', 'banana', 'cherry', 'kiwi', 'gauva', 'orange']\n"
     ]
    }
   ],
   "source": [
    "## List Methods\n",
    "fruits = [\"apple\", \"banana\", \"cherry\", \"kiwi\", \"gauva\"]\n",
    "fruits.append(\"orange\")  ## Add an item to the end\n",
    "print(fruits)"
   ]
  },
  {
   "cell_type": "code",
   "execution_count": 69,
   "metadata": {},
   "outputs": [
    {
     "name": "stdout",
     "output_type": "stream",
     "text": [
      "['apple', 'cherry', 'kiwi', 'gauva', 'orange']\n"
     ]
    }
   ],
   "source": [
    "fruits.remove(\"banana\") ## Removing the first occurance of an item\n",
    "print(fruits)"
   ]
  },
  {
   "cell_type": "code",
   "execution_count": 70,
   "metadata": {},
   "outputs": [
    {
     "name": "stdout",
     "output_type": "stream",
     "text": [
      "orange\n",
      "['apple', 'cherry', 'kiwi', 'gauva']\n"
     ]
    }
   ],
   "source": [
    "## Remove and return the last element\n",
    "popped_fruits = fruits.pop()\n",
    "print(popped_fruits)\n",
    "print(fruits)"
   ]
  },
  {
   "cell_type": "code",
   "execution_count": 71,
   "metadata": {},
   "outputs": [
    {
     "name": "stdout",
     "output_type": "stream",
     "text": [
      "1\n"
     ]
    }
   ],
   "source": [
    "index = fruits.index(\"cherry\")\n",
    "print(index)"
   ]
  },
  {
   "cell_type": "code",
   "execution_count": 72,
   "metadata": {},
   "outputs": [
    {
     "name": "stdout",
     "output_type": "stream",
     "text": [
      "1\n"
     ]
    }
   ],
   "source": [
    "fruits.insert(2, \"banana\")\n",
    "print(fruits.count(\"banana\"))\n"
   ]
  },
  {
   "cell_type": "code",
   "execution_count": 73,
   "metadata": {},
   "outputs": [],
   "source": [
    "# The extend() method does not have to append lists, you can add any iterable object (tuples, sets, dictionaries etc.)\n",
    "thislist = [\"apple\", \"banana\", \"cherry\"]\n",
    "tropical = [\"mango\", \"pineapple\", \"papaya\"]\n",
    "thislist.extend(tropical)"
   ]
  },
  {
   "cell_type": "markdown",
   "metadata": {},
   "source": [
    "The del keyword can also delete the list completely.\n",
    "\n",
    "- del thislist[0]\n",
    "- del thislist"
   ]
  },
  {
   "cell_type": "code",
   "execution_count": 74,
   "metadata": {},
   "outputs": [],
   "source": [
    "fruits.sort()  ## Sorts the list in ascending order\n",
    "fruits.sort(reverse=True)"
   ]
  },
  {
   "cell_type": "code",
   "execution_count": 75,
   "metadata": {},
   "outputs": [],
   "source": [
    "def myfunc(n):\n",
    "    return abs(n - 50)\n",
    "\n",
    "\n",
    "thislist = [100, 50, 65, 82, 23]\n",
    "thislist.sort(key=myfunc)"
   ]
  },
  {
   "cell_type": "code",
   "execution_count": 77,
   "metadata": {},
   "outputs": [
    {
     "data": {
      "text/plain": [
       "['apple', 'banana', 'cherry', 'gauva', 'kiwi']"
      ]
     },
     "execution_count": 77,
     "metadata": {},
     "output_type": "execute_result"
    }
   ],
   "source": [
    "fruits.reverse() ## Reverse the list\n",
    "fruits"
   ]
  },
  {
   "cell_type": "code",
   "execution_count": 78,
   "metadata": {},
   "outputs": [
    {
     "name": "stdout",
     "output_type": "stream",
     "text": [
      "[]\n"
     ]
    }
   ],
   "source": [
    "fruits.clear()  ## Remove all items from the list\n",
    "print(fruits)"
   ]
  },
  {
   "cell_type": "code",
   "execution_count": 79,
   "metadata": {},
   "outputs": [
    {
     "name": "stdout",
     "output_type": "stream",
     "text": [
      "llo\n",
      "Hello\n",
      "llo, World!\n",
      "orl\n",
      "[3, 4, 5]\n",
      "[1, 2, 3, 4, 5]\n",
      "[6, 7, 8, 9, 10]\n",
      "[1, 3, 5, 7, 9]\n",
      "[10, 9, 8, 7, 6, 5, 4, 3, 2, 1]\n"
     ]
    }
   ],
   "source": [
    "## Slicing List\n",
    "\n",
    "b = \"Hello, World!\"\n",
    "print(b[2:5])\n",
    "print(b[:5])  # Get the characters from the start to position 5 (5 is not included)\n",
    "print(b[2:])  # Get the characters from position 2, and all the way to the end\n",
    "print(b[-5:-2])  # From: \"o\" in \"World!\" to \"d\" but not included\n",
    "\n",
    "\n",
    "numbers = [1, 2, 3, 4, 5, 6, 7, 8, 9, 10]\n",
    "print(numbers[2:5])\n",
    "print(numbers[:5])\n",
    "print(numbers[5:])\n",
    "print(numbers[::2])\n",
    "\n",
    "print(numbers[::-1])"
   ]
  },
  {
   "cell_type": "code",
   "execution_count": 80,
   "metadata": {},
   "outputs": [
    {
     "name": "stdout",
     "output_type": "stream",
     "text": [
      "0 1\n",
      "1 2\n",
      "2 3\n",
      "3 4\n",
      "4 5\n",
      "5 6\n",
      "6 7\n",
      "7 8\n",
      "8 9\n",
      "9 10\n"
     ]
    }
   ],
   "source": [
    "## Iterating with index\n",
    "for index, number in enumerate(numbers):\n",
    "    print(index, number)"
   ]
  },
  {
   "cell_type": "markdown",
   "metadata": {},
   "source": [
    "##### List Comprehension\n",
    "\n",
    "Basic Syntax            [expression for item in iterable]\n",
    "\n",
    "with conditional logic    [expression for item in iterable if condition]\n",
    "\n",
    "Nested List Comprehension [expression for item1 in iterable1 for item2 in iterable2]\n",
    "\n",
    "\n"
   ]
  },
  {
   "cell_type": "code",
   "execution_count": 81,
   "metadata": {},
   "outputs": [
    {
     "name": "stdout",
     "output_type": "stream",
     "text": [
      "[0, 1, 4, 9, 16, 25, 36, 49, 64, 81]\n"
     ]
    }
   ],
   "source": [
    "## List comprehension\n",
    "lst = []\n",
    "for x in range(10):\n",
    "    lst.append(x**2)\n",
    "\n",
    "print(lst)"
   ]
  },
  {
   "cell_type": "code",
   "execution_count": 82,
   "metadata": {},
   "outputs": [
    {
     "data": {
      "text/plain": [
       "[0, 1, 4, 9, 16, 25, 36, 49, 64, 81]"
      ]
     },
     "execution_count": 82,
     "metadata": {},
     "output_type": "execute_result"
    }
   ],
   "source": [
    "[x**2 for x in range(10)]"
   ]
  },
  {
   "cell_type": "code",
   "execution_count": 83,
   "metadata": {},
   "outputs": [
    {
     "name": "stdout",
     "output_type": "stream",
     "text": [
      "[0, 2, 4, 6, 8]\n",
      "[0, 2, 4, 6, 8]\n"
     ]
    }
   ],
   "source": [
    "### List Comprehension with Condition\n",
    "lst = []\n",
    "for i in range(10):\n",
    "    if i % 2 == 0:\n",
    "        lst.append(i)\n",
    "\n",
    "print(lst)\n",
    "\n",
    "even_numbers = [num for num in range(10) if num % 2 == 0]\n",
    "print(even_numbers)"
   ]
  },
  {
   "cell_type": "code",
   "execution_count": 84,
   "metadata": {},
   "outputs": [
    {
     "name": "stdout",
     "output_type": "stream",
     "text": [
      "[[1, 'a'], [1, 'b'], [1, 'c'], [1, 'd'], [2, 'a'], [2, 'b'], [2, 'c'], [2, 'd'], [3, 'a'], [3, 'b'], [3, 'c'], [3, 'd'], [4, 'a'], [4, 'b'], [4, 'c'], [4, 'd']]\n"
     ]
    }
   ],
   "source": [
    "## Nested List Comphrension\n",
    "\n",
    "lst1 = [1, 2, 3, 4]\n",
    "lst2 = [\"a\", \"b\", \"c\", \"d\"]\n",
    "\n",
    "pair = [[i, j] for i in lst1 for j in lst2]\n",
    "\n",
    "print(pair)"
   ]
  },
  {
   "cell_type": "code",
   "execution_count": 85,
   "metadata": {},
   "outputs": [
    {
     "name": "stdout",
     "output_type": "stream",
     "text": [
      "[5, 5, 6, 4, 13]\n"
     ]
    }
   ],
   "source": [
    "## List Comprehension with function calls\n",
    "words = [\"hello\", \"world\", \"python\", \"list\", \"comprehension\"]\n",
    "lengths = [len(word) for word in words]\n",
    "print(lengths)  # Output: [5, 5, 6, 4, 13]"
   ]
  },
  {
   "cell_type": "markdown",
   "metadata": {},
   "source": [
    "List comprehensions are a powerful and concise way to create lists in Python. They are syntactically compact and can replace more verbose looping constructs. Understanding the syntax of list comprehensions will help you write cleaner and more efficient Python code."
   ]
  },
  {
   "cell_type": "markdown",
   "metadata": {},
   "source": [
    "Tuples are ordered collections of items that are immutable.\n",
    "They are similar to lists, but their immutability makes them different.\n",
    "Allows duplicate members.\n"
   ]
  },
  {
   "cell_type": "code",
   "execution_count": 86,
   "metadata": {},
   "outputs": [],
   "source": [
    "thistuple = \"apple\"  # NOT a tuple\n",
    "thistuple = (\"apple\",)  # Tuple"
   ]
  },
  {
   "cell_type": "code",
   "execution_count": 87,
   "metadata": {},
   "outputs": [
    {
     "name": "stdout",
     "output_type": "stream",
     "text": [
      "()\n",
      "<class 'tuple'>\n",
      "3\n",
      "6\n",
      "(1, 'Hello World', 3.14, True)\n"
     ]
    }
   ],
   "source": [
    "## creating a tuple\n",
    "empty_tuple = ()\n",
    "print(empty_tuple)\n",
    "print(type(empty_tuple))\n",
    "\n",
    "numbers = tuple([1, 2, 3, 4, 5, 6])\n",
    "numbers\n",
    "print(numbers[2])\n",
    "print(numbers[-1])\n",
    "numbers[0:4]\n",
    "\n",
    "lst = list()\n",
    "\n",
    "list((1, 2, 3, 4, 5, 6))\n",
    "\n",
    "mixed_tuple = (1, \"Hello World\", 3.14, True)\n",
    "print(mixed_tuple)"
   ]
  },
  {
   "cell_type": "code",
   "execution_count": 90,
   "metadata": {},
   "outputs": [
    {
     "name": "stdout",
     "output_type": "stream",
     "text": [
      "('a', 'b', 'c', 1, 2, 3)\n"
     ]
    }
   ],
   "source": [
    "tuple1 = (\"a\", \"b\", \"c\")\n",
    "tuple2 = (1, 2, 3)\n",
    "tuple1 += tuple2\n",
    "print(tuple1)"
   ]
  },
  {
   "cell_type": "code",
   "execution_count": 91,
   "metadata": {},
   "outputs": [
    {
     "data": {
      "text/plain": [
       "(6, 5, 4, 3, 2, 1)"
      ]
     },
     "execution_count": 91,
     "metadata": {},
     "output_type": "execute_result"
    }
   ],
   "source": [
    "numbers[::-1]"
   ]
  },
  {
   "cell_type": "code",
   "execution_count": 92,
   "metadata": {},
   "outputs": [
    {
     "name": "stdout",
     "output_type": "stream",
     "text": [
      "(1, 2, 3, 4, 5, 6, 1, 'Hello World', 3.14, True)\n"
     ]
    }
   ],
   "source": [
    "## Tuple Operations\n",
    "\n",
    "concatenation_tuple = numbers + mixed_tuple\n",
    "print(concatenation_tuple)"
   ]
  },
  {
   "cell_type": "code",
   "execution_count": 93,
   "metadata": {},
   "outputs": [
    {
     "data": {
      "text/plain": [
       "(1,\n",
       " 'Hello World',\n",
       " 3.14,\n",
       " True,\n",
       " 1,\n",
       " 'Hello World',\n",
       " 3.14,\n",
       " True,\n",
       " 1,\n",
       " 'Hello World',\n",
       " 3.14,\n",
       " True)"
      ]
     },
     "execution_count": 93,
     "metadata": {},
     "output_type": "execute_result"
    }
   ],
   "source": [
    "mixed_tuple * 3"
   ]
  },
  {
   "cell_type": "code",
   "execution_count": 94,
   "metadata": {},
   "outputs": [
    {
     "data": {
      "text/plain": [
       "(1, 2, 3, 4, 5, 6, 1, 2, 3, 4, 5, 6, 1, 2, 3, 4, 5, 6)"
      ]
     },
     "execution_count": 94,
     "metadata": {},
     "output_type": "execute_result"
    }
   ],
   "source": [
    "numbers * 3"
   ]
  },
  {
   "cell_type": "code",
   "execution_count": 95,
   "metadata": {},
   "outputs": [
    {
     "name": "stdout",
     "output_type": "stream",
     "text": [
      "[1, 2, 3, 4, 5]\n",
      "[1, 'Ribhav', 3, 4, 5]\n"
     ]
    }
   ],
   "source": [
    "## Immutable Nature Of Tuples\n",
    "## Tuples are immutable, meaning their elements cannot be changed once assigned.\n",
    "\n",
    "lst = [1, 2, 3, 4, 5]\n",
    "print(lst)\n",
    "\n",
    "lst[1] = \"Ribhav\"\n",
    "print(lst)"
   ]
  },
  {
   "cell_type": "code",
   "execution_count": 96,
   "metadata": {},
   "outputs": [
    {
     "ename": "TypeError",
     "evalue": "'tuple' object does not support item assignment",
     "output_type": "error",
     "traceback": [
      "\u001b[1;31m---------------------------------------------------------------------------\u001b[0m",
      "\u001b[1;31mTypeError\u001b[0m                                 Traceback (most recent call last)",
      "Cell \u001b[1;32mIn[96], line 1\u001b[0m\n\u001b[1;32m----> 1\u001b[0m \u001b[43mnumbers\u001b[49m\u001b[43m[\u001b[49m\u001b[38;5;241;43m1\u001b[39;49m\u001b[43m]\u001b[49m \u001b[38;5;241m=\u001b[39m \u001b[38;5;124m\"\u001b[39m\u001b[38;5;124mRibhav\u001b[39m\u001b[38;5;124m\"\u001b[39m\n",
      "\u001b[1;31mTypeError\u001b[0m: 'tuple' object does not support item assignment"
     ]
    }
   ],
   "source": [
    "numbers[1] = \"Ribhav\""
   ]
  },
  {
   "cell_type": "code",
   "execution_count": 97,
   "metadata": {},
   "outputs": [
    {
     "data": {
      "text/plain": [
       "(1, 2, 3, 4, 5, 6)"
      ]
     },
     "execution_count": 97,
     "metadata": {},
     "output_type": "execute_result"
    }
   ],
   "source": [
    "numbers"
   ]
  },
  {
   "cell_type": "code",
   "execution_count": 98,
   "metadata": {},
   "outputs": [
    {
     "name": "stdout",
     "output_type": "stream",
     "text": [
      "1\n",
      "2\n"
     ]
    }
   ],
   "source": [
    "## Tuple Methods\n",
    "print(numbers.count(1))\n",
    "print(numbers.index(3))"
   ]
  },
  {
   "cell_type": "code",
   "execution_count": 99,
   "metadata": {},
   "outputs": [
    {
     "name": "stdout",
     "output_type": "stream",
     "text": [
      "(1, 'Hello', 3.14)\n"
     ]
    }
   ],
   "source": [
    "## Packing and Unpacking tuple\n",
    "## packing\n",
    "packed_tuple = 1, \"Hello\", 3.14\n",
    "print(packed_tuple)"
   ]
  },
  {
   "cell_type": "code",
   "execution_count": 100,
   "metadata": {},
   "outputs": [
    {
     "name": "stdout",
     "output_type": "stream",
     "text": [
      "1\n",
      "Hello\n",
      "3.14\n"
     ]
    }
   ],
   "source": [
    "## unpacking a tuple\n",
    "a, b, c = packed_tuple\n",
    "\n",
    "print(a)\n",
    "print(b)\n",
    "print(c)"
   ]
  },
  {
   "cell_type": "code",
   "execution_count": 101,
   "metadata": {},
   "outputs": [
    {
     "name": "stdout",
     "output_type": "stream",
     "text": [
      "1\n",
      "[2, 3, 4, 5]\n",
      "6\n"
     ]
    }
   ],
   "source": [
    "# Asterisk*\n",
    "## Unpacking with *\n",
    "\n",
    "\n",
    "numbers = (1, 2, 3, 4, 5, 6)\n",
    "\n",
    "first, *middle, last = numbers\n",
    "\n",
    "print(first)\n",
    "\n",
    "print(middle)\n",
    "\n",
    "print(last)"
   ]
  },
  {
   "cell_type": "code",
   "execution_count": 102,
   "metadata": {},
   "outputs": [
    {
     "data": {
      "text/plain": [
       "[1, 2, 3]"
      ]
     },
     "execution_count": 102,
     "metadata": {},
     "output_type": "execute_result"
    }
   ],
   "source": [
    "## Nested Tuple\n",
    "## Nested List\n",
    "lst = [[1, 2, 3, 4], [6, 7, 8, 9], [1, \"Hello\", 3.14, \"c\"]]\n",
    "lst[0][0:3]"
   ]
  },
  {
   "cell_type": "code",
   "execution_count": 103,
   "metadata": {},
   "outputs": [
    {
     "name": "stdout",
     "output_type": "stream",
     "text": [
      "(1, 2, 3)\n",
      "c\n"
     ]
    }
   ],
   "source": [
    "nested_tuple = ((1, 2, 3), (\"a\", \"b\", \"c\"), (True, False))\n",
    "\n",
    "## access the elements inside a tuple\n",
    "print(nested_tuple[0])\n",
    "print(nested_tuple[1][2])"
   ]
  },
  {
   "cell_type": "code",
   "execution_count": 104,
   "metadata": {},
   "outputs": [
    {
     "name": "stdout",
     "output_type": "stream",
     "text": [
      "1 2 3 \n",
      "a b c \n",
      "True False \n"
     ]
    }
   ],
   "source": [
    "## iterating over nested tuples\n",
    "for sub_tuple in nested_tuple:\n",
    "    for item in sub_tuple:\n",
    "        print(item, end=\" \")\n",
    "    print()"
   ]
  },
  {
   "cell_type": "markdown",
   "metadata": {},
   "source": [
    "Tuples are versatile and useful in many real-world scenarios where an immutable and ordered collection of items is required. They are commonly used in data structures, function arguments and return values, and as dictionary keys."
   ]
  },
  {
   "cell_type": "markdown",
   "metadata": {},
   "source": [
    "#### Sets\n",
    "Sets are a built-in data type in Python used to store collections of unique items. They are unordered, meaning that the elements do not follow a specific order, and they do not allow duplicate elements. Sets are useful for membership tests, eliminating duplicate entries, and performing mathematical set operations like union, intersection, difference, and symmetric difference."
   ]
  },
  {
   "cell_type": "code",
   "execution_count": 105,
   "metadata": {},
   "outputs": [
    {
     "name": "stdout",
     "output_type": "stream",
     "text": [
      "{1, 2, 3, 4, 5}\n",
      "<class 'set'>\n"
     ]
    }
   ],
   "source": [
    "##create a set\n",
    "my_set = {1, 2, 3, 4, 5}\n",
    "print(my_set)\n",
    "print(type(my_set))"
   ]
  },
  {
   "cell_type": "code",
   "execution_count": 106,
   "metadata": {},
   "outputs": [
    {
     "name": "stdout",
     "output_type": "stream",
     "text": [
      "<class 'set'>\n"
     ]
    }
   ],
   "source": [
    "my_empty_set = set()\n",
    "print(type(my_empty_set))"
   ]
  },
  {
   "cell_type": "code",
   "execution_count": 107,
   "metadata": {},
   "outputs": [
    {
     "name": "stdout",
     "output_type": "stream",
     "text": [
      "{1, 2, 3, 4, 5, 6}\n"
     ]
    }
   ],
   "source": [
    "my_empty_set = set([1, 2, 3, 6, 5, 4, 5, 6])\n",
    "print(my_empty_set)"
   ]
  },
  {
   "cell_type": "code",
   "execution_count": 108,
   "metadata": {},
   "outputs": [
    {
     "name": "stdout",
     "output_type": "stream",
     "text": [
      "{1, 2, 3, 4, 5, 6}\n",
      "{1, 2, 3, 4, 5, 6, 7}\n",
      "{1, 2, 3, 4, 5, 6, 7}\n",
      "{1, 2, 4, 5, 6, 7}\n"
     ]
    }
   ],
   "source": [
    "my_set=set([1,2,3,4,5,6])\n",
    "print(my_set)\n",
    "\n",
    "## Basic Sets Operation\n",
    "## Adding and Removing Elements\n",
    "my_set.add(7)\n",
    "print(my_set)\n",
    "my_set.add(7)\n",
    "print(my_set)\n",
    "\n",
    "## Remove the elements from a set\n",
    "my_set.remove(3)\n",
    "print(my_set)"
   ]
  },
  {
   "cell_type": "code",
   "execution_count": 109,
   "metadata": {},
   "outputs": [
    {
     "ename": "KeyError",
     "evalue": "10",
     "output_type": "error",
     "traceback": [
      "\u001b[1;31m---------------------------------------------------------------------------\u001b[0m",
      "\u001b[1;31mKeyError\u001b[0m                                  Traceback (most recent call last)",
      "Cell \u001b[1;32mIn[109], line 1\u001b[0m\n\u001b[1;32m----> 1\u001b[0m \u001b[43mmy_set\u001b[49m\u001b[38;5;241;43m.\u001b[39;49m\u001b[43mremove\u001b[49m\u001b[43m(\u001b[49m\u001b[38;5;241;43m10\u001b[39;49m\u001b[43m)\u001b[49m\n",
      "\u001b[1;31mKeyError\u001b[0m: 10"
     ]
    }
   ],
   "source": [
    "my_set.remove(10)"
   ]
  },
  {
   "cell_type": "code",
   "execution_count": 110,
   "metadata": {},
   "outputs": [
    {
     "name": "stdout",
     "output_type": "stream",
     "text": [
      "{1, 2, 4, 5, 6, 7}\n"
     ]
    }
   ],
   "source": [
    "my_set.discard(11)\n",
    "print(my_set)"
   ]
  },
  {
   "cell_type": "code",
   "execution_count": 111,
   "metadata": {},
   "outputs": [
    {
     "name": "stdout",
     "output_type": "stream",
     "text": [
      "1\n",
      "{2, 4, 5, 6, 7}\n"
     ]
    }
   ],
   "source": [
    "## pop method\n",
    "removed_element = my_set.pop()\n",
    "print(removed_element)\n",
    "print(my_set)"
   ]
  },
  {
   "cell_type": "code",
   "execution_count": 112,
   "metadata": {},
   "outputs": [
    {
     "name": "stdout",
     "output_type": "stream",
     "text": [
      "set()\n"
     ]
    }
   ],
   "source": [
    "## clear all the elements\n",
    "my_set.clear()\n",
    "print(my_set)"
   ]
  },
  {
   "cell_type": "code",
   "execution_count": 113,
   "metadata": {},
   "outputs": [
    {
     "name": "stdout",
     "output_type": "stream",
     "text": [
      "True\n"
     ]
    }
   ],
   "source": [
    "## Set Memebership test\n",
    "my_set = {1, 2, 3, 4, 5}\n",
    "print(3 in my_set)"
   ]
  },
  {
   "cell_type": "code",
   "execution_count": 114,
   "metadata": {},
   "outputs": [
    {
     "data": {
      "text/plain": [
       "{'apple', 'banana', 'cherry', 'mango', 'papaya', 'pineapple'}"
      ]
     },
     "execution_count": 114,
     "metadata": {},
     "output_type": "execute_result"
    }
   ],
   "source": [
    "# Update - The object in the update() method does not have to be a set, it can be any iterable object (tuples, lists, dictionaries etc.)\n",
    "\n",
    "thisset = {\"apple\", \"banana\", \"cherry\"}\n",
    "tropical = {\"pineapple\", \"mango\", \"papaya\"}\n",
    "thisset.update(tropical)\n",
    "thisset"
   ]
  },
  {
   "cell_type": "code",
   "execution_count": 115,
   "metadata": {},
   "outputs": [
    {
     "name": "stdout",
     "output_type": "stream",
     "text": [
      "{1, 2, 3, 4, 5, 6, 7, 8, 9}\n",
      "{4, 5, 6}\n",
      "{4, 5, 6}\n"
     ]
    }
   ],
   "source": [
    "## Mathematical Operation\n",
    "set1 = {1, 2, 3, 4, 5, 6}\n",
    "set2 = {4, 5, 6, 7, 8, 9}\n",
    "\n",
    "### Union\n",
    "union_set = set1.union(set2)\n",
    "print(union_set)\n",
    "\n",
    "## Intersection\n",
    "intersection_set = set1.intersection(set2)\n",
    "print(intersection_set)\n",
    "\n",
    "set1.intersection_update(set2)\n",
    "print(set1)"
   ]
  },
  {
   "cell_type": "code",
   "execution_count": 116,
   "metadata": {},
   "outputs": [
    {
     "name": "stdout",
     "output_type": "stream",
     "text": [
      "{1, 2, 3}\n"
     ]
    },
    {
     "data": {
      "text/plain": [
       "{1, 2, 3, 4, 5, 6}"
      ]
     },
     "execution_count": 116,
     "metadata": {},
     "output_type": "execute_result"
    }
   ],
   "source": [
    "set1 = {1, 2, 3, 4, 5, 6}\n",
    "set2 = {4, 5, 6, 7, 8, 9}\n",
    "\n",
    "## Difference\n",
    "print(set1.difference(set2))\n",
    "set1"
   ]
  },
  {
   "cell_type": "code",
   "execution_count": 117,
   "metadata": {},
   "outputs": [
    {
     "data": {
      "text/plain": [
       "{1, 2, 3, 7, 8, 9}"
      ]
     },
     "execution_count": 117,
     "metadata": {},
     "output_type": "execute_result"
    }
   ],
   "source": [
    "## Symmetric Difference\n",
    "set1.symmetric_difference(set2)"
   ]
  },
  {
   "cell_type": "code",
   "execution_count": 118,
   "metadata": {},
   "outputs": [
    {
     "name": "stdout",
     "output_type": "stream",
     "text": [
      "False\n",
      "True\n"
     ]
    }
   ],
   "source": [
    "## Sets Methods\n",
    "set1 = {1, 2, 3, 4, 5}\n",
    "set2 = {3, 4, 5}\n",
    "\n",
    "## is subset\n",
    "print(set1.issubset(set2))\n",
    "\n",
    "print(set1.issuperset(set2))"
   ]
  },
  {
   "cell_type": "code",
   "execution_count": 119,
   "metadata": {},
   "outputs": [
    {
     "name": "stdout",
     "output_type": "stream",
     "text": [
      "{'In', 'are', 'this', 'sets', 'we', 'about', 'discussing', 'tutorial'}\n",
      "8\n"
     ]
    }
   ],
   "source": [
    "### Counting Unique words in text\n",
    "\n",
    "text = \"In this tutorial we are discussing about sets\"\n",
    "words = text.split()\n",
    "\n",
    "## convert list of words to set to get unique words\n",
    "\n",
    "unique_words = set(words)\n",
    "print(unique_words)\n",
    "print(len(unique_words))"
   ]
  },
  {
   "cell_type": "markdown",
   "metadata": {},
   "source": [
    "Dictionaries are unordered collections of items. They store data in key-value pairs.\n",
    "Keys must be unique and immutable (e.g., strings, numbers, or tuples), while values can be of any type."
   ]
  },
  {
   "cell_type": "code",
   "execution_count": 120,
   "metadata": {},
   "outputs": [
    {
     "name": "stdout",
     "output_type": "stream",
     "text": [
      "<class 'dict'>\n",
      "{'name': 'Ribhav', 'age': 26, 'grade': 24}\n",
      "<class 'dict'>\n"
     ]
    }
   ],
   "source": [
    "## Creating Dictionaries\n",
    "empty_dict = {}\n",
    "print(type(empty_dict))\n",
    "\n",
    "empty_dict = dict()\n",
    "empty_dict\n",
    "\n",
    "student = {\"name\": \"Ribhav\", \"age\": 26, \"grade\": 24}\n",
    "print(student)\n",
    "print(type(student))"
   ]
  },
  {
   "cell_type": "code",
   "execution_count": 121,
   "metadata": {},
   "outputs": [
    {
     "name": "stdout",
     "output_type": "stream",
     "text": [
      "{'name': 'Jain', 'age': 32}\n"
     ]
    }
   ],
   "source": [
    "# Single key is slways used\n",
    "student = {\"name\": \"Ribhav\", \"age\": 32, \"name\": \"Jain\"}\n",
    "print(student)"
   ]
  },
  {
   "cell_type": "code",
   "execution_count": 122,
   "metadata": {},
   "outputs": [
    {
     "name": "stdout",
     "output_type": "stream",
     "text": [
      "Jain\n",
      "32\n",
      "None\n",
      "None\n",
      "Not Available\n"
     ]
    }
   ],
   "source": [
    "## Accessing Dictionary elements\n",
    "print(student[\"name\"])\n",
    "print(student[\"age\"])\n",
    "\n",
    "## Accessing using get() method\n",
    "print(student.get(\"grade\"))\n",
    "print(student.get(\"last_name\"))\n",
    "print(student.get(\"last_name\", \"Not Available\"))"
   ]
  },
  {
   "cell_type": "code",
   "execution_count": 123,
   "metadata": {},
   "outputs": [
    {
     "name": "stdout",
     "output_type": "stream",
     "text": [
      "{'name': 'Jain', 'age': 34}\n",
      "{'name': 'Jain', 'age': 34, 'address': 'India'}\n"
     ]
    }
   ],
   "source": [
    "student[\"age\"] = 34  ## update value for the key\n",
    "print(student)\n",
    "student[\"address\"] = \"India\"  ## added a new key and value\n",
    "print(student)"
   ]
  },
  {
   "cell_type": "code",
   "execution_count": 124,
   "metadata": {},
   "outputs": [
    {
     "name": "stdout",
     "output_type": "stream",
     "text": [
      "{'name': 'Jain', 'address': 'India'}\n"
     ]
    }
   ],
   "source": [
    "del student[\"age\"]  ## delete key and value pair\n",
    "\n",
    "print(student)"
   ]
  },
  {
   "cell_type": "code",
   "execution_count": 125,
   "metadata": {},
   "outputs": [
    {
     "name": "stdout",
     "output_type": "stream",
     "text": [
      "dict_keys(['name', 'address'])\n",
      "dict_values(['Jain', 'India'])\n",
      "dict_items([('name', 'Jain'), ('address', 'India')])\n"
     ]
    }
   ],
   "source": [
    "## Dictionary methods\n",
    "# The keys() method will return a list of all the keys in the dictionary\n",
    "# The values() method will return a list of all the values in the dictionary\n",
    "# The items() method will return each item in a dictionary, as tuples in a list.\n",
    "\n",
    "keys = student.keys()  ## get all the keys\n",
    "print(keys)\n",
    "\n",
    "values = student.values() ## get all values\n",
    "print(values)\n",
    "\n",
    "items = student.items()  ## get all key value pairs\n",
    "print(items)"
   ]
  },
  {
   "cell_type": "code",
   "execution_count": 126,
   "metadata": {},
   "outputs": [
    {
     "name": "stdout",
     "output_type": "stream",
     "text": [
      "Yes, 'model' is one of the keys in the thisdict dictionary\n"
     ]
    },
    {
     "data": {
      "text/plain": [
       "'Mustang'"
      ]
     },
     "execution_count": 126,
     "metadata": {},
     "output_type": "execute_result"
    }
   ],
   "source": [
    "# To determine if a specified key is present in a dictionary use in keyword:\n",
    "thisdict = {\"brand\": \"Ford\", \"model\": \"Mustang\", \"year\": 1964}\n",
    "\n",
    "if \"model\" in thisdict:\n",
    "    print(\"Yes, 'model' is one of the keys in the thisdict dictionary\")\n",
    "\n",
    "thisdict.pop(\"model\")\n",
    "# The popitem() method removes the last inserted item (in versions before 3.7, a random item is removed instead)"
   ]
  },
  {
   "cell_type": "code",
   "execution_count": 127,
   "metadata": {},
   "outputs": [
    {
     "name": "stdout",
     "output_type": "stream",
     "text": [
      "{'name': 'Jain', 'address': 'India'}\n",
      "{'name': 'Jain', 'address': 'India'}\n",
      "{'name': 'Ribhav2', 'address': 'India'}\n",
      "{'name': 'Ribhav2', 'address': 'India'}\n"
     ]
    }
   ],
   "source": [
    "## shallow copy\n",
    "student_copy = student\n",
    "print(student)\n",
    "print(student_copy)\n",
    "\n",
    "student[\"name\"] = \"Ribhav2\"\n",
    "print(student)\n",
    "print(student_copy)"
   ]
  },
  {
   "cell_type": "code",
   "execution_count": 128,
   "metadata": {},
   "outputs": [],
   "source": [
    "# You cannot copy a dictionary simply by typing dict2 = dict1, because: dict2 will only be a reference to dict1.\n",
    "mydict = thisdict.copy()\n",
    "mydict = dict(thisdict)"
   ]
  },
  {
   "cell_type": "code",
   "execution_count": 129,
   "metadata": {},
   "outputs": [
    {
     "name": "stdout",
     "output_type": "stream",
     "text": [
      "{'name': 'Ribhav2', 'address': 'India'}\n",
      "{'name': 'Ribhav2', 'address': 'India'}\n",
      "{'name': 'Ribhav2', 'address': 'India'}\n",
      "{'name': 'Ribhav3', 'address': 'India'}\n"
     ]
    }
   ],
   "source": [
    "student_copy1 = student.copy()  ## shallow copy\n",
    "print(student_copy1)\n",
    "print(student)\n",
    "\n",
    "student[\"name\"] = \"Ribhav3\"\n",
    "print(student_copy1)\n",
    "print(student)"
   ]
  },
  {
   "cell_type": "code",
   "execution_count": 130,
   "metadata": {},
   "outputs": [
    {
     "name": "stdout",
     "output_type": "stream",
     "text": [
      "name\n",
      "address\n"
     ]
    }
   ],
   "source": [
    "## You can use loops to iterate over dictionatries, keys,values, or items\n",
    "\n",
    "## Iterating over keys\n",
    "for keys in student.keys():\n",
    "    print(keys)"
   ]
  },
  {
   "cell_type": "code",
   "execution_count": 131,
   "metadata": {},
   "outputs": [
    {
     "name": "stdout",
     "output_type": "stream",
     "text": [
      "name:Ribhav3\n",
      "address:India\n"
     ]
    }
   ],
   "source": [
    "## Iterate over key value pairs\n",
    "for key, value in student.items():\n",
    "    print(f\"{key}:{value}\")"
   ]
  },
  {
   "cell_type": "code",
   "execution_count": 132,
   "metadata": {},
   "outputs": [
    {
     "name": "stdout",
     "output_type": "stream",
     "text": [
      "{'student1': {'name': 'Ribhav', 'age': 26}, 'student2': {'name': 'Peter', 'age': 34}}\n",
      "student1:{'name': 'Ribhav', 'age': 26}\n",
      "name:Ribhav\n",
      "age:26\n",
      "student2:{'name': 'Peter', 'age': 34}\n",
      "name:Peter\n",
      "age:34\n"
     ]
    }
   ],
   "source": [
    "## Nested Disctionaries\n",
    "students = {\n",
    "    \"student1\": {\"name\": \"Ribhav\", \"age\": 26},\n",
    "    \"student2\": {\"name\": \"Peter\", \"age\": 34},\n",
    "}\n",
    "print(students)\n",
    "\n",
    "## Iterating over nested dictionaries\n",
    "for student_id, student_info in students.items():\n",
    "    print(f\"{student_id}:{student_info}\")\n",
    "    for key, value in student_info.items():\n",
    "        print(f\"{key}:{value}\")"
   ]
  },
  {
   "cell_type": "code",
   "execution_count": 133,
   "metadata": {},
   "outputs": [
    {
     "name": "stdout",
     "output_type": "stream",
     "text": [
      "{0: 0, 1: 1, 2: 4, 3: 9, 4: 16}\n"
     ]
    }
   ],
   "source": [
    "## Dictionary Comphrehension\n",
    "squares = {x: x**2 for x in range(5)}\n",
    "print(squares)"
   ]
  },
  {
   "cell_type": "code",
   "execution_count": 134,
   "metadata": {},
   "outputs": [
    {
     "name": "stdout",
     "output_type": "stream",
     "text": [
      "{0: 0, 2: 4, 4: 16, 6: 36, 8: 64}\n"
     ]
    }
   ],
   "source": [
    "## Condition dictionary comprehension\n",
    "evens = {x: x**2 for x in range(10) if x % 2 == 0}\n",
    "print(evens)"
   ]
  },
  {
   "cell_type": "code",
   "execution_count": 135,
   "metadata": {},
   "outputs": [
    {
     "name": "stdout",
     "output_type": "stream",
     "text": [
      "{'a': 1, 'b': 3, 'c': 4}\n"
     ]
    }
   ],
   "source": [
    "## Merge 2 dictionaries into one\n",
    "\n",
    "dict1 = {\"a\": 1, \"b\": 2}\n",
    "dict2 = {\"b\": 3, \"c\": 4}\n",
    "merged_dict = {**dict1, **dict2}\n",
    "print(merged_dict)"
   ]
  },
  {
   "cell_type": "code",
   "execution_count": 136,
   "metadata": {},
   "outputs": [
    {
     "name": "stdout",
     "output_type": "stream",
     "text": [
      "True\n"
     ]
    }
   ],
   "source": [
    "# Any\n",
    "# Returns true if any of the items is True. It returns False if empty or all are false.\n",
    "# Here the method will short-circuit at the\n",
    "# second item (True) and will return True.\n",
    "print(any([False, True, False, False]))\n",
    "\n",
    "# All\n",
    "# Returns true if all of the items are True (or if the iterable is empty). All can be thought of as a sequence of AND operations on the provided iterables."
   ]
  },
  {
   "cell_type": "markdown",
   "metadata": {},
   "source": [
    "A function is a block of code that performs a specific task.\n",
    "Functions help in organizing code, reusing code, and improving readability.\n"
   ]
  },
  {
   "cell_type": "code",
   "execution_count": 137,
   "metadata": {},
   "outputs": [],
   "source": [
    "## syntax\n",
    "def function_name(parameters):\n",
    "    \"\"\"Docstring\"\"\"\n",
    "    # Function body\n",
    "    return expression"
   ]
  },
  {
   "cell_type": "code",
   "execution_count": 138,
   "metadata": {},
   "outputs": [
    {
     "name": "stdout",
     "output_type": "stream",
     "text": [
      "the number is even\n"
     ]
    }
   ],
   "source": [
    "## why functions?\n",
    "num = 24\n",
    "if num % 2 == 0:\n",
    "    print(\"the number is even\")\n",
    "else:\n",
    "    print(\"the number is odd\")"
   ]
  },
  {
   "cell_type": "code",
   "execution_count": 139,
   "metadata": {},
   "outputs": [],
   "source": [
    "def even_or_odd(num):\n",
    "    \"\"\"This function finds even or odd\"\"\"\n",
    "    if num % 2 == 0:\n",
    "        print(\"the number is even\")\n",
    "    else:\n",
    "        print(\"the number is odd\")"
   ]
  },
  {
   "cell_type": "code",
   "execution_count": 140,
   "metadata": {},
   "outputs": [
    {
     "name": "stdout",
     "output_type": "stream",
     "text": [
      "the number is even\n"
     ]
    }
   ],
   "source": [
    "## Call this function\n",
    "even_or_odd(24)"
   ]
  },
  {
   "cell_type": "code",
   "execution_count": 141,
   "metadata": {},
   "outputs": [
    {
     "name": "stdout",
     "output_type": "stream",
     "text": [
      "6\n"
     ]
    }
   ],
   "source": [
    "## function with multiple parameters\n",
    "\n",
    "\n",
    "def add(a, b):\n",
    "    return a + b\n",
    "\n",
    "\n",
    "result = add(2, 4)\n",
    "print(result)"
   ]
  },
  {
   "cell_type": "code",
   "execution_count": 142,
   "metadata": {},
   "outputs": [
    {
     "name": "stdout",
     "output_type": "stream",
     "text": [
      "Hello Ribhav Welcome To the paradise\n"
     ]
    }
   ],
   "source": [
    "## Default Parameters\n",
    "\n",
    "\n",
    "def greet(name=\"Guest\"):\n",
    "    print(f\"Hello {name} Welcome To the paradise\")\n",
    "\n",
    "\n",
    "greet(\"Ribhav\")"
   ]
  },
  {
   "cell_type": "code",
   "execution_count": 143,
   "metadata": {},
   "outputs": [],
   "source": [
    "### Variable Length Arguments\n",
    "## Positional And Keywords arguments\n",
    "\n",
    "\n",
    "def print_numbers(*test):\n",
    "    for number in test:\n",
    "        print(number)"
   ]
  },
  {
   "cell_type": "code",
   "execution_count": 144,
   "metadata": {},
   "outputs": [
    {
     "name": "stdout",
     "output_type": "stream",
     "text": [
      "1\n",
      "2\n",
      "3\n",
      "4\n",
      "5\n",
      "6\n",
      "7\n",
      "8\n",
      "Ribhav\n"
     ]
    }
   ],
   "source": [
    "print_numbers(1, 2, 3, 4, 5, 6, 7, 8, \"Ribhav\")"
   ]
  },
  {
   "cell_type": "code",
   "execution_count": 145,
   "metadata": {},
   "outputs": [],
   "source": [
    "### Keywords Arguments\n",
    "\n",
    "\n",
    "def print_details(**kwargs):\n",
    "    for key, value in kwargs.items():\n",
    "        print(f\"{key}:{value}\")"
   ]
  },
  {
   "cell_type": "code",
   "execution_count": 146,
   "metadata": {},
   "outputs": [
    {
     "name": "stdout",
     "output_type": "stream",
     "text": [
      "name:Ribhav\n",
      "age:26\n",
      "country:India\n"
     ]
    }
   ],
   "source": [
    "print_details(name=\"Ribhav\", age=\"26\", country=\"India\")"
   ]
  },
  {
   "cell_type": "code",
   "execution_count": 149,
   "metadata": {},
   "outputs": [],
   "source": [
    "def print_details(*args, **kwargs):\n",
    "    for val in args:\n",
    "        print(f\"Positional arument :{val}\")\n",
    "\n",
    "    for key, value in kwargs.items():\n",
    "        print(f\"{key}:{value}\")"
   ]
  },
  {
   "cell_type": "code",
   "execution_count": 150,
   "metadata": {},
   "outputs": [
    {
     "name": "stdout",
     "output_type": "stream",
     "text": [
      "Positional arument :1\n",
      "Positional arument :2\n",
      "Positional arument :3\n",
      "Positional arument :4\n",
      "Positional arument :Ribhav\n",
      "name:Ribhav\n",
      "age:26\n",
      "country:India\n"
     ]
    }
   ],
   "source": [
    "print_details(1, 2, 3, 4, \"Ribhav\", name=\"Ribhav\", age=\"26\", country=\"India\")"
   ]
  },
  {
   "cell_type": "code",
   "execution_count": 151,
   "metadata": {},
   "outputs": [
    {
     "data": {
      "text/plain": [
       "6"
      ]
     },
     "execution_count": 151,
     "metadata": {},
     "output_type": "execute_result"
    }
   ],
   "source": [
    "### Return statements\n",
    "def multiply(a, b):\n",
    "    return a * b\n",
    "\n",
    "\n",
    "multiply(2, 3)"
   ]
  },
  {
   "cell_type": "code",
   "execution_count": 152,
   "metadata": {},
   "outputs": [
    {
     "data": {
      "text/plain": [
       "(6, 2)"
      ]
     },
     "execution_count": 152,
     "metadata": {},
     "output_type": "execute_result"
    }
   ],
   "source": [
    "### Return multiple parameters\n",
    "def multiply(a, b):\n",
    "    return a * b, a\n",
    "\n",
    "\n",
    "multiply(2, 3)"
   ]
  },
  {
   "cell_type": "markdown",
   "metadata": {},
   "source": [
    "Lambda functions are small anonymous functions defined using the **lambda** keyword. They can have any number of arguments but only one expression. They are commonly used for short operations or as arguments to higher-order functions.\n"
   ]
  },
  {
   "cell_type": "code",
   "execution_count": 153,
   "metadata": {},
   "outputs": [
    {
     "data": {
      "text/plain": [
       "<function __main__.<lambda>(arguments)>"
      ]
     },
     "execution_count": 153,
     "metadata": {},
     "output_type": "execute_result"
    }
   ],
   "source": [
    "# Syntax\n",
    "lambda arguments: expression\n"
   ]
  },
  {
   "cell_type": "code",
   "execution_count": 154,
   "metadata": {},
   "outputs": [
    {
     "data": {
      "text/plain": [
       "5"
      ]
     },
     "execution_count": 154,
     "metadata": {},
     "output_type": "execute_result"
    }
   ],
   "source": [
    "def addition(a, b):\n",
    "    return a + b\n",
    "\n",
    "\n",
    "addition(2, 3)"
   ]
  },
  {
   "cell_type": "code",
   "execution_count": 155,
   "metadata": {},
   "outputs": [
    {
     "name": "stdout",
     "output_type": "stream",
     "text": [
      "11\n"
     ]
    }
   ],
   "source": [
    "addition = lambda a, b: a + b\n",
    "type(addition)\n",
    "print(addition(5, 6))"
   ]
  },
  {
   "cell_type": "code",
   "execution_count": 157,
   "metadata": {},
   "outputs": [
    {
     "data": {
      "text/plain": [
       "True"
      ]
     },
     "execution_count": 157,
     "metadata": {},
     "output_type": "execute_result"
    }
   ],
   "source": [
    "def even(num):\n",
    "    if num % 2 == 0:\n",
    "        return True\n",
    "\n",
    "\n",
    "even(24)\n",
    "\n",
    "even1 = lambda num: num % 2 == 0\n",
    "even1(12)"
   ]
  },
  {
   "cell_type": "code",
   "execution_count": 158,
   "metadata": {},
   "outputs": [
    {
     "data": {
      "text/plain": [
       "39"
      ]
     },
     "execution_count": 158,
     "metadata": {},
     "output_type": "execute_result"
    }
   ],
   "source": [
    "def addition(x, y, z):\n",
    "    return x + y + z\n",
    "\n",
    "\n",
    "addition(12, 13, 14)\n",
    "\n",
    "addition1 = lambda x, y, z: x + y + z\n",
    "addition1(12, 13, 14)"
   ]
  },
  {
   "cell_type": "code",
   "execution_count": 159,
   "metadata": {},
   "outputs": [
    {
     "data": {
      "text/plain": [
       "[1, 4, 9, 16, 25, 36]"
      ]
     },
     "execution_count": 159,
     "metadata": {},
     "output_type": "execute_result"
    }
   ],
   "source": [
    "## map()- applies a function to all items in a list\n",
    "numbers = [1, 2, 3, 4, 5, 6]\n",
    "\n",
    "\n",
    "def square(number):\n",
    "    return number**2\n",
    "\n",
    "\n",
    "square(2)\n",
    "\n",
    "list(map(lambda x: x**2, numbers))"
   ]
  },
  {
   "cell_type": "markdown",
   "metadata": {},
   "source": [
    "The map() function applies a given function to all items in an input list (or any other iterable) and returns a map object (an iterator). This is particularly useful for transforming data in a list comprehensively."
   ]
  },
  {
   "cell_type": "code",
   "execution_count": 160,
   "metadata": {},
   "outputs": [
    {
     "data": {
      "text/plain": [
       "100"
      ]
     },
     "execution_count": 160,
     "metadata": {},
     "output_type": "execute_result"
    }
   ],
   "source": [
    "def square(x):\n",
    "    return x * x\n",
    "\n",
    "\n",
    "square(10)"
   ]
  },
  {
   "cell_type": "code",
   "execution_count": 163,
   "metadata": {},
   "outputs": [
    {
     "name": "stdout",
     "output_type": "stream",
     "text": [
      "<map object at 0x0000022D53A179D0>\n"
     ]
    },
    {
     "data": {
      "text/plain": [
       "[1, 4, 9, 16, 25, 36, 49, 64]"
      ]
     },
     "execution_count": 163,
     "metadata": {},
     "output_type": "execute_result"
    }
   ],
   "source": [
    "numbers = [1, 2, 3, 4, 5, 6, 7, 8]\n",
    "print(map(square, numbers))\n",
    "list(map(square, numbers))"
   ]
  },
  {
   "cell_type": "code",
   "execution_count": 164,
   "metadata": {},
   "outputs": [
    {
     "data": {
      "text/plain": [
       "[1, 4, 9, 16, 25, 36, 49, 64]"
      ]
     },
     "execution_count": 164,
     "metadata": {},
     "output_type": "execute_result"
    }
   ],
   "source": [
    "## Lambda function with map\n",
    "numbers = [1, 2, 3, 4, 5, 6, 7, 8]\n",
    "list(map(lambda x: x * x, numbers))"
   ]
  },
  {
   "cell_type": "code",
   "execution_count": 165,
   "metadata": {},
   "outputs": [
    {
     "name": "stdout",
     "output_type": "stream",
     "text": [
      "[5, 7, 9]\n"
     ]
    }
   ],
   "source": [
    "### Map multiple iterables\n",
    "\n",
    "numbers1 = [1, 2, 3]\n",
    "numbers2 = [4, 5, 6]\n",
    "\n",
    "added_numbers = list(map(lambda x, y: x + y, numbers1, numbers2))\n",
    "print(added_numbers)"
   ]
  },
  {
   "cell_type": "code",
   "execution_count": 166,
   "metadata": {},
   "outputs": [
    {
     "name": "stdout",
     "output_type": "stream",
     "text": [
      "[1, 2, 3, 4, 5]\n"
     ]
    }
   ],
   "source": [
    "## map() to convert a list of strings to integers\n",
    "str_numbers = [\"1\", \"2\", \"3\", \"4\", \"5\"]\n",
    "int_numbers = list(map(int, str_numbers))\n",
    "\n",
    "print(int_numbers)  # Output: [1, 2, 3, 4, 5]"
   ]
  },
  {
   "cell_type": "code",
   "execution_count": 167,
   "metadata": {},
   "outputs": [
    {
     "data": {
      "text/plain": [
       "['Ribhav', 'Aman']"
      ]
     },
     "execution_count": 167,
     "metadata": {},
     "output_type": "execute_result"
    }
   ],
   "source": [
    "def get_name(person):\n",
    "    return person[\"name\"]\n",
    "\n",
    "\n",
    "people = [{\"name\": \"Ribhav\", \"age\": 32}, {\"name\": \"Aman\", \"age\": 34}]\n",
    "list(map(get_name, people))"
   ]
  },
  {
   "cell_type": "markdown",
   "metadata": {},
   "source": [
    "##### The filter() Function in Python\n",
    "The filter() function constructs an iterator from elements of an iterable for which a function returns true. It is used to filter out items from a list (or any other iterable) based on a condition."
   ]
  },
  {
   "cell_type": "code",
   "execution_count": 168,
   "metadata": {},
   "outputs": [
    {
     "data": {
      "text/plain": [
       "True"
      ]
     },
     "execution_count": 168,
     "metadata": {},
     "output_type": "execute_result"
    }
   ],
   "source": [
    "def even(num):\n",
    "    if num % 2 == 0:\n",
    "        return True\n",
    "\n",
    "\n",
    "even(24)"
   ]
  },
  {
   "cell_type": "code",
   "execution_count": 169,
   "metadata": {},
   "outputs": [
    {
     "data": {
      "text/plain": [
       "[2, 4, 6, 8, 10, 12]"
      ]
     },
     "execution_count": 169,
     "metadata": {},
     "output_type": "execute_result"
    }
   ],
   "source": [
    "lst = [1, 2, 3, 4, 5, 6, 7, 8, 9, 10, 11, 12]\n",
    "\n",
    "list(filter(even, lst))"
   ]
  },
  {
   "cell_type": "code",
   "execution_count": 170,
   "metadata": {},
   "outputs": [
    {
     "name": "stdout",
     "output_type": "stream",
     "text": [
      "[6, 7, 8, 9]\n"
     ]
    }
   ],
   "source": [
    "## filter with a Lambda Function\n",
    "numbers = [1, 2, 3, 4, 5, 6, 7, 8, 9]\n",
    "greater_than_five = list(filter(lambda x: x > 5, numbers))\n",
    "print(greater_than_five)"
   ]
  },
  {
   "cell_type": "code",
   "execution_count": 171,
   "metadata": {},
   "outputs": [
    {
     "name": "stdout",
     "output_type": "stream",
     "text": [
      "[6, 8]\n"
     ]
    }
   ],
   "source": [
    "## Filter with a lambda function and multiple conditions\n",
    "numbers = [1, 2, 3, 4, 5, 6, 7, 8, 9]\n",
    "even_and_greater_than_five = list(filter(lambda x: x > 5 and x % 2 == 0, numbers))\n",
    "print(even_and_greater_than_five)"
   ]
  },
  {
   "cell_type": "code",
   "execution_count": 172,
   "metadata": {},
   "outputs": [
    {
     "data": {
      "text/plain": [
       "[{'name': 'Ribhav', 'age': 26}, {'name': 'Jack', 'age': 33}]"
      ]
     },
     "execution_count": 172,
     "metadata": {},
     "output_type": "execute_result"
    }
   ],
   "source": [
    "## Filter() to check if the age is greater than 25 in dictionaries\n",
    "people = [\n",
    "    {\"name\": \"Ribhav\", \"age\": 26},\n",
    "    {\"name\": \"Jack\", \"age\": 33},\n",
    "    {\"name\": \"John\", \"age\": 25},\n",
    "]\n",
    "\n",
    "\n",
    "def age_greater_than_25(person):\n",
    "    return person[\"age\"] > 25\n",
    "\n",
    "\n",
    "list(filter(age_greater_than_25, people))"
   ]
  },
  {
   "cell_type": "markdown",
   "metadata": {},
   "source": [
    "In Python, modules and packages help organize and reuse code."
   ]
  },
  {
   "cell_type": "code",
   "execution_count": 173,
   "metadata": {},
   "outputs": [
    {
     "name": "stdout",
     "output_type": "stream",
     "text": [
      "4.0\n",
      "3.141592653589793\n"
     ]
    }
   ],
   "source": [
    "from math import sqrt, pi\n",
    "\n",
    "print(sqrt(16))\n",
    "print(pi)"
   ]
  },
  {
   "cell_type": "code",
   "execution_count": 174,
   "metadata": {},
   "outputs": [
    {
     "name": "stdout",
     "output_type": "stream",
     "text": [
      "4.0\n",
      "3.141592653589793\n"
     ]
    }
   ],
   "source": [
    "from math import *\n",
    "\n",
    "print(sqrt(16))\n",
    "print(pi)"
   ]
  },
  {
   "cell_type": "code",
   "execution_count": 175,
   "metadata": {},
   "outputs": [
    {
     "data": {
      "text/plain": [
       "array([1, 2, 3, 4])"
      ]
     },
     "execution_count": 175,
     "metadata": {},
     "output_type": "execute_result"
    }
   ],
   "source": [
    "import numpy as np\n",
    "\n",
    "np.array([1, 2, 3, 4])"
   ]
  },
  {
   "cell_type": "code",
   "execution_count": 176,
   "metadata": {},
   "outputs": [
    {
     "data": {
      "text/plain": [
       "5"
      ]
     },
     "execution_count": 176,
     "metadata": {},
     "output_type": "execute_result"
    }
   ],
   "source": [
    "from package.maths import addition\n",
    "\n",
    "addition(2, 3)"
   ]
  },
  {
   "cell_type": "code",
   "execution_count": 177,
   "metadata": {},
   "outputs": [
    {
     "data": {
      "text/plain": [
       "5"
      ]
     },
     "execution_count": 177,
     "metadata": {},
     "output_type": "execute_result"
    }
   ],
   "source": [
    "from package import maths\n",
    "\n",
    "maths.addition(2, 3)"
   ]
  },
  {
   "cell_type": "markdown",
   "metadata": {},
   "source": [
    "##### Standard Library"
   ]
  },
  {
   "cell_type": "code",
   "execution_count": 178,
   "metadata": {},
   "outputs": [
    {
     "name": "stdout",
     "output_type": "stream",
     "text": [
      "array('i', [1, 2, 3, 4])\n"
     ]
    }
   ],
   "source": [
    "import array\n",
    "\n",
    "arr = array.array(\"i\", [1, 2, 3, 4])\n",
    "print(arr)"
   ]
  },
  {
   "cell_type": "code",
   "execution_count": 179,
   "metadata": {},
   "outputs": [
    {
     "name": "stdout",
     "output_type": "stream",
     "text": [
      "8\n",
      "banana\n"
     ]
    }
   ],
   "source": [
    "## random\n",
    "\n",
    "import random\n",
    "\n",
    "print(random.randint(1, 10))\n",
    "print(random.choice([\"apple\", \"banana\", \"cherry\"]))"
   ]
  },
  {
   "cell_type": "code",
   "execution_count": 180,
   "metadata": {},
   "outputs": [
    {
     "name": "stdout",
     "output_type": "stream",
     "text": [
      "d:\\Workspace\\python-concepts-master\n"
     ]
    }
   ],
   "source": [
    "### File And Directory Access\n",
    "\n",
    "import os\n",
    "\n",
    "print(os.getcwd())"
   ]
  },
  {
   "cell_type": "code",
   "execution_count": null,
   "metadata": {},
   "outputs": [],
   "source": [
    "os.mkdir('test_dir')"
   ]
  },
  {
   "cell_type": "code",
   "execution_count": 183,
   "metadata": {},
   "outputs": [
    {
     "data": {
      "text/plain": [
       "'destination.txt'"
      ]
     },
     "execution_count": 183,
     "metadata": {},
     "output_type": "execute_result"
    }
   ],
   "source": [
    "## High level operations on files and collection of files\n",
    "import shutil\n",
    "\n",
    "shutil.copyfile(\"source.txt\", \"destination.txt\")"
   ]
  },
  {
   "cell_type": "code",
   "execution_count": 185,
   "metadata": {},
   "outputs": [
    {
     "name": "stdout",
     "output_type": "stream",
     "text": [
      "5\n",
      "25\n",
      "7.25\n",
      "2\n",
      "1\n"
     ]
    }
   ],
   "source": [
    "import math\n",
    "\n",
    "# Min vs Max\n",
    "x = min(5, 10, 25)\n",
    "y = max(5, 10, 25)\n",
    "print(x)\n",
    "print(y)\n",
    "\n",
    "# Abs\n",
    "# The abs() function returns the absolute (positive) value of the specified number:\n",
    "x = abs(-7.25)\n",
    "print(x)\n",
    "\n",
    "# Ceil vs Floor\n",
    "x = math.ceil(1.4)  # 2\n",
    "y = math.floor(1.4)  # 1\n",
    "print(x)\n",
    "print(y)"
   ]
  },
  {
   "cell_type": "code",
   "execution_count": 186,
   "metadata": {},
   "outputs": [
    {
     "name": "stdout",
     "output_type": "stream",
     "text": [
      "{\"name\": \"Ribhav\", \"age\": 25}\n",
      "<class 'str'>\n",
      "{'name': 'Ribhav', 'age': 25}\n",
      "<class 'dict'>\n"
     ]
    }
   ],
   "source": [
    "## Data Serialization\n",
    "import json\n",
    "\n",
    "data = {\"name\": \"Ribhav\", \"age\": 25}\n",
    "\n",
    "json_str = json.dumps(data)\n",
    "print(json_str)\n",
    "print(type(json_str))\n",
    "\n",
    "parsed_data = json.loads(json_str)\n",
    "print(parsed_data)\n",
    "print(type(parsed_data))"
   ]
  },
  {
   "cell_type": "code",
   "execution_count": 1,
   "metadata": {},
   "outputs": [
    {
     "name": "stdout",
     "output_type": "stream",
     "text": [
      "['name', 'age']\n",
      "['Ribhav', '26']\n"
     ]
    }
   ],
   "source": [
    "import csv\n",
    "\n",
    "with open(\"example.csv\", mode=\"w\", newline=\"\") as file:\n",
    "    writer = csv.writer(file)\n",
    "    writer.writerow([\"name\", \"age\"])\n",
    "    writer.writerow([\"Ribhav\", 26])\n",
    "\n",
    "with open(\"example.csv\", mode=\"r\") as file:\n",
    "    reader = csv.reader(file)\n",
    "    for row in reader:\n",
    "        print(row)"
   ]
  },
  {
   "cell_type": "code",
   "execution_count": 2,
   "metadata": {},
   "outputs": [
    {
     "name": "stdout",
     "output_type": "stream",
     "text": [
      "2024-12-04 13:41:08.747351\n",
      "2024-12-03 13:41:08.747351\n"
     ]
    }
   ],
   "source": [
    "## datetime\n",
    "from datetime import datetime, timedelta\n",
    "\n",
    "now = datetime.now()\n",
    "print(now)\n",
    "\n",
    "yesterday = now - timedelta(days=1)\n",
    "\n",
    "print(yesterday)"
   ]
  },
  {
   "cell_type": "code",
   "execution_count": 3,
   "metadata": {},
   "outputs": [
    {
     "name": "stdout",
     "output_type": "stream",
     "text": [
      "1733299926.844522\n",
      "1733299928.8456118\n"
     ]
    }
   ],
   "source": [
    "## time\n",
    "import time\n",
    "\n",
    "print(time.time())\n",
    "time.sleep(2)\n",
    "print(time.time())"
   ]
  },
  {
   "cell_type": "code",
   "execution_count": 4,
   "metadata": {},
   "outputs": [
    {
     "name": "stdout",
     "output_type": "stream",
     "text": [
      "123\n"
     ]
    }
   ],
   "source": [
    "import re\n",
    "\n",
    "pattern = r\"\\d+\"\n",
    "text = \"There are 123 apples 456\"\n",
    "match = re.search(pattern, text)\n",
    "print(match.group())"
   ]
  },
  {
   "cell_type": "code",
   "execution_count": 5,
   "metadata": {},
   "outputs": [
    {
     "name": "stdout",
     "output_type": "stream",
     "text": [
      "Hello How are you?\n",
      "\n"
     ]
    }
   ],
   "source": [
    "### Read a Whole File\n",
    "\n",
    "with open(\"source.txt\", \"r\") as file:\n",
    "    content = file.read()\n",
    "    print(content)"
   ]
  },
  {
   "cell_type": "code",
   "execution_count": 6,
   "metadata": {},
   "outputs": [
    {
     "name": "stdout",
     "output_type": "stream",
     "text": [
      "Hello How are you?\n"
     ]
    }
   ],
   "source": [
    "## Read a file line by line\n",
    "with open(\"source.txt\", \"r\") as file:\n",
    "    for line in file:\n",
    "        print(line.strip())  ## strip() removes the newline character"
   ]
  },
  {
   "cell_type": "code",
   "execution_count": 7,
   "metadata": {},
   "outputs": [],
   "source": [
    "## Writing a file(Overwriting)\n",
    "\n",
    "with open(\"example.txt\", \"w\") as file:\n",
    "    file.write(\"Hello World!\\n\")\n",
    "    file.write(\"This is a new line.\")"
   ]
  },
  {
   "cell_type": "code",
   "execution_count": 8,
   "metadata": {},
   "outputs": [],
   "source": [
    "## Write a file(without Overwriting)\n",
    "with open(\"example.txt\", \"a\") as file:\n",
    "    file.write(\"Append operation taking place!\\n\")"
   ]
  },
  {
   "cell_type": "code",
   "execution_count": 9,
   "metadata": {},
   "outputs": [],
   "source": [
    "## Writing a list of lines to a file\n",
    "lines = [\"First line \\n\", \"Second line \\n\", \"Third line\\n\"]\n",
    "with open(\"example.txt\", \"a\") as file:\n",
    "    file.writelines(lines)"
   ]
  },
  {
   "cell_type": "code",
   "execution_count": 10,
   "metadata": {},
   "outputs": [],
   "source": [
    "## Binary Files\n",
    "\n",
    "# Writing to a binary file\n",
    "data = b\"\\x00\\x01\\x02\\x03\\x04\"\n",
    "with open(\"example.bin\", \"wb\") as file:\n",
    "    file.write(data)"
   ]
  },
  {
   "cell_type": "code",
   "execution_count": 11,
   "metadata": {},
   "outputs": [
    {
     "name": "stdout",
     "output_type": "stream",
     "text": [
      "b'\\x00\\x01\\x02\\x03\\x04'\n"
     ]
    }
   ],
   "source": [
    "# Reading a binary file\n",
    "with open(\"example.bin\", \"rb\") as file:\n",
    "    content = file.read()\n",
    "    print(content)"
   ]
  },
  {
   "cell_type": "code",
   "execution_count": 12,
   "metadata": {},
   "outputs": [],
   "source": [
    "## Read the content from a source text fiile and write to a destination text file\n",
    "# Copying a text file\n",
    "with open(\"example.txt\", \"r\") as source_file:\n",
    "    content = source_file.read()\n",
    "\n",
    "with open(\"destination.txt\", \"w\") as destination_file:\n",
    "    destination_file.write(content)"
   ]
  },
  {
   "cell_type": "code",
   "execution_count": 13,
   "metadata": {},
   "outputs": [
    {
     "name": "stdout",
     "output_type": "stream",
     "text": [
      "Hello world\n",
      "This is a new line \n",
      "\n"
     ]
    }
   ],
   "source": [
    "### Writing and then reading a file\n",
    "\n",
    "with open(\"example.txt\", \"w+\") as file:\n",
    "    file.write(\"Hello world\\n\")\n",
    "    file.write(\"This is a new line \\n\")\n",
    "\n",
    "    ## Move the file cursor to the beginning\n",
    "    file.seek(0)\n",
    "\n",
    "    ## Read the content of the file\n",
    "    content = file.read()\n",
    "    print(content)"
   ]
  },
  {
   "cell_type": "code",
   "execution_count": 15,
   "metadata": {},
   "outputs": [
    {
     "name": "stdout",
     "output_type": "stream",
     "text": [
      "['.gitignore', '.venv', 'destination.txt', 'example.bin', 'example.csv', 'example.txt', 'LICENSE', 'package', 'python-concepts.ipynb', 'README.md', 'requirements.txt', 'source.txt', 'test_dir', 'test_dir1', 'venv']\n"
     ]
    }
   ],
   "source": [
    "import os\n",
    "## Listing Files And Directories\n",
    "items = os.listdir(\".\")\n",
    "print(items)"
   ]
  },
  {
   "cell_type": "code",
   "execution_count": 16,
   "metadata": {},
   "outputs": [
    {
     "name": "stdout",
     "output_type": "stream",
     "text": [
      "folder\\file.txt\n"
     ]
    }
   ],
   "source": [
    "### Joining Paths\n",
    "\n",
    "dir_name = \"folder\"\n",
    "file_name = \"file.txt\"\n",
    "full_path = os.path.join(dir_name, file_name)\n",
    "print(full_path)"
   ]
  },
  {
   "cell_type": "code",
   "execution_count": 17,
   "metadata": {},
   "outputs": [
    {
     "name": "stdout",
     "output_type": "stream",
     "text": [
      "The path 'example1.txt' does not exists\n"
     ]
    }
   ],
   "source": [
    "path = \"example1.txt\"\n",
    "if os.path.exists(path):\n",
    "    print(f\"The path '{path}' exists\")\n",
    "else:\n",
    "    print(f\"The path '{path}' does not exists\")"
   ]
  },
  {
   "cell_type": "code",
   "execution_count": 18,
   "metadata": {},
   "outputs": [
    {
     "name": "stdout",
     "output_type": "stream",
     "text": [
      "The path 'example.txt' is a file.\n"
     ]
    }
   ],
   "source": [
    "# Checking if a Path is a File or Directory\n",
    "import os\n",
    "\n",
    "path = \"example.txt\"\n",
    "if os.path.isfile(path):\n",
    "    print(f\"The path '{path}' is a file.\")\n",
    "elif os.path.isdir(path):\n",
    "    print(f\"The path '{path}' is a directory.\")\n",
    "else:\n",
    "    print(f\"The path '{path}' is neither a file nor a directory.\")"
   ]
  },
  {
   "cell_type": "markdown",
   "metadata": {},
   "source": [
    "Exception handling in Python allows you to handle errors gracefully and take corrective actions without stopping the execution of the program.\n",
    "\n",
    "##### What Are Exceptions?\n",
    "\n",
    "Exceptions are events that disrupt the normal flow of a program. They occur when an error is encountered during program execution. Common exceptions include:\n",
    "\n",
    "- ZeroDivisionError: Dividing by zero.\n",
    "- FileNotFoundError: File not found.\n",
    "- ValueError: Invalid value.\n",
    "- TypeError: Invalid type.\n"
   ]
  },
  {
   "cell_type": "code",
   "execution_count": 19,
   "metadata": {},
   "outputs": [
    {
     "name": "stdout",
     "output_type": "stream",
     "text": [
      "The variable has not been assigned\n"
     ]
    }
   ],
   "source": [
    "## Exception try ,except block\n",
    "\n",
    "try:\n",
    "    a = b\n",
    "except:\n",
    "    print(\"The variable has not been assigned\")"
   ]
  },
  {
   "cell_type": "code",
   "execution_count": 20,
   "metadata": {},
   "outputs": [
    {
     "ename": "NameError",
     "evalue": "name 'b' is not defined",
     "output_type": "error",
     "traceback": [
      "\u001b[1;31m---------------------------------------------------------------------------\u001b[0m",
      "\u001b[1;31mNameError\u001b[0m                                 Traceback (most recent call last)",
      "Cell \u001b[1;32mIn[20], line 1\u001b[0m\n\u001b[1;32m----> 1\u001b[0m a\u001b[38;5;241m=\u001b[39m\u001b[43mb\u001b[49m\n",
      "\u001b[1;31mNameError\u001b[0m: name 'b' is not defined"
     ]
    }
   ],
   "source": [
    "a=b"
   ]
  },
  {
   "cell_type": "code",
   "execution_count": 21,
   "metadata": {},
   "outputs": [
    {
     "name": "stdout",
     "output_type": "stream",
     "text": [
      "name 'b' is not defined\n"
     ]
    }
   ],
   "source": [
    "try:\n",
    "    a = b\n",
    "except NameError as ex:\n",
    "    print(ex)"
   ]
  },
  {
   "cell_type": "code",
   "execution_count": 22,
   "metadata": {},
   "outputs": [
    {
     "name": "stdout",
     "output_type": "stream",
     "text": [
      "name 'b' is not defined\n",
      "Main exception got caught here\n"
     ]
    }
   ],
   "source": [
    "try:\n",
    "    result = 1 / 2\n",
    "    a = b\n",
    "except ZeroDivisionError as ex:\n",
    "    print(ex)\n",
    "    print(\"Please enter the denominator greater than 0\")\n",
    "except Exception as ex1:\n",
    "    print(ex1)\n",
    "    print(\"Main exception got caught here\")"
   ]
  },
  {
   "cell_type": "code",
   "execution_count": 25,
   "metadata": {},
   "outputs": [
    {
     "name": "stdout",
     "output_type": "stream",
     "text": [
      "You can't divide by zero!\n",
      "Execution complete.\n"
     ]
    }
   ],
   "source": [
    "## try,except,else and finally\n",
    "try:\n",
    "    num = int(input(\"Enter a number: \"))\n",
    "    result = 10 / num\n",
    "except ValueError:\n",
    "    print(\"That's not a valid number!\")\n",
    "except ZeroDivisionError:\n",
    "    print(\"You can't divide by zero!\")\n",
    "except Exception as ex:\n",
    "    print(ex)\n",
    "else:\n",
    "    print(f\"The result is {result}\")\n",
    "finally:\n",
    "    print(\"Execution complete.\")"
   ]
  },
  {
   "cell_type": "code",
   "execution_count": 26,
   "metadata": {},
   "outputs": [
    {
     "name": "stdout",
     "output_type": "stream",
     "text": [
      "The file does not exists\n",
      "file close\n"
     ]
    }
   ],
   "source": [
    "### File handling and Exception HAndling\n",
    "\n",
    "try:\n",
    "    file = open(\"example1.txt\", \"r\")\n",
    "    content = file.read()\n",
    "    a = b\n",
    "    print(content)\n",
    "\n",
    "except FileNotFoundError:\n",
    "    print(\"The file does not exists\")\n",
    "except Exception as ex:\n",
    "    print(ex)\n",
    "\n",
    "finally:\n",
    "    if \"file\" in locals() or not file.closed():\n",
    "        file.close()\n",
    "        print(\"file close\")"
   ]
  },
  {
   "cell_type": "code",
   "execution_count": 27,
   "metadata": {},
   "outputs": [
    {
     "ename": "Exception",
     "evalue": "Sorry, no numbers below zero",
     "output_type": "error",
     "traceback": [
      "\u001b[1;31m---------------------------------------------------------------------------\u001b[0m",
      "\u001b[1;31mException\u001b[0m                                 Traceback (most recent call last)",
      "Cell \u001b[1;32mIn[27], line 4\u001b[0m\n\u001b[0;32m      2\u001b[0m x \u001b[38;5;241m=\u001b[39m \u001b[38;5;241m-\u001b[39m\u001b[38;5;241m1\u001b[39m\n\u001b[0;32m      3\u001b[0m \u001b[38;5;28;01mif\u001b[39;00m x \u001b[38;5;241m<\u001b[39m \u001b[38;5;241m0\u001b[39m:\n\u001b[1;32m----> 4\u001b[0m     \u001b[38;5;28;01mraise\u001b[39;00m \u001b[38;5;167;01mException\u001b[39;00m(\u001b[38;5;124m\"\u001b[39m\u001b[38;5;124mSorry, no numbers below zero\u001b[39m\u001b[38;5;124m\"\u001b[39m)  \u001b[38;5;66;03m# Raise an error and stop the\u001b[39;00m\n\u001b[0;32m      5\u001b[0m \u001b[38;5;66;03m# program if x is lower than 0.\u001b[39;00m\n",
      "\u001b[1;31mException\u001b[0m: Sorry, no numbers below zero"
     ]
    }
   ],
   "source": [
    "# raise: We can raise an exception explicitly with the raise keyword\n",
    "x = -1\n",
    "if x < 0:\n",
    "    raise Exception(\"Sorry, no numbers below zero\")  # Raise an error and stop the\n",
    "# program if x is lower than 0."
   ]
  },
  {
   "cell_type": "markdown",
   "metadata": {},
   "source": [
    "assert: This function is used for debugging purposes. Usually used to check the correctness of code. If a statement is evaluated to be true, nothing happens, but when it is false, “AssertionError” is raised. One can also print a message with the error, separated by a comma"
   ]
  },
  {
   "cell_type": "code",
   "execution_count": 28,
   "metadata": {},
   "outputs": [
    {
     "name": "stdout",
     "output_type": "stream",
     "text": [
      "The value of a / b is : \n"
     ]
    },
    {
     "ename": "AssertionError",
     "evalue": "Divide by 0 error",
     "output_type": "error",
     "traceback": [
      "\u001b[1;31m---------------------------------------------------------------------------\u001b[0m",
      "\u001b[1;31mAssertionError\u001b[0m                            Traceback (most recent call last)",
      "Cell \u001b[1;32mIn[28], line 4\u001b[0m\n\u001b[0;32m      2\u001b[0m b \u001b[38;5;241m=\u001b[39m \u001b[38;5;241m0\u001b[39m\n\u001b[0;32m      3\u001b[0m \u001b[38;5;28mprint\u001b[39m(\u001b[38;5;124m\"\u001b[39m\u001b[38;5;124mThe value of a / b is : \u001b[39m\u001b[38;5;124m\"\u001b[39m)\n\u001b[1;32m----> 4\u001b[0m \u001b[38;5;28;01massert\u001b[39;00m b \u001b[38;5;241m!=\u001b[39m \u001b[38;5;241m0\u001b[39m, \u001b[38;5;124m\"\u001b[39m\u001b[38;5;124mDivide by 0 error\u001b[39m\u001b[38;5;124m\"\u001b[39m\n\u001b[0;32m      5\u001b[0m \u001b[38;5;28mprint\u001b[39m(a \u001b[38;5;241m/\u001b[39m b)\n",
      "\u001b[1;31mAssertionError\u001b[0m: Divide by 0 error"
     ]
    }
   ],
   "source": [
    "a = 10\n",
    "b = 0\n",
    "print(\"The value of a / b is : \")\n",
    "assert b != 0, \"Divide by 0 error\"\n",
    "print(a / b)"
   ]
  },
  {
   "cell_type": "markdown",
   "metadata": {},
   "source": [
    "####  Classes and Objects\n",
    "\n",
    "Object-Oriented Programming (OOP) is a programming paradigm that uses \"objects\" to design applications and computer programs. OOP allows for modeling real-world scenarios using classes and objects.\n",
    "\n",
    "- A Class is like an object constructor, or a \"blueprint\" for creating objects.\n",
    "- All classes have a function called __init__(), which is always executed when the class is being initiated.\n",
    "- The __init__() function is called automatically every time the class is being used to create a new object\n"
   ]
  },
  {
   "cell_type": "code",
   "execution_count": 29,
   "metadata": {},
   "outputs": [
    {
     "name": "stdout",
     "output_type": "stream",
     "text": [
      "<class '__main__.Car'>\n",
      "<__main__.Car object at 0x000001F1A33827E0>\n",
      "<__main__.Car object at 0x000001F1A323A120>\n"
     ]
    }
   ],
   "source": [
    "### A class is a blue print for creating objects. Attributes,methods\n",
    "class Car:\n",
    "    pass\n",
    "\n",
    "\n",
    "audi = Car()\n",
    "bmw = Car()\n",
    "\n",
    "print(type(audi))\n",
    "print(audi)\n",
    "print(bmw)"
   ]
  },
  {
   "cell_type": "code",
   "execution_count": 30,
   "metadata": {},
   "outputs": [
    {
     "name": "stdout",
     "output_type": "stream",
     "text": [
      "4\n"
     ]
    }
   ],
   "source": [
    "audi.windows = 4\n",
    "\n",
    "print(audi.windows)"
   ]
  },
  {
   "cell_type": "code",
   "execution_count": 31,
   "metadata": {},
   "outputs": [
    {
     "data": {
      "text/plain": [
       "['__class__',\n",
       " '__delattr__',\n",
       " '__dict__',\n",
       " '__dir__',\n",
       " '__doc__',\n",
       " '__eq__',\n",
       " '__format__',\n",
       " '__ge__',\n",
       " '__getattribute__',\n",
       " '__getstate__',\n",
       " '__gt__',\n",
       " '__hash__',\n",
       " '__init__',\n",
       " '__init_subclass__',\n",
       " '__le__',\n",
       " '__lt__',\n",
       " '__module__',\n",
       " '__ne__',\n",
       " '__new__',\n",
       " '__reduce__',\n",
       " '__reduce_ex__',\n",
       " '__repr__',\n",
       " '__setattr__',\n",
       " '__sizeof__',\n",
       " '__str__',\n",
       " '__subclasshook__',\n",
       " '__weakref__',\n",
       " 'windows']"
      ]
     },
     "execution_count": 31,
     "metadata": {},
     "output_type": "execute_result"
    }
   ],
   "source": [
    "dir(audi)"
   ]
  },
  {
   "cell_type": "markdown",
   "metadata": {},
   "source": [
    "Self\n",
    "- The self parameter is a reference to the current instance of the class, and is used to access variables that belong to the class.\n",
    "- It does not have to be named self, you can call it whatever you like, but it has to be the first parameter of any function in the class.\n",
    "- Class methods must have an extra first parameter in the method definition.\n",
    "- We do not give a value for this parameter when we call the method, Python provides it.\n",
    "- If we have a method that takes no arguments, then we still have to have one argument.\n",
    "- When we call a method of this object as myobject.method(arg1, arg2), this is automatically converted by Python into MyClass.method(myobject, arg1, arg2)\n"
   ]
  },
  {
   "cell_type": "code",
   "execution_count": 32,
   "metadata": {},
   "outputs": [
    {
     "name": "stdout",
     "output_type": "stream",
     "text": [
      "<__main__.Dog object at 0x000001F1A2EF9D60>\n",
      "Buddy\n",
      "3\n"
     ]
    }
   ],
   "source": [
    "### Instance Variable and Methods\n",
    "class Dog:\n",
    "    ## constructor\n",
    "    def __init__(self, name, age):\n",
    "        self.name = name\n",
    "        self.age = age\n",
    "\n",
    "\n",
    "## create objects\n",
    "dog1 = Dog(\"Buddy\", 3)\n",
    "print(dog1)\n",
    "print(dog1.name)\n",
    "print(dog1.age)"
   ]
  },
  {
   "cell_type": "code",
   "execution_count": 33,
   "metadata": {},
   "outputs": [
    {
     "name": "stdout",
     "output_type": "stream",
     "text": [
      "Employee created.\n",
      "Destructor called, Employee deleted.\n"
     ]
    }
   ],
   "source": [
    "# Destructor\n",
    "class Employee:\n",
    "    def __init__(self):\n",
    "        print(\"Employee created.\")\n",
    "\n",
    "    # Deleting (Calling destructor)\n",
    "    def __del__(self):\n",
    "        print(\"Destructor called, Employee deleted.\")\n",
    "\n",
    "\n",
    "obj = Employee()\n",
    "del obj"
   ]
  },
  {
   "cell_type": "markdown",
   "metadata": {},
   "source": [
    "Class or Static Variables\n",
    "The Python approach is simple; it doesn’t require a static keyword.\n",
    "All variables which are assigned a value in the class declaration are class variables. And variables that are assigned values inside methods are instance variables.\n"
   ]
  },
  {
   "cell_type": "code",
   "execution_count": 34,
   "metadata": {},
   "outputs": [
    {
     "name": "stdout",
     "output_type": "stream",
     "text": [
      "cse\n",
      "cse\n",
      "cse\n"
     ]
    }
   ],
   "source": [
    "class CSStudent:\n",
    "    stream = \"cse\"  # Class Variable\n",
    "\n",
    "    def __init__(self, name, roll):\n",
    "        self.name = name\n",
    "        self.roll = roll\n",
    "\n",
    "\n",
    "a = CSStudent(\"Geek\", 1)\n",
    "b = CSStudent(\"Nerd\", 2)\n",
    "\n",
    "print(a.stream)  # prints \"cse\"\n",
    "print(b.stream)  # prints \"cse\"\n",
    "\n",
    "print(CSStudent.stream)  # prints \"cse\""
   ]
  },
  {
   "cell_type": "code",
   "execution_count": 35,
   "metadata": {},
   "outputs": [
    {
     "name": "stdout",
     "output_type": "stream",
     "text": [
      "ece\n",
      "cse\n",
      "ece\n",
      "mech\n",
      "mech\n"
     ]
    }
   ],
   "source": [
    "# Now if we change the stream for just a it won't be changed for b\n",
    "a.stream = \"ece\"\n",
    "print(a.stream)  # prints 'ece'\n",
    "print(b.stream)  # prints 'cse'\n",
    "\n",
    "CSStudent.stream = \"mech\"\n",
    "\n",
    "print(a.stream)  # prints 'ece'\n",
    "print(b.stream)  # prints 'mech'\n",
    "c = CSStudent(\"Geek\", 1)\n",
    "print(c.stream)  # prints 'mech'"
   ]
  },
  {
   "cell_type": "markdown",
   "metadata": {},
   "source": [
    "Class method vs Static method\n",
    "\n",
    "The @classmethod decorator is a built-in function decorator that is an expression that gets evaluated after your function is defined.\n",
    "A class method receives the class as an implicit first argument, just like an instance method receives the instance.\n",
    "\n",
    "A class method is a method that is bound to the class and not the object of the class.\n",
    "They have access to the state of the class as it takes a class parameter that points to the class and not the object instance.\n",
    "\n",
    "Static Method\n",
    "\n",
    "A static method does not receive an implicit first argument.\n",
    "\n",
    "A static method is also a method that is bound to the class and not the object of the class.\n",
    "\n",
    "A static method can’t access or modify the class state.\n",
    "\n",
    "In general, static methods know nothing about the class state. They are utility-type methods that take some parameters and work upon those parameters. On the other hand class methods must have class as a parameter.\n"
   ]
  },
  {
   "cell_type": "code",
   "execution_count": 1,
   "metadata": {},
   "outputs": [
    {
     "name": "stdout",
     "output_type": "stream",
     "text": [
      "21\n",
      "28\n",
      "True\n"
     ]
    }
   ],
   "source": [
    "from datetime import date\n",
    "\n",
    "\n",
    "class Person:\n",
    "    def __init__(self, name, age):\n",
    "        self.name = name\n",
    "        self.age = age\n",
    "\n",
    "    # a class method to create a Person object by birth year.\n",
    "    @classmethod\n",
    "    def fromBirthYear(cls, name, year):\n",
    "        return cls(name, date.today().year - year)\n",
    "\n",
    "    # a static method to check if a Person is an adult or not.\n",
    "    @staticmethod\n",
    "    def isAdult(age):\n",
    "        return age > 18\n",
    "\n",
    "\n",
    "person1 = Person(\"mayank\", 21)\n",
    "person2 = Person.fromBirthYear(\"mayank\", 1996)\n",
    "\n",
    "print(person1.age)\n",
    "print(person2.age)\n",
    "\n",
    "# print the result\n",
    "print(Person.isAdult(22))"
   ]
  },
  {
   "cell_type": "code",
   "execution_count": 2,
   "metadata": {},
   "outputs": [
    {
     "name": "stdout",
     "output_type": "stream",
     "text": [
      "5000\n",
      "100 is deposited. New balance is 5100\n",
      "300 is withdrawn. New Balance is 4800\n",
      "4800\n"
     ]
    }
   ],
   "source": [
    "### Modeling a Bank Account\n",
    "## Define a class with instance methods\n",
    "\n",
    "\n",
    "## Define a class for bank account\n",
    "class BankAccount:\n",
    "    def __init__(self, owner, balance=0):\n",
    "        self.owner = owner\n",
    "        self.balance = balance\n",
    "\n",
    "    def deposit(self, amount):\n",
    "        self.balance += amount\n",
    "        print(f\"{amount} is deposited. New balance is {self.balance}\")\n",
    "\n",
    "    def withdraw(self, amount):\n",
    "        if amount > self.balance:\n",
    "            print(\"Insufficient funds!\")\n",
    "        else:\n",
    "            self.balance -= amount\n",
    "            print(f\"{amount} is withdrawn. New Balance is {self.balance}\")\n",
    "\n",
    "    def get_balance(self):\n",
    "        return self.balance\n",
    "\n",
    "\n",
    "## create an account\n",
    "\n",
    "account = BankAccount(\"Ribhav\", 5000)\n",
    "print(account.balance)\n",
    "\n",
    "## Call isntance methods\n",
    "account.deposit(100)\n",
    "\n",
    "account.withdraw(300)\n",
    "\n",
    "print(account.get_balance())"
   ]
  },
  {
   "cell_type": "markdown",
   "metadata": {},
   "source": [
    "#### Inheritance In Python\n",
    "Inheritance is a fundamental concept in Object-Oriented Programming (OOP) that allows a class to inherit attributes and methods from another class. This lesson covers single inheritance and multiple inheritance.\n",
    "\n",
    "To create a class that inherits the functionality from another class, send the parent class as a parameter when creating the child class\n",
    "\n",
    "When you add the __init__() function, the child class will no longer inherit the parent's __init__() function.\n",
    "To keep the inheritance of the parent's __init__() function, add a call to the parent's __init__() function\n",
    "\n",
    "super() function will make the child class inherit all the methods and properties from its parent.\n",
    "\n",
    "- Single inheritance: When a child class inherits from only one parent class, it is called single inheritance.\n",
    "- Multiple inheritance: When a child class inherits from multiple parent classes, it is called multiple inheritance. Unlike Java and like C++, Python supports multiple inheritance.\n",
    "- Multilevel inheritance: When we have a child and grandchild relationship.\n",
    "- Hierarchical inheritance More than one derived class are created from a single base.\n",
    "- Hybrid inheritance: This form combines more than one form of inheritance.\n"
   ]
  },
  {
   "cell_type": "code",
   "execution_count": 3,
   "metadata": {},
   "outputs": [
    {
     "name": "stdout",
     "output_type": "stream",
     "text": [
      "The person will drive the petrol car \n",
      "Tesla supports self driving : True\n"
     ]
    }
   ],
   "source": [
    "## Inheritance (Single Inheritance)\n",
    "## Parent class\n",
    "class Car:\n",
    "    def __init__(self, windows, doors, enginetype):\n",
    "        self.windows = windows\n",
    "        self.doors = doors\n",
    "        self.enginetype = enginetype\n",
    "\n",
    "    def drive(self):\n",
    "        print(f\"The person will drive the {self.enginetype} car \")\n",
    "\n",
    "\n",
    "car1 = Car(4, 5, \"petrol\")\n",
    "car1.drive()\n",
    "\n",
    "\n",
    "class Tesla(Car):\n",
    "    def __init__(self, windows, doors, enginetype, is_selfdriving):\n",
    "        super().__init__(windows, doors, enginetype)\n",
    "        self.is_selfdriving = is_selfdriving\n",
    "\n",
    "    def selfdriving(self):\n",
    "        print(f\"Tesla supports self driving : {self.is_selfdriving}\")\n",
    "\n",
    "\n",
    "tesla1 = Tesla(4, 5, \"electric\", True)\n",
    "tesla1.selfdriving()"
   ]
  },
  {
   "cell_type": "code",
   "execution_count": 4,
   "metadata": {},
   "outputs": [
    {
     "name": "stdout",
     "output_type": "stream",
     "text": [
      "Buddy say woof\n",
      "Owner:Ribhav\n"
     ]
    }
   ],
   "source": [
    "### Multiple Inheritance\n",
    "## When a class inherits from more than one base class.\n",
    "## Base class 1\n",
    "class Animal:\n",
    "    def __init__(self, name):\n",
    "        self.name = name\n",
    "\n",
    "    def speak(self):\n",
    "        print(\"Subclass must implement this method\")\n",
    "\n",
    "\n",
    "## Base class 2\n",
    "class Pet:\n",
    "    def __init__(self, owner):\n",
    "        self.owner = owner\n",
    "\n",
    "\n",
    "##Derived class\n",
    "class Dog(Animal, Pet):\n",
    "    def __init__(self, name, owner):\n",
    "        Animal.__init__(self, name)\n",
    "        Pet.__init__(self, owner)\n",
    "\n",
    "    def speak(self):\n",
    "        return f\"{self.name} say woof\"\n",
    "\n",
    "\n",
    "## Create an object\n",
    "dog = Dog(\"Buddy\", \"Ribhav\")\n",
    "print(dog.speak())\n",
    "print(f\"Owner:{dog.owner}\")"
   ]
  },
  {
   "cell_type": "markdown",
   "metadata": {},
   "source": [
    "In Python, when you use multiple inheritance and a method is defined in both parent classes, the method resolution order (MRO) determines which method will be called.\n",
    "\n",
    "The MRO specifies the order in which Python looks for a method in the hierarchy of classes. Python follows the C3 linearization algorithm to determine this order."
   ]
  },
  {
   "cell_type": "code",
   "execution_count": 6,
   "metadata": {},
   "outputs": [
    {
     "name": "stdout",
     "output_type": "stream",
     "text": [
      "Hello from Parent1\n"
     ]
    }
   ],
   "source": [
    "class Parent1:\n",
    "    def greet(self):\n",
    "        print(\"Hello from Parent1\")\n",
    "\n",
    "\n",
    "class Parent2:\n",
    "    def greet(self):\n",
    "        print(\"Hello from Parent2\")\n",
    "\n",
    "\n",
    "class Child(Parent1, Parent2):\n",
    "    pass\n",
    "\n",
    "\n",
    "child = Child()\n",
    "child.greet()"
   ]
  },
  {
   "cell_type": "markdown",
   "metadata": {},
   "source": [
    "Since Parent1 is listed first in the inheritance list (Child(Parent1, Parent2)), the greet method from Parent1 is called."
   ]
  },
  {
   "cell_type": "markdown",
   "metadata": {},
   "source": [
    "Hybrid Inheritance in Python is a combination of multiple types of inheritance. It involves using multiple inheritance, hierarchical inheritance, and single inheritance together in a class hierarchy. The structure typically forms a complex graph, combining various inheritance strategies."
   ]
  },
  {
   "cell_type": "code",
   "execution_count": 7,
   "metadata": {},
   "outputs": [
    {
     "name": "stdout",
     "output_type": "stream",
     "text": [
      "This function is in school.\n",
      "This function is in student 1. \n"
     ]
    }
   ],
   "source": [
    "# Hybrid inheritance\n",
    "class School:\n",
    "    def func1(self):\n",
    "        print(\"This function is in school.\")\n",
    "\n",
    "\n",
    "class Student1(School):\n",
    "    def func2(self):\n",
    "        print(\"This function is in student 1. \")\n",
    "\n",
    "\n",
    "class Student2(School):\n",
    "    def func3(self):\n",
    "        print(\"This function is in student 2.\")\n",
    "\n",
    "\n",
    "class Student3(Student1, School):\n",
    "    def func4(self):\n",
    "        print(\"This function is in student 3.\")\n",
    "\n",
    "\n",
    "# Driver's code\n",
    "object = Student3()\n",
    "object.func1()\n",
    "object.func2()"
   ]
  },
  {
   "cell_type": "markdown",
   "metadata": {},
   "source": [
    "#### Polymorphism\n",
    "\n",
    "Polymorphism is a core concept in Object-Oriented Programming (OOP) that allows objects of different classes to be treated as objects of a common superclass. It provides a way to perform a single action in different forms. Polymorphism is typically achieved through method overriding and interfaces\n",
    "\n",
    "The word polymorphism means having many forms. In programming, polymorphism means the same function name (but different signatures) being used for different types.\n"
   ]
  },
  {
   "cell_type": "markdown",
   "metadata": {},
   "source": [
    "####  Method Overriding\n",
    "Method overriding allows a child class to provide a specific implementation of a method that is already defined in its parent class."
   ]
  },
  {
   "cell_type": "code",
   "execution_count": null,
   "metadata": {},
   "outputs": [],
   "source": [
    "## Base Class\n",
    "class Animal:\n",
    "    def speak(self):\n",
    "        return \"Sound of the animal\"\n",
    "\n",
    "\n",
    "## Derived Class 1\n",
    "class Dog(Animal):\n",
    "    def speak(self):\n",
    "        return \"Woof!\"\n",
    "\n",
    "\n",
    "## Derived class\n",
    "class Cat(Animal):\n",
    "    def speak(self):\n",
    "        return \"Meow!\"\n",
    "\n",
    "\n",
    "## Function that demonstrates polymorphism\n",
    "def animal_speak(animal):\n",
    "    print(animal.speak())\n",
    "\n",
    "\n",
    "dog = Dog()\n",
    "cat = Cat()\n",
    "print(dog.speak())\n",
    "print(cat.speak())\n",
    "animal_speak(dog)"
   ]
  },
  {
   "cell_type": "code",
   "execution_count": null,
   "metadata": {},
   "outputs": [],
   "source": [
    "### Polymorphism with Functions and Methods\n",
    "## base class\n",
    "\n",
    "\n",
    "class Shape:\n",
    "    def area(self):\n",
    "        return \"The area of the figure\"\n",
    "\n",
    "\n",
    "## Derived class 1\n",
    "class Rectangle(Shape):\n",
    "    def __init__(self, width, height):\n",
    "        self.width = width\n",
    "        self.height = height\n",
    "\n",
    "    def area(self):\n",
    "        return self.width * self.height\n",
    "\n",
    "\n",
    "##DErived class 2\n",
    "\n",
    "\n",
    "class Circle(Shape):\n",
    "    def __init__(self, radius):\n",
    "        self.radius = radius\n",
    "\n",
    "    def area(self):\n",
    "        return 3.14 * self.radius * self.radius\n",
    "\n",
    "\n",
    "## Fucntion that demonstrates polymorphism\n",
    "\n",
    "\n",
    "def print_area(shape):\n",
    "    print(f\"the area is {shape.area()}\")\n",
    "\n",
    "\n",
    "rectangle = Rectangle(4, 5)\n",
    "circle = Circle(3)\n",
    "\n",
    "print_area(rectangle)\n",
    "print_area(circle)"
   ]
  },
  {
   "cell_type": "markdown",
   "metadata": {},
   "source": [
    "Method Overloading (Not Native in Python):\n",
    "\n",
    "Python does not support method overloading directly because the latest defined method overrides the previous ones. However, you can simulate it using default arguments or variable-length arguments."
   ]
  },
  {
   "cell_type": "code",
   "execution_count": 9,
   "metadata": {},
   "outputs": [
    {
     "name": "stdout",
     "output_type": "stream",
     "text": [
      "30\n",
      "60\n"
     ]
    }
   ],
   "source": [
    "class Calculator:\n",
    "    def add(self, a, b, c=0):\n",
    "        return a + b + c\n",
    "\n",
    "\n",
    "calc = Calculator()\n",
    "print(calc.add(10, 20))  # Two arguments\n",
    "print(calc.add(10, 20, 30))  # Three arguments"
   ]
  },
  {
   "cell_type": "markdown",
   "metadata": {},
   "source": [
    "#### Polymorphism with Abstract Base Classes\n",
    "Abstract Base Classes (ABCs) are used to define common methods for a group of related objects. They can enforce that derived classes implement particular methods, promoting consistency across different implementations."
   ]
  },
  {
   "cell_type": "code",
   "execution_count": 10,
   "metadata": {},
   "outputs": [
    {
     "name": "stdout",
     "output_type": "stream",
     "text": [
      "Car enginer started\n"
     ]
    }
   ],
   "source": [
    "from abc import ABC, abstractmethod\n",
    "\n",
    "\n",
    "## Define an abstract class\n",
    "class Vehicle(ABC):\n",
    "    @abstractmethod\n",
    "    def start_engine(self):\n",
    "        pass\n",
    "\n",
    "\n",
    "## Derived class 1\n",
    "class Car(Vehicle):\n",
    "    def start_engine(self):\n",
    "        return \"Car enginer started\"\n",
    "\n",
    "\n",
    "## Derived class 2\n",
    "class Motorcycle(Vehicle):\n",
    "    def start_engine(self):\n",
    "        return \"Motorcycle enginer started\"\n",
    "\n",
    "\n",
    "# Function that demonstrates polymorphism\n",
    "def start_vehicle(vehicle):\n",
    "    print(vehicle.start_engine())\n",
    "\n",
    "\n",
    "## create objects of cAr and Motorcycle\n",
    "\n",
    "car = Car()\n",
    "motorcycle = Motorcycle()\n",
    "\n",
    "start_vehicle(car)"
   ]
  },
  {
   "cell_type": "markdown",
   "metadata": {},
   "source": [
    "#### Encapsulation And Abstraction\n",
    "Encapsulation and abstraction are two fundamental principles of Object-Oriented Programming (OOP) that help in designing robust, maintainable, and reusable code. Encapsulation involves bundling data and methods that operate on the data within a single unit, while abstraction involves hiding complex implementation details and exposing only the necessary features."
   ]
  },
  {
   "cell_type": "markdown",
   "metadata": {},
   "source": [
    "##### Encapsulation\n",
    "Encapsulation is the concept of wrapping data (variables) and methods (functions) together as a single unit. It restricts direct access to some of the object's components, which is a means of preventing accidental interference and misuse of the data.\n"
   ]
  },
  {
   "cell_type": "code",
   "execution_count": 11,
   "metadata": {},
   "outputs": [
    {
     "data": {
      "text/plain": [
       "'Ribhav'"
      ]
     },
     "execution_count": 11,
     "metadata": {},
     "output_type": "execute_result"
    }
   ],
   "source": [
    "### Encapsulation with Getter and Setter Methods\n",
    "### Public, protected, private variables or access modifiers\n",
    "\n",
    "\n",
    "class Person:\n",
    "    def __init__(self, name, age):\n",
    "        self.name = name  ## public variables\n",
    "        self.age = age  ## public variables\n",
    "\n",
    "\n",
    "def get_name(person):\n",
    "    return person.name\n",
    "\n",
    "\n",
    "person = Person(\"Ribhav\", 34)\n",
    "get_name(person)"
   ]
  },
  {
   "cell_type": "code",
   "execution_count": 12,
   "metadata": {},
   "outputs": [
    {
     "data": {
      "text/plain": [
       "['__class__',\n",
       " '__delattr__',\n",
       " '__dict__',\n",
       " '__dir__',\n",
       " '__doc__',\n",
       " '__eq__',\n",
       " '__format__',\n",
       " '__ge__',\n",
       " '__getattribute__',\n",
       " '__getstate__',\n",
       " '__gt__',\n",
       " '__hash__',\n",
       " '__init__',\n",
       " '__init_subclass__',\n",
       " '__le__',\n",
       " '__lt__',\n",
       " '__module__',\n",
       " '__ne__',\n",
       " '__new__',\n",
       " '__reduce__',\n",
       " '__reduce_ex__',\n",
       " '__repr__',\n",
       " '__setattr__',\n",
       " '__sizeof__',\n",
       " '__str__',\n",
       " '__subclasshook__',\n",
       " '__weakref__',\n",
       " 'age',\n",
       " 'name']"
      ]
     },
     "execution_count": 12,
     "metadata": {},
     "output_type": "execute_result"
    }
   ],
   "source": [
    "dir(person)"
   ]
  },
  {
   "cell_type": "code",
   "execution_count": 13,
   "metadata": {},
   "outputs": [
    {
     "ename": "AttributeError",
     "evalue": "'Person' object has no attribute '__name'",
     "output_type": "error",
     "traceback": [
      "\u001b[1;31m---------------------------------------------------------------------------\u001b[0m",
      "\u001b[1;31mAttributeError\u001b[0m                            Traceback (most recent call last)",
      "Cell \u001b[1;32mIn[13], line 13\u001b[0m\n\u001b[0;32m      9\u001b[0m     \u001b[38;5;28;01mreturn\u001b[39;00m person\u001b[38;5;241m.\u001b[39m__name\n\u001b[0;32m     12\u001b[0m person \u001b[38;5;241m=\u001b[39m Person(\u001b[38;5;124m\"\u001b[39m\u001b[38;5;124mRibhav\u001b[39m\u001b[38;5;124m\"\u001b[39m, \u001b[38;5;241m34\u001b[39m, \u001b[38;5;124m\"\u001b[39m\u001b[38;5;124mMale\u001b[39m\u001b[38;5;124m\"\u001b[39m)\n\u001b[1;32m---> 13\u001b[0m \u001b[43mget_name\u001b[49m\u001b[43m(\u001b[49m\u001b[43mperson\u001b[49m\u001b[43m)\u001b[49m\n",
      "Cell \u001b[1;32mIn[13], line 9\u001b[0m, in \u001b[0;36mget_name\u001b[1;34m(person)\u001b[0m\n\u001b[0;32m      8\u001b[0m \u001b[38;5;28;01mdef\u001b[39;00m \u001b[38;5;21mget_name\u001b[39m(person):\n\u001b[1;32m----> 9\u001b[0m     \u001b[38;5;28;01mreturn\u001b[39;00m \u001b[43mperson\u001b[49m\u001b[38;5;241;43m.\u001b[39;49m\u001b[43m__name\u001b[49m\n",
      "\u001b[1;31mAttributeError\u001b[0m: 'Person' object has no attribute '__name'"
     ]
    }
   ],
   "source": [
    "class Person:\n",
    "    def __init__(self, name, age, gender):\n",
    "        self.__name = name  ## private variables\n",
    "        self.__age = age  ## private variables\n",
    "        self.gender = gender\n",
    "\n",
    "\n",
    "def get_name(person):\n",
    "    return person.__name\n",
    "\n",
    "\n",
    "person = Person(\"Ribhav\", 34, \"Male\")\n",
    "get_name(person)"
   ]
  },
  {
   "cell_type": "markdown",
   "metadata": {},
   "source": [
    "Private members\n",
    "\n",
    "We don’t always want the instance variables of the parent class to be inherited by the child class i.e. we can make some of the instance variables of the parent class private. We can make an instance variable by adding double underscores before its name.\n"
   ]
  },
  {
   "cell_type": "code",
   "execution_count": 14,
   "metadata": {},
   "outputs": [
    {
     "data": {
      "text/plain": [
       "['_Person__age',\n",
       " '_Person__name',\n",
       " '__class__',\n",
       " '__delattr__',\n",
       " '__dict__',\n",
       " '__dir__',\n",
       " '__doc__',\n",
       " '__eq__',\n",
       " '__format__',\n",
       " '__ge__',\n",
       " '__getattribute__',\n",
       " '__getstate__',\n",
       " '__gt__',\n",
       " '__hash__',\n",
       " '__init__',\n",
       " '__init_subclass__',\n",
       " '__le__',\n",
       " '__lt__',\n",
       " '__module__',\n",
       " '__ne__',\n",
       " '__new__',\n",
       " '__reduce__',\n",
       " '__reduce_ex__',\n",
       " '__repr__',\n",
       " '__setattr__',\n",
       " '__sizeof__',\n",
       " '__str__',\n",
       " '__subclasshook__',\n",
       " '__weakref__',\n",
       " 'gender']"
      ]
     },
     "execution_count": 14,
     "metadata": {},
     "output_type": "execute_result"
    }
   ],
   "source": [
    "dir(person)"
   ]
  },
  {
   "cell_type": "markdown",
   "metadata": {},
   "source": [
    "Protected members\n",
    "\n",
    "Protected members (in C++ and JAVA) are those members of the class that cannot be accessed outside the class but can be accessed from within the class and its subclasses. To accomplish this in Python, just follow the convention by prefixing the name of the member by a single underscore “\\_”.\n"
   ]
  },
  {
   "cell_type": "code",
   "execution_count": 16,
   "metadata": {},
   "outputs": [
    {
     "name": "stdout",
     "output_type": "stream",
     "text": [
      "Ribhav\n"
     ]
    }
   ],
   "source": [
    "class Person:\n",
    "    def __init__(self, name, age, gender):\n",
    "        self._name = name  ## protected variables\n",
    "        self._age = age  ## protected variables\n",
    "        self.gender = gender\n",
    "\n",
    "\n",
    "class Employee(Person):\n",
    "    def __init__(self, name, age, gender):\n",
    "        super().__init__(name, age, gender)\n",
    "\n",
    "\n",
    "employee = Employee(\"Ribhav\", 34, \"Male\")\n",
    "print(employee._name)"
   ]
  },
  {
   "cell_type": "code",
   "execution_count": 17,
   "metadata": {},
   "outputs": [
    {
     "name": "stdout",
     "output_type": "stream",
     "text": [
      "Ribhav\n",
      "34\n",
      "36\n",
      "Age cannot be negative.\n"
     ]
    }
   ],
   "source": [
    "## Encapsulation With Getter And Setter\n",
    "class Person:\n",
    "    def __init__(self, name, age):\n",
    "        self.__name = name  ## Private access modifier or variable\n",
    "        self.__age = age  ## Private variable\n",
    "\n",
    "    ## getter method for name\n",
    "    def get_name(self):\n",
    "        return self.__name\n",
    "\n",
    "    ## setter method for name\n",
    "    def set_name(self, name):\n",
    "        self.__name = name\n",
    "\n",
    "    # Getter method for age\n",
    "    def get_age(self):\n",
    "        return self.__age\n",
    "\n",
    "    # Setter method for age\n",
    "    def set_age(self, age):\n",
    "        if age > 0:\n",
    "            self.__age = age\n",
    "        else:\n",
    "            print(\"Age cannot be negative.\")\n",
    "\n",
    "\n",
    "person = Person(\"Ribhav\", 34)\n",
    "\n",
    "## Access and modify private variables using getter and setter\n",
    "\n",
    "print(person.get_name())\n",
    "print(person.get_age())\n",
    "\n",
    "person.set_age(36)\n",
    "print(person.get_age())\n",
    "\n",
    "person.set_age(-5)"
   ]
  },
  {
   "cell_type": "markdown",
   "metadata": {},
   "source": [
    "#### Magic Methods\n",
    "Magic methods in Python, also known as dunder methods (double underscore methods), are special methods that start and end with double underscores. These methods enable you to define the behavior of objects for built-in operations, such as arithmetic operations, comparisons, and more."
   ]
  },
  {
   "cell_type": "markdown",
   "metadata": {},
   "source": [
    "##### Magic Methods\n",
    "Magic methods are predefined methods in Python that you can override to change the behavior of your objects. Some common magic methods include:\n"
   ]
  },
  {
   "cell_type": "code",
   "execution_count": 18,
   "metadata": {},
   "outputs": [
    {
     "data": {
      "text/plain": [
       "\"\\n__init__': Initializes a new instance of a class.\\n__str__: Returns a string representation of an object.\\n__repr__: Returns an official string representation of an object.\\n__len__: Returns the length of an object.\\n__getitem__: Gets an item from a container.\\n__setitem__: Sets an item in a container.\\n\""
      ]
     },
     "execution_count": 18,
     "metadata": {},
     "output_type": "execute_result"
    }
   ],
   "source": [
    "'''\n",
    "__init__': Initializes a new instance of a class.\n",
    "__str__: Returns a string representation of an object.\n",
    "__repr__: Returns an official string representation of an object.\n",
    "__len__: Returns the length of an object.\n",
    "__getitem__: Gets an item from a container.\n",
    "__setitem__: Sets an item in a container.\n",
    "'''"
   ]
  },
  {
   "cell_type": "code",
   "execution_count": 20,
   "metadata": {},
   "outputs": [
    {
     "name": "stdout",
     "output_type": "stream",
     "text": [
      "Ribhav,34 years old\n",
      "Person(name=Ribhav,age=34)\n"
     ]
    }
   ],
   "source": [
    "## Basics Methods\n",
    "class Person:\n",
    "    def __init__(self, name, age):\n",
    "        self.name = name\n",
    "        self.age = age\n",
    "\n",
    "    def __str__(self):\n",
    "        return f\"{self.name},{self.age} years old\"\n",
    "\n",
    "    def __repr__(self):\n",
    "        return f\"Person(name={self.name},age={self.age})\"\n",
    "\n",
    "\n",
    "person = Person(\"Ribhav\", 34)\n",
    "print(person)\n",
    "print(repr(person))"
   ]
  },
  {
   "cell_type": "markdown",
   "metadata": {},
   "source": [
    "##### Operator Overloading\n",
    "Operator overloading allows you to define the behavior of operators (+, -, *, etc.) for custom objects. You achieve this by overriding specific magic methods in your class."
   ]
  },
  {
   "cell_type": "code",
   "execution_count": 21,
   "metadata": {},
   "outputs": [
    {
     "data": {
      "text/plain": [
       "'\\n__add__(self, other): Adds two objects using the + operator.\\n__sub__(self, other): Subtracts two objects using the - operator.\\n__mul__(self, other): Multiplies two objects using the * operator.\\n__truediv__(self, other): Divides two objects using the / operator.\\n__eq__(self, other): Checks if two objects are equal using the == operator.\\n__lt__(self, other): Checks if one object is less than another using the < operator.\\n\\n__gt__\\n'"
      ]
     },
     "execution_count": 21,
     "metadata": {},
     "output_type": "execute_result"
    }
   ],
   "source": [
    "#### Common Operator Overloading Magic Methods\n",
    "'''\n",
    "__add__(self, other): Adds two objects using the + operator.\n",
    "__sub__(self, other): Subtracts two objects using the - operator.\n",
    "__mul__(self, other): Multiplies two objects using the * operator.\n",
    "__truediv__(self, other): Divides two objects using the / operator.\n",
    "__eq__(self, other): Checks if two objects are equal using the == operator.\n",
    "__lt__(self, other): Checks if one object is less than another using the < operator.\n",
    "\n",
    "__gt__\n",
    "'''"
   ]
  },
  {
   "cell_type": "code",
   "execution_count": 22,
   "metadata": {},
   "outputs": [
    {
     "name": "stdout",
     "output_type": "stream",
     "text": [
      "3 + 7i\n",
      "1 + -1i\n",
      "-10 + 11i\n",
      "0.8235294117647058 + -0.29411764705882354i\n",
      "False\n"
     ]
    }
   ],
   "source": [
    "### Overloading Operators for Complex Numbers\n",
    "\n",
    "\n",
    "class ComplexNumber:\n",
    "    def __init__(self, real, imag):\n",
    "        self.real = real\n",
    "        self.imag = imag\n",
    "\n",
    "    def __add__(self, other):\n",
    "        return ComplexNumber(self.real + other.real, self.imag + other.imag)\n",
    "\n",
    "    def __sub__(self, other):\n",
    "        return ComplexNumber(self.real - other.real, self.imag - other.imag)\n",
    "\n",
    "    def __mul__(self, other):\n",
    "        real_part = self.real * other.real - self.imag * other.imag\n",
    "        imag_part = self.real * other.imag + self.imag * other.real\n",
    "        return ComplexNumber(real_part, imag_part)\n",
    "\n",
    "    def __truediv__(self, other):\n",
    "        denominator = other.real**2 + other.imag**2\n",
    "        real_part = (self.real * other.real + self.imag * other.imag) / denominator\n",
    "        imag_part = (self.imag * other.real - self.real * other.imag) / denominator\n",
    "        return ComplexNumber(real_part, imag_part)\n",
    "\n",
    "    def __eq__(self, other):\n",
    "        return self.real == other.real and self.imag == other.imag\n",
    "\n",
    "    def __repr__(self):\n",
    "        return f\"{self.real} + {self.imag}i\"\n",
    "\n",
    "\n",
    "# Create objects of the ComplexNumber class\n",
    "c1 = ComplexNumber(2, 3)\n",
    "c2 = ComplexNumber(1, 4)\n",
    "\n",
    "# Use overloaded operators\n",
    "print(c1 + c2)  # Output: 3 + 7i\n",
    "print(c1 - c2)  # Output: 1 - 1i\n",
    "print(c1 * c2)  # Output: -10 + 11i\n",
    "print(c1 / c2)  # Output: 0.8235294117647058 - 0.29411764705882354i\n",
    "print(c1 == c2)  # Output: False"
   ]
  },
  {
   "cell_type": "markdown",
   "metadata": {},
   "source": [
    "import : This statement is used to include a particular module into the current program.\n",
    "\n",
    "from : Generally used with import, from is used to import particular functionality from the module imported.\n",
    "as keyword is used to create the alias for the imported module."
   ]
  },
  {
   "cell_type": "markdown",
   "metadata": {},
   "source": [
    "### Iterators\n",
    "Iterators are advanced Python concepts that allow for efficient looping and memory management. Iterators provide a way to access elements of a collection sequentially without exposing the underlying structure.\n"
   ]
  },
  {
   "cell_type": "code",
   "execution_count": 23,
   "metadata": {},
   "outputs": [
    {
     "name": "stdout",
     "output_type": "stream",
     "text": [
      "1\n",
      "2\n",
      "3\n",
      "4\n",
      "5\n",
      "6\n"
     ]
    }
   ],
   "source": [
    "my_list = [1, 2, 3, 4, 5, 6]\n",
    "for i in my_list:\n",
    "    print(i)"
   ]
  },
  {
   "cell_type": "code",
   "execution_count": 24,
   "metadata": {},
   "outputs": [
    {
     "name": "stdout",
     "output_type": "stream",
     "text": [
      "<class 'list_iterator'>\n"
     ]
    },
    {
     "data": {
      "text/plain": [
       "<list_iterator at 0x1d8e95cba30>"
      ]
     },
     "execution_count": 24,
     "metadata": {},
     "output_type": "execute_result"
    }
   ],
   "source": [
    "## Iterator\n",
    "iterator = iter(my_list)\n",
    "print(type(iterator))\n",
    "iterator"
   ]
  },
  {
   "cell_type": "code",
   "execution_count": 25,
   "metadata": {},
   "outputs": [
    {
     "data": {
      "text/plain": [
       "1"
      ]
     },
     "execution_count": 25,
     "metadata": {},
     "output_type": "execute_result"
    }
   ],
   "source": [
    "## Iterate through all the element\n",
    "\n",
    "next(iterator)"
   ]
  },
  {
   "cell_type": "code",
   "execution_count": 26,
   "metadata": {},
   "outputs": [
    {
     "name": "stdout",
     "output_type": "stream",
     "text": [
      "2\n"
     ]
    }
   ],
   "source": [
    "try:\n",
    "    print(next(iterator))\n",
    "except StopIteration:\n",
    "    print(\"There are no elements in the iterator\")"
   ]
  },
  {
   "cell_type": "markdown",
   "metadata": {},
   "source": [
    "#### Generators\n",
    "Generators are a simpler way to create iterators. They use the yield keyword to produce a series of values lazily, which means they generate values on the fly and do not store them in memory."
   ]
  },
  {
   "cell_type": "code",
   "execution_count": 27,
   "metadata": {},
   "outputs": [],
   "source": [
    "def square(n):\n",
    "    for i in range(3):\n",
    "        yield i**2"
   ]
  },
  {
   "cell_type": "code",
   "execution_count": 28,
   "metadata": {},
   "outputs": [
    {
     "data": {
      "text/plain": [
       "<generator object square at 0x000001D8E9B8B780>"
      ]
     },
     "execution_count": 28,
     "metadata": {},
     "output_type": "execute_result"
    }
   ],
   "source": [
    "square(3)"
   ]
  },
  {
   "cell_type": "code",
   "execution_count": 29,
   "metadata": {},
   "outputs": [
    {
     "name": "stdout",
     "output_type": "stream",
     "text": [
      "0\n",
      "1\n",
      "4\n"
     ]
    }
   ],
   "source": [
    "for i in square(3):\n",
    "    print(i)"
   ]
  },
  {
   "cell_type": "code",
   "execution_count": 30,
   "metadata": {},
   "outputs": [
    {
     "data": {
      "text/plain": [
       "0"
      ]
     },
     "execution_count": 30,
     "metadata": {},
     "output_type": "execute_result"
    }
   ],
   "source": [
    "a = square(3)\n",
    "next(a)"
   ]
  },
  {
   "cell_type": "code",
   "execution_count": 31,
   "metadata": {},
   "outputs": [],
   "source": [
    "def my_generator():\n",
    "    yield 1\n",
    "    yield 2\n",
    "    yield 3"
   ]
  },
  {
   "cell_type": "code",
   "execution_count": 32,
   "metadata": {},
   "outputs": [
    {
     "data": {
      "text/plain": [
       "1"
      ]
     },
     "execution_count": 32,
     "metadata": {},
     "output_type": "execute_result"
    }
   ],
   "source": [
    "gen = my_generator()\n",
    "gen\n",
    "next(gen)"
   ]
  },
  {
   "cell_type": "markdown",
   "metadata": {},
   "source": [
    "Generators are particularly useful for reading large files because they allow you to process one line at a time without loading the entire file into memory."
   ]
  },
  {
   "cell_type": "markdown",
   "metadata": {},
   "source": [
    "#### Decorators\n",
    "Decorators are a powerful and flexible feature in Python that allows you to modify the behavior of a function or class method. They are commonly used to add functionality to functions or methods without modifying their actual code.\n",
    "\n",
    "Decorators allow us to wrap another function in order to extend the behaviour of the wrapped function, without permanently modifying it.\n",
    "In Decorators, functions are taken as the argument into another function and then called inside the wrapper function.\n"
   ]
  },
  {
   "cell_type": "code",
   "execution_count": 33,
   "metadata": {},
   "outputs": [],
   "source": [
    "### function copy\n",
    "### closures\n",
    "### decorators"
   ]
  },
  {
   "cell_type": "code",
   "execution_count": 34,
   "metadata": {},
   "outputs": [
    {
     "data": {
      "text/plain": [
       "'Welcome to the advanced python course'"
      ]
     },
     "execution_count": 34,
     "metadata": {},
     "output_type": "execute_result"
    }
   ],
   "source": [
    "## function copy\n",
    "def welcome():\n",
    "    return \"Welcome to the advanced python course\"\n",
    "\n",
    "\n",
    "welcome()"
   ]
  },
  {
   "cell_type": "code",
   "execution_count": 35,
   "metadata": {},
   "outputs": [
    {
     "name": "stdout",
     "output_type": "stream",
     "text": [
      "Welcome to the advanced python course\n",
      "Welcome to the advanced python course\n"
     ]
    }
   ],
   "source": [
    "wel = welcome\n",
    "print(wel())\n",
    "del welcome\n",
    "print(wel())"
   ]
  },
  {
   "cell_type": "code",
   "execution_count": 36,
   "metadata": {},
   "outputs": [
    {
     "name": "stdout",
     "output_type": "stream",
     "text": [
      "Welcome to the advance python course\n",
      "Welcome everyone\n",
      "Please learn these concepts properly\n"
     ]
    }
   ],
   "source": [
    "##closures functions\n",
    "# A Closure is a function object that remembers values in enclosing scopes even if they are not present in memory.\n",
    "\n",
    "def main_welcome(msg):\n",
    "\n",
    "    def sub_welcome_method():\n",
    "        print(\"Welcome to the advance python course\")\n",
    "        print(msg)\n",
    "        print(\"Please learn these concepts properly\")\n",
    "\n",
    "    return sub_welcome_method()\n",
    "\n",
    "\n",
    "main_welcome(\"Welcome everyone\")"
   ]
  },
  {
   "cell_type": "code",
   "execution_count": 37,
   "metadata": {},
   "outputs": [
    {
     "name": "stdout",
     "output_type": "stream",
     "text": [
      "Hey!\n"
     ]
    }
   ],
   "source": [
    "# When and why to use Closures:\n",
    "# 1. As closures are used as callback functions, they provide some sort of data hiding. This helps us to reduce the use of global variables.\n",
    "# 2.  When we have few functions in our code, closures prove to be an efficient way. But if we need to have many functions, then go for class (OOP).\n",
    "\n",
    "\n",
    "def outerFunction(text):\n",
    "    text = text\n",
    "\n",
    "    def innerFunction():\n",
    "        print(text)\n",
    "\n",
    "    return innerFunction  # Note we are returning function WITHOUT parenthesis\n",
    "\n",
    "\n",
    "if __name__ == \"__main__\":\n",
    "    myFunction = outerFunction(\"Hey!\")\n",
    "    myFunction()\n",
    "\n",
    "# The function innerFunction has its scope only inside the outerFunction. But with the use of closures, we can easily extend its scope to invoke a function outside its scope."
   ]
  },
  {
   "cell_type": "code",
   "execution_count": 38,
   "metadata": {},
   "outputs": [
    {
     "name": "stdout",
     "output_type": "stream",
     "text": [
      "Welcome to the advance python course\n",
      "Welcome everyone to this tutorial\n",
      "Please learn these concepts properly\n"
     ]
    }
   ],
   "source": [
    "def main_welcome(func):\n",
    "\n",
    "    def sub_welcome_method():\n",
    "        print(\"Welcome to the advance python course\")\n",
    "        func(\"Welcome everyone to this tutorial\")\n",
    "        print(\"Please learn these concepts properly\")\n",
    "\n",
    "    return sub_welcome_method()\n",
    "\n",
    "\n",
    "main_welcome(print)"
   ]
  },
  {
   "cell_type": "code",
   "execution_count": 39,
   "metadata": {},
   "outputs": [
    {
     "name": "stdout",
     "output_type": "stream",
     "text": [
      "This is an advanced python course\n"
     ]
    }
   ],
   "source": [
    "### Decorator\n",
    "def main_welcome(func):\n",
    "\n",
    "    def sub_welcome_method():\n",
    "        print(\"Welcome to the advance python course\")\n",
    "        func()\n",
    "        print(\"Please learn these concepts properly\")\n",
    "\n",
    "    return sub_welcome_method()\n",
    "\n",
    "\n",
    "def coure_introduction():\n",
    "    print(\"This is an advanced python course\")\n",
    "\n",
    "\n",
    "coure_introduction()"
   ]
  },
  {
   "cell_type": "code",
   "execution_count": 40,
   "metadata": {},
   "outputs": [
    {
     "name": "stdout",
     "output_type": "stream",
     "text": [
      "Welcome to the advance python course\n",
      "This is an advanced python course\n",
      "Please learn these concepts properly\n"
     ]
    }
   ],
   "source": [
    "main_welcome(coure_introduction)"
   ]
  },
  {
   "cell_type": "code",
   "execution_count": 41,
   "metadata": {},
   "outputs": [
    {
     "name": "stdout",
     "output_type": "stream",
     "text": [
      "Welcome to the advance python course\n",
      "This is an advanced python course\n",
      "Please learn these concepts properly\n"
     ]
    }
   ],
   "source": [
    "@main_welcome\n",
    "def coure_introduction():\n",
    "    print(\"This is an advanced python course\")"
   ]
  },
  {
   "cell_type": "code",
   "execution_count": 42,
   "metadata": {},
   "outputs": [
    {
     "name": "stdout",
     "output_type": "stream",
     "text": [
      "400\n"
     ]
    }
   ],
   "source": [
    "# Chaining Decorators\n",
    "\n",
    "\n",
    "def decor1(func):\n",
    "    def inner():\n",
    "        x = func()\n",
    "        return x * x\n",
    "\n",
    "    return inner\n",
    "\n",
    "\n",
    "def decor(func):\n",
    "    def inner():\n",
    "        x = func()\n",
    "        return 2 * x\n",
    "\n",
    "    return inner\n",
    "\n",
    "\n",
    "@decor1\n",
    "@decor\n",
    "def num():\n",
    "    return 10\n",
    "\n",
    "\n",
    "print(num())"
   ]
  },
  {
   "cell_type": "code",
   "execution_count": 43,
   "metadata": {},
   "outputs": [
    {
     "name": "stdout",
     "output_type": "stream",
     "text": [
      "Inside decorator\n",
      "Inside inner function\n",
      "I like geeksforgeeks\n",
      "Inside actual function\n"
     ]
    }
   ],
   "source": [
    "# Decorators with parameters\n",
    "def decorator(*args, **kwargs):\n",
    "    print(\"Inside decorator\")\n",
    "\n",
    "    def inner(func):\n",
    "        print(\"Inside inner function\")\n",
    "        print(\"I like\", kwargs[\"like\"])\n",
    "        func()\n",
    "\n",
    "    return inner\n",
    "\n",
    "\n",
    "@decorator(like=\"geeksforgeeks\")\n",
    "def my_func():\n",
    "    print(\"Inside actual function\")"
   ]
  },
  {
   "cell_type": "code",
   "execution_count": 44,
   "metadata": {},
   "outputs": [],
   "source": [
    "## Decorator\n",
    "\n",
    "\n",
    "def my_decorator(func):\n",
    "    def wrapper():\n",
    "        print(\"Something is happening before the function is called.\")\n",
    "        func()\n",
    "        print(\"Something is happening after the function is called.\")\n",
    "\n",
    "    return wrapper"
   ]
  },
  {
   "cell_type": "code",
   "execution_count": 45,
   "metadata": {},
   "outputs": [],
   "source": [
    "@my_decorator\n",
    "def say_hello():\n",
    "    print(\"Hello!\")"
   ]
  },
  {
   "cell_type": "code",
   "execution_count": 46,
   "metadata": {},
   "outputs": [
    {
     "name": "stdout",
     "output_type": "stream",
     "text": [
      "Something is happening before the function is called.\n",
      "Hello!\n",
      "Something is happening after the function is called.\n"
     ]
    }
   ],
   "source": [
    "say_hello()"
   ]
  },
  {
   "cell_type": "code",
   "execution_count": 47,
   "metadata": {},
   "outputs": [],
   "source": [
    "## Decorators With arguments\n",
    "def repeat(n):\n",
    "    def decorator(func):\n",
    "        def wrapper(*args, **kwargs):\n",
    "            for _ in range(n):\n",
    "                func(*args, **kwargs)\n",
    "\n",
    "        return wrapper\n",
    "\n",
    "    return decorator"
   ]
  },
  {
   "cell_type": "code",
   "execution_count": 48,
   "metadata": {},
   "outputs": [],
   "source": [
    "@repeat(3)\n",
    "def say_hello():\n",
    "    print(\"Hello\")"
   ]
  },
  {
   "cell_type": "code",
   "execution_count": 49,
   "metadata": {},
   "outputs": [
    {
     "name": "stdout",
     "output_type": "stream",
     "text": [
      "Hello\n",
      "Hello\n",
      "Hello\n"
     ]
    }
   ],
   "source": [
    "say_hello()"
   ]
  },
  {
   "cell_type": "markdown",
   "metadata": {},
   "source": [
    "First Class Objects\n",
    "In Python, functions are first class objects that mean that functions in Python can be used or passed as arguments.\n",
    "\n",
    "Properties of first class functions: \n",
    "- A function is an instance of the Object type.\n",
    "- You can store the function in a variable.\n",
    "- You can pass the function as a parameter to another function.\n",
    "- You can return the function from a function.\n",
    "- You can store them in data structures such as hash tables, lists, …\n"
   ]
  },
  {
   "cell_type": "code",
   "execution_count": 50,
   "metadata": {},
   "outputs": [
    {
     "name": "stdout",
     "output_type": "stream",
     "text": [
      "HELLO\n",
      "HELLO\n"
     ]
    }
   ],
   "source": [
    "# Functions can be treated as objects\n",
    "def shout(text):\n",
    "    return text.upper()\n",
    "\n",
    "\n",
    "print(shout(\"Hello\"))\n",
    "\n",
    "yell = shout\n",
    "print(yell(\"Hello\"))"
   ]
  },
  {
   "cell_type": "markdown",
   "metadata": {},
   "source": [
    "# Regular Expressions in Python\n",
    "\n",
    "## Introduction\n",
    "A **Regular Expression** (RegEx) is a sequence of characters that forms a search pattern. RegEx can be used to check if a string contains the specified search pattern.\n",
    "\n",
    "---\n",
    "\n",
    "## Functions and Descriptions\n",
    "\n",
    "| Function   | Description                                                |\n",
    "|------------|------------------------------------------------------------|\n",
    "| `findall`  | Returns a list containing all matches                      |\n",
    "| `search`   | Returns a Match object if there is a match anywhere in the string |\n",
    "| `split`    | Returns a list where the string has been split at each match |\n",
    "| `sub`      | Replaces one or many matches with a string                 |\n",
    "\n",
    "### Example\n",
    "```python\n",
    "import re\n",
    "\n",
    "txt = \"The rain in Spain\"\n",
    "# Find all characters between a and m\n",
    "x = re.findall(\"[a-m]\", txt)\n",
    "print(x)\n",
    "# Output: ['h', 'e', 'a', 'i', 'i', 'a', 'i']\n"
   ]
  },
  {
   "cell_type": "markdown",
   "metadata": {},
   "source": [
    "# Metacharacters\n",
    "\n",
    "### List of Metacharacters and Descriptions\n",
    "\n",
    "| Character | Description                                   | Example      |\n",
    "|-----------|-----------------------------------------------|--------------|\n",
    "| `[]`      | A set of characters                          | `\"[a-m]\"`    |\n",
    "| `\\`       | Signals a special sequence or escapes special characters | `\"\\d\"`       |\n",
    "| `.`       | Matches any character (except newline)       | `\"he..o\"`    |\n",
    "| `^`       | Matches the start of the string              | `\"^hello\"`   |\n",
    "| `$`       | Matches the end of the string                | `\"planet$\"`  |\n",
    "| `*`       | Matches zero or more occurrences            | `\"he.*o\"`    |\n",
    "| `+`       | Matches one or more occurrences             | `\"he.+o\"`    |\n",
    "| `?`       | Matches zero or one occurrence              | `\"he.?o\"`    |\n",
    "| `{}`      | Matches exactly the specified number of occurrences | `\"he{2}o\"`   |\n",
    "| `|`       | Matches either or                           | `\"falls|stays\"` |\n"
   ]
  },
  {
   "cell_type": "code",
   "execution_count": 51,
   "metadata": {},
   "outputs": [
    {
     "name": "stdout",
     "output_type": "stream",
     "text": [
      "['h', 'e', 'a', 'i', 'i', 'a', 'i']\n",
      "['h', 'e', 'a', 'i', 'i', 'a', 'i']\n",
      "['hello']\n",
      "['hello']\n"
     ]
    }
   ],
   "source": [
    "import re\n",
    "\n",
    "# Example 1: Using []\n",
    "txt = \"The rain in Spain\"\n",
    "x = re.findall(\"[a-m]\", txt)\n",
    "print(x)  # Output: ['h', 'e', 'a', 'i', 'i', 'a', 'i']\n",
    "\n",
    "# Example 2: Using \\d\n",
    "txt = \"That will be 59 dollars\"\n",
    "# x = re.findall(\"\\d\", txt)\n",
    "print(x)  # Output: ['5', '9']\n",
    "\n",
    "# Example 3: Using .\n",
    "txt = \"hello planet\"\n",
    "x = re.findall(\"he..o\", txt)\n",
    "print(x)  # Output: ['hello']\n",
    "\n",
    "# Example 4: Using ^\n",
    "txt = \"hello planet\"\n",
    "x = re.findall(\"^hello\", txt)\n",
    "print(x)  # Output: ['hello']"
   ]
  },
  {
   "cell_type": "markdown",
   "metadata": {},
   "source": [
    "# Special Sequences\n",
    "\n",
    "| Character | Description                                      | Example      |\n",
    "|-----------|--------------------------------------------------|--------------|\n",
    "| `\\A`      | Matches if the specified characters are at the beginning of the string | `\"\\AThe\"`    |\n",
    "| `\\b`      | Matches at the start or end of a word            | `r\"\\bain\"`   |\n",
    "| `\\B`      | Matches, but not at the start or end of a word   | `r\"\\Bain\"`   |\n",
    "| `\\d`      | Matches any digit (0-9)                         | `\"\\d\"`       |\n",
    "| `\\D`      | Matches non-digits                              | `\"\\D\"`       |\n",
    "| `\\s`      | Matches any whitespace character                | `\"\\s\"`       |\n",
    "| `\\S`      | Matches non-whitespace characters               | `\"\\S\"`       |\n",
    "| `\\w`      | Matches any word character (a-z, A-Z, 0-9, _)   | `\"\\w\"`       |\n",
    "| `\\W`      | Matches non-word characters                     | `\"\\W\"`       |\n",
    "| `\\Z`      | Matches if the specified characters are at the end of the string | `\"Spain\\Z\"`   |\n"
   ]
  },
  {
   "cell_type": "code",
   "execution_count": 52,
   "metadata": {},
   "outputs": [
    {
     "name": "stdout",
     "output_type": "stream",
     "text": [
      "['The']\n",
      "['T', 'h', 'e', 'r', 'a', 'i', 'n', 'i', 'n', 'S', 'p', 'a', 'i', 'n']\n"
     ]
    },
    {
     "name": "stderr",
     "output_type": "stream",
     "text": [
      "<>:5: SyntaxWarning: invalid escape sequence '\\A'\n",
      "<>:10: SyntaxWarning: invalid escape sequence '\\S'\n",
      "<>:5: SyntaxWarning: invalid escape sequence '\\A'\n",
      "<>:10: SyntaxWarning: invalid escape sequence '\\S'\n",
      "C:\\Users\\ribhav.jain\\AppData\\Local\\Temp\\ipykernel_84344\\4120551224.py:5: SyntaxWarning: invalid escape sequence '\\A'\n",
      "  x = re.findall(\"\\AThe\", txt)\n",
      "C:\\Users\\ribhav.jain\\AppData\\Local\\Temp\\ipykernel_84344\\4120551224.py:10: SyntaxWarning: invalid escape sequence '\\S'\n",
      "  x = re.findall(\"\\S\", txt)\n"
     ]
    }
   ],
   "source": [
    "import re\n",
    "\n",
    "# Example 1: Using \\A\n",
    "txt = \"The rain in Spain\"\n",
    "x = re.findall(\"\\AThe\", txt)\n",
    "print(x)  # Output: ['The']\n",
    "\n",
    "# Example 2: Using \\s\n",
    "txt = \"The rain in Spain\"\n",
    "x = re.findall(\"\\S\", txt)\n",
    "print(x)  # Output: ['T', 'h', 'e', 'r', 'a', 'i', 'n', 'i', 'n', 'S', 'p', 'a', 'i', 'n']\n"
   ]
  },
  {
   "cell_type": "markdown",
   "metadata": {},
   "source": [
    "# Sets\n",
    "\n",
    "### Commonly Used Sets\n",
    "\n",
    "| Set        | Description                                         |\n",
    "|------------|-----------------------------------------------------|\n",
    "| `[arn]`    | Matches any of the characters `a`, `r`, or `n`      |\n",
    "| `[a-n]`    | Matches any character between `a` and `n` (lowercase) |\n",
    "| `[^arn]`   | Matches any character except `a`, `r`, or `n`       |\n",
    "| `[0-9]`    | Matches any digit                                   |\n",
    "| `[a-zA-Z]` | Matches any character from `a-z` or `A-Z`           |\n"
   ]
  },
  {
   "cell_type": "code",
   "execution_count": 53,
   "metadata": {},
   "outputs": [
    {
     "name": "stdout",
     "output_type": "stream",
     "text": [
      "['r', 'a', 'n', 'n', 'a', 'n']\n"
     ]
    }
   ],
   "source": [
    "import re\n",
    "\n",
    "txt = \"The rain in Spain\"\n",
    "x = re.findall(\"[arn]\", txt)\n",
    "print(x)  # Output: ['r', 'a', 'n', 'n', 'a', 'n']\n"
   ]
  },
  {
   "cell_type": "markdown",
   "metadata": {},
   "source": [
    "# Match Object Properties\n",
    "\n",
    "| Property     | Description                                                  |\n",
    "|--------------|--------------------------------------------------------------|\n",
    "| `.span()`    | Returns a tuple containing start and end positions of the match |\n",
    "| `.string`    | Returns the string passed into the function                  |\n",
    "| `.group()`   | Returns the part of the string where there was a match       |\n"
   ]
  },
  {
   "cell_type": "code",
   "execution_count": 54,
   "metadata": {},
   "outputs": [
    {
     "name": "stdout",
     "output_type": "stream",
     "text": [
      "(12, 17)\n",
      "The rain in Spain\n",
      "Spain\n"
     ]
    }
   ],
   "source": [
    "import re\n",
    "\n",
    "txt = \"The rain in Spain\"\n",
    "x = re.search(r\"\\bS\\w+\", txt)\n",
    "print(x.span())  # Output: (12, 17)\n",
    "print(x.string)  # Output: \"The rain in Spain\"\n",
    "print(x.group())  # Output: \"Spain\"\n"
   ]
  },
  {
   "cell_type": "code",
   "execution_count": null,
   "metadata": {},
   "outputs": [],
   "source": []
  }
 ],
 "metadata": {
  "kernelspec": {
   "display_name": ".venv",
   "language": "python",
   "name": "python3"
  },
  "language_info": {
   "codemirror_mode": {
    "name": "ipython",
    "version": 3
   },
   "file_extension": ".py",
   "mimetype": "text/x-python",
   "name": "python",
   "nbconvert_exporter": "python",
   "pygments_lexer": "ipython3",
   "version": "3.12.2"
  }
 },
 "nbformat": 4,
 "nbformat_minor": 2
}
