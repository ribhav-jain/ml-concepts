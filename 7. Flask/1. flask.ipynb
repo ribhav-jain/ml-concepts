{
 "cells": [
  {
   "cell_type": "markdown",
   "metadata": {},
   "source": [
    "# **Understanding Flask Framework**\n",
    "\n",
    "## **Introduction**\n",
    "\n",
    "Flask is a lightweight, modular, and powerful web framework for Python. It is used for building web applications ranging from simple to complex. Flask's minimalist design allows developers to choose and configure the components they need.\n",
    "\n",
    "---\n",
    "\n",
    "## **Key Features**\n",
    "\n",
    "1. **Lightweight and Modular**: Provides core functionalities with extensibility.\n",
    "2. **Built-in Development Server**: Features debugging and auto-reloading.\n",
    "3. **RESTful Request Dispatching**: Easy routing for APIs.\n",
    "4. **Templating**: Uses the powerful Jinja2 engine.\n",
    "5. **Extension Support**: ORM, form validation, and more.\n",
    "6. **WSGI Compatibility**: a WSGI (Web Server Gateway Interface) toolkit. WSGI is a Python standard that defines how web servers communicate with Python applications. Werkzeug acts as a bridge between the Flask app and the web server, handling low-level tasks like request and response processing. It enables Flask to remain framework-agnostic and deployable on various WSGI-compatible servers like Gunicorn or uWSGI.In essence, Werkzeug converts HTTP requests from the server into Python objects and translates Flask's Python responses back into HTTP responses for the client. This modular approach makes Flask efficient and interoperable.\n"
   ]
  },
  {
   "cell_type": "markdown",
   "metadata": {},
   "source": [
    "### **1. Installation**\n",
    "\n",
    "Install Flask using pip:\n",
    "\n",
    "```bash\n",
    "pip install flask\n",
    "```\n"
   ]
  },
  {
   "cell_type": "code",
   "execution_count": 1,
   "metadata": {},
   "outputs": [
    {
     "name": "stdout",
     "output_type": "stream",
     "text": [
      "Requirement already satisfied: Flask in d:\\workspace\\python-concepts-master\\.venv\\lib\\site-packages (3.1.0)\n",
      "Requirement already satisfied: Werkzeug>=3.1 in d:\\workspace\\python-concepts-master\\.venv\\lib\\site-packages (from Flask) (3.1.3)\n",
      "Requirement already satisfied: Jinja2>=3.1.2 in d:\\workspace\\python-concepts-master\\.venv\\lib\\site-packages (from Flask) (3.1.4)\n",
      "Requirement already satisfied: itsdangerous>=2.2 in d:\\workspace\\python-concepts-master\\.venv\\lib\\site-packages (from Flask) (2.2.0)\n",
      "Requirement already satisfied: click>=8.1.3 in d:\\workspace\\python-concepts-master\\.venv\\lib\\site-packages (from Flask) (8.1.7)\n",
      "Requirement already satisfied: blinker>=1.9 in d:\\workspace\\python-concepts-master\\.venv\\lib\\site-packages (from Flask) (1.9.0)\n",
      "Requirement already satisfied: colorama in d:\\workspace\\python-concepts-master\\.venv\\lib\\site-packages (from click>=8.1.3->Flask) (0.4.6)\n",
      "Requirement already satisfied: MarkupSafe>=2.0 in d:\\workspace\\python-concepts-master\\.venv\\lib\\site-packages (from Jinja2>=3.1.2->Flask) (3.0.2)\n",
      "Note: you may need to restart the kernel to use updated packages.\n"
     ]
    }
   ],
   "source": [
    "%pip install Flask"
   ]
  },
  {
   "cell_type": "markdown",
   "metadata": {},
   "source": [
    "### Extensions in Flask\n",
    "\n",
    "Flask has a rich ecosystem of extensions that add functionalities like database integration, authentication, and migrations to your application.\n",
    "\n",
    "#### Popular Extensions\n",
    "\n",
    "1. **Flask-SQLAlchemy**\n",
    "\n",
    "   - An Object Relational Mapper (ORM) for managing database operations seamlessly.\n",
    "   - Provides a Pythonic way to work with databases.\n",
    "   - Example Use:\n",
    "\n",
    "     ```python\n",
    "     from flask_sqlalchemy import SQLAlchemy\n",
    "     app.config['SQLALCHEMY_DATABASE_URI'] = 'sqlite:///app.db'\n",
    "     db = SQLAlchemy(app)\n",
    "\n",
    "     class User(db.Model):\n",
    "         id = db.Column(db.Integer, primary_key=True)\n",
    "         name = db.Column(db.String(80), nullable=False)\n",
    "     ```\n",
    "\n",
    "2. **Flask-Migrate**\n",
    "\n",
    "   - A database migration tool built on top of Alembic.\n",
    "   - Integrates with Flask-SQLAlchemy to handle schema changes.\n",
    "   - Example Use:\n",
    "     ```python\n",
    "     from flask_migrate import Migrate\n",
    "     migrate = Migrate(app, db)\n",
    "     ```\n",
    "\n",
    "3. **Flask-Login**\n",
    "\n",
    "   - A user session management library for handling authentication.\n",
    "   - Supports user login/logout and session persistence.\n",
    "   - Example Use:\n",
    "\n",
    "     ```python\n",
    "     from flask_login import LoginManager\n",
    "     login_manager = LoginManager(app)\n",
    "\n",
    "     @login_manager.user_loader\n",
    "     def load_user(user_id):\n",
    "         return User.query.get(int(user_id))\n",
    "     ```\n"
   ]
  },
  {
   "cell_type": "markdown",
   "metadata": {},
   "source": [
    "# Additional Comments and Concepts\n",
    "\n",
    "## Request and Response\n",
    "\n",
    "- Flask handles HTTP requests and responses. The `request` object contains data about the incoming request, while the `render_template` function is used to generate a response by rendering an HTML template.\n",
    "\n",
    "## Dynamic Routing\n",
    "\n",
    "- Flask allows dynamic URL routing using variables in the URL (e.g., `@app.route(\"/user/<username>\")`), enabling you to create user-specific or item-specific pages.\n",
    "\n",
    "## Error Handling\n",
    "\n",
    "- The `@app.errorhandler` decorator allows you to define custom error pages for different HTTP errors, enhancing user experience by providing informative feedback.\n",
    "\n",
    "## JSON Responses\n",
    "\n",
    "- The `jsonify` function is used to return JSON data in API responses, making it easy to build RESTful services.\n",
    "\n",
    "## Debug Mode\n",
    "\n",
    "- Running the application in debug mode (`app.run(debug=True)`) provides useful error messages and automatically reloads the server on code changes, which is beneficial during development.\n",
    "\n",
    "## Templates\n",
    "\n",
    "- The `render_template` function searches for HTML files in a `templates` folder by default. Ensure your HTML templates are in the correct directory.\n",
    "\n",
    "## Static Files\n",
    "\n",
    "- Static files such as CSS, JavaScript, and images should be placed in a folder named `static`. Flask serves these files automatically.\n"
   ]
  },
  {
   "cell_type": "markdown",
   "metadata": {},
   "source": [
    "# **Blueprints in Flask**\n",
    "\n",
    "## **What are Blueprints?**\n",
    "\n",
    "Blueprints are a way to organize your Flask application into smaller, reusable, and modular components. They help manage large applications by grouping related routes, templates, and static files together.\n",
    "\n",
    "---\n",
    "\n",
    "## **Why Use Blueprints?**\n",
    "\n",
    "1. **Modularity**: Separate different parts of the application (e.g., user-related, admin-related routes).\n",
    "2. **Reusability**: Blueprints can be reused across projects.\n",
    "3. **Cleaner Codebase**: Keeps the main application file (`app.py`) concise and organized.\n",
    "\n",
    "---\n",
    "\n",
    "## **How to Use Blueprints**\n",
    "\n",
    "### 1. **Define a Blueprint**\n",
    "\n",
    "Create a `Blueprint` instance and define routes specific to it.\n",
    "\n",
    "```python\n",
    "from flask import Blueprint\n",
    "\n",
    "user_bp = Blueprint(\"user\", __name__)\n",
    "\n",
    "@user_bp.route(\"/profile\")\n",
    "def profile():\n",
    "    return \"User Profile Page\"\n",
    "```\n"
   ]
  },
  {
   "cell_type": "markdown",
   "metadata": {},
   "source": [
    "## **Registering a Blueprint**\n",
    "\n",
    "### **1. Register the Blueprint**\n",
    "\n",
    "To use a Blueprint in your Flask application, you need to register it with the main app instance.\n",
    "\n",
    "```python\n",
    "from flask import Flask\n",
    "from user_routes import user_bp  # Import Blueprint from a separate file\n",
    "\n",
    "app = Flask(__name__)\n",
    "app.register_blueprint(user_bp, url_prefix=\"/user\")\n",
    "```\n"
   ]
  },
  {
   "cell_type": "markdown",
   "metadata": {},
   "source": [
    "The url_prefix argument specifies the base URL for all routes defined in the Blueprint.\n",
    "\n",
    "Example: If the Blueprint defines a route /profile, registering it with url_prefix=\"/user\" means the route will be accessible at /user/profile.\n"
   ]
  }
 ],
 "metadata": {
  "kernelspec": {
   "display_name": ".venv",
   "language": "python",
   "name": "python3"
  },
  "language_info": {
   "codemirror_mode": {
    "name": "ipython",
    "version": 3
   },
   "file_extension": ".py",
   "mimetype": "text/x-python",
   "name": "python",
   "nbconvert_exporter": "python",
   "pygments_lexer": "ipython3",
   "version": "3.12.2"
  }
 },
 "nbformat": 4,
 "nbformat_minor": 2
}
