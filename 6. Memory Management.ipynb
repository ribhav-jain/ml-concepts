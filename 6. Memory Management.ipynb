{
 "cells": [
  {
   "cell_type": "markdown",
   "metadata": {},
   "source": [
    "# Memory Management\n",
    "\n",
    "Memory management is a core concept in programming and refers to how programs allocate and deallocate memory during execution. In Python, memory management ensures that objects are properly stored, tracked, and removed when no longer needed. This allows Python programs to run efficiently without consuming unnecessary memory.\n",
    "\n",
    "Python has an **automatic memory management system** that relies on techniques like **reference counting**, **garbage collection**, and **memory pooling** to handle memory allocation and deallocation.\n",
    "\n",
    "---\n",
    "\n",
    "## Key Concepts in Python Memory Management\n",
    "\n",
    "### 1. Memory Allocation\n",
    "\n",
    "When you create a new object in Python, memory is allocated to store the object. Python uses a built-in memory manager to allocate memory for all objects.\n",
    "\n",
    "---\n",
    "\n",
    "### 2. Reference Counting\n",
    "\n",
    "Python uses **reference counting** as its primary memory management mechanism. Every object has an associated reference count that tracks how many references (or pointers) point to that object.\n",
    "\n",
    "#### How Reference Counting Works:\n",
    "\n",
    "1. When an object is created, its reference count is set to **1**.\n",
    "2. When a new variable points to the same object, its reference count is **incremented**.\n",
    "3. When a reference goes out of scope, the reference count is **decremented**.\n",
    "4. If the reference count reaches **0**, the object is no longer used and can be deallocated.\n",
    "\n",
    "---\n",
    "\n",
    "### 3. Garbage Collection\n",
    "\n",
    "While reference counting handles most cases of memory management, it cannot handle **circular references** (e.g., objects referencing each other). For these cases, Python uses a **garbage collector** to free up memory.\n"
   ]
  },
  {
   "cell_type": "code",
   "execution_count": 1,
   "metadata": {},
   "outputs": [],
   "source": [
    "class A:\n",
    "    def __init__(self):\n",
    "        self.b = None\n",
    "\n",
    "\n",
    "class B:\n",
    "    def __init__(self):\n",
    "        self.a = None\n",
    "\n",
    "\n",
    "a = A()\n",
    "b = B()\n",
    "a.b = b\n",
    "b.a = a"
   ]
  },
  {
   "cell_type": "markdown",
   "metadata": {},
   "source": [
    "#### Circular References\n",
    "\n",
    "- In this example, `a` and `b` reference each other, creating a circular reference.\n",
    "- The garbage collector detects this situation and clears the objects from memory.\n",
    "\n",
    "#### 4. Memory Pools\n",
    "\n",
    "- Python optimizes memory usage by using memory pools.\n",
    "- For small, frequently-used data types (like integers and short strings), Python reuses memory to reduce overhead.\n",
    "\n",
    "### 1. Reference Counting\n",
    "\n",
    "#### How Reference Counting Works:\n",
    "\n",
    "- Python maintains a count of references to every object in memory.\n",
    "- Objects are deallocated when their reference count reaches zero.\n"
   ]
  },
  {
   "cell_type": "code",
   "execution_count": 2,
   "metadata": {},
   "outputs": [
    {
     "name": "stdout",
     "output_type": "stream",
     "text": [
      "2\n",
      "3\n",
      "2\n"
     ]
    }
   ],
   "source": [
    "import sys\n",
    "\n",
    "a = [1, 2, 3]\n",
    "## 2 (one reference from 'a' and one from getrefcount())\n",
    "print(\n",
    "    sys.getrefcount(a)\n",
    ")  # Shows the number of references to 'a' (includes temporary references)\n",
    "\n",
    "b = a\n",
    "print(\n",
    "    sys.getrefcount(a)\n",
    ")  # Reference count increases because now `b` also points to 'a'\n",
    "\n",
    "del b\n",
    "print(sys.getrefcount(a))  # Reference count decreases when `b` goes out of scope"
   ]
  },
  {
   "cell_type": "markdown",
   "metadata": {},
   "source": [
    "### Garbage Collection\n",
    "\n",
    "Python includes a cyclic garbage collector to handle reference cycles. Reference cycles occur when objects reference each other, preventing their reference counts from reaching zero.\n",
    "\n",
    "Python uses the gc module to clean up memory by identifying and deallocating objects no longer used, especially in the case of circular references.\n"
   ]
  },
  {
   "cell_type": "code",
   "execution_count": 3,
   "metadata": {},
   "outputs": [
    {
     "name": "stdout",
     "output_type": "stream",
     "text": [
      "Object obj1 created\n",
      "Object obj2 created\n"
     ]
    }
   ],
   "source": [
    "import gc\n",
    "\n",
    "\n",
    "class Node:\n",
    "    def __init__(self, name):\n",
    "        self.ref = None\n",
    "        self.name = name\n",
    "        print(f\"Object {self.name} created\")\n",
    "\n",
    "    def __del__(self):\n",
    "        print(f\"Object {self.name} deleted\")\n",
    "\n",
    "\n",
    "node1 = Node(\"obj1\")\n",
    "node2 = Node(\"obj2\")\n",
    "node1.ref = node2\n",
    "node2.ref = node1\n",
    "\n",
    "del node1\n",
    "del node2"
   ]
  },
  {
   "cell_type": "code",
   "execution_count": 4,
   "metadata": {},
   "outputs": [
    {
     "name": "stdout",
     "output_type": "stream",
     "text": [
      "Object obj1 deleted\n",
      "Object obj2 deleted\n",
      "4\n"
     ]
    }
   ],
   "source": [
    "print(gc.collect())  # Force garbage collection"
   ]
  },
  {
   "cell_type": "markdown",
   "metadata": {},
   "source": [
    "### The gc Module\n",
    "\n",
    "Python provides a gc module for interacting with the garbage collector. You can manually trigger garbage collection, disable it, or inspect objects tracked by the garbage collector.\n"
   ]
  },
  {
   "cell_type": "code",
   "execution_count": 5,
   "metadata": {},
   "outputs": [
    {
     "name": "stdout",
     "output_type": "stream",
     "text": [
      "[{'collections': 166, 'collected': 1370, 'uncollectable': 0}, {'collections': 15, 'collected': 367, 'uncollectable': 0}, {'collections': 3, 'collected': 4, 'uncollectable': 0}]\n",
      "[]\n"
     ]
    }
   ],
   "source": [
    "import gc\n",
    "\n",
    "# Disable garbage collection\n",
    "gc.disable()\n",
    "\n",
    "# Enable garbage collection\n",
    "gc.enable()\n",
    "\n",
    "# Force garbage collection\n",
    "gc.collect()\n",
    "\n",
    "### Get garbage collection stats\n",
    "print(gc.get_stats())\n",
    "\n",
    "### get unreachable objects\n",
    "print(gc.garbage)"
   ]
  },
  {
   "cell_type": "markdown",
   "metadata": {},
   "source": [
    "## Memory Profiling\n",
    "\n",
    "To optimize memory usage, it's important to monitor memory consumption during program execution. Python provides tools like:\n",
    "\n",
    "- **`sys.getsizeof()`**: Returns the size of an object in bytes.\n",
    "- **`psutil`**: A cross-platform library to monitor system resources.\n",
    "- **`memory_profiler`**: A Python package for tracking memory usage line-by-line.\n"
   ]
  },
  {
   "cell_type": "code",
   "execution_count": 6,
   "metadata": {},
   "outputs": [
    {
     "name": "stdout",
     "output_type": "stream",
     "text": [
      "Size of my_list: 104 bytes\n"
     ]
    }
   ],
   "source": [
    "import sys\n",
    "\n",
    "my_list = [1, 2, 3, 4, 5]\n",
    "print(f\"Size of my_list: {sys.getsizeof(my_list)} bytes\")"
   ]
  },
  {
   "cell_type": "markdown",
   "metadata": {},
   "source": [
    "## Memory Management Best Practices\n",
    "\n",
    "To ensure optimal memory usage, consider the following best practices:\n",
    "\n",
    "1. **Avoid Circular References**  \n",
    "   Circular references lead to memory not being deallocated until the garbage collector runs. Use weak references (via the `weakref` module) when circular references are necessary.\n"
   ]
  },
  {
   "cell_type": "code",
   "execution_count": 7,
   "metadata": {},
   "outputs": [],
   "source": [
    "import weakref\n",
    "\n",
    "\n",
    "class Node:\n",
    "    def __init__(self):\n",
    "        self.ref = None\n",
    "\n",
    "\n",
    "node1 = Node()\n",
    "node2 = Node()\n",
    "node1.ref = weakref.ref(node2)\n",
    "node2.ref = weakref.ref(node1)"
   ]
  },
  {
   "cell_type": "markdown",
   "metadata": {},
   "source": [
    "2. **Limit the Use of Global Variables**  \n",
    "   Global variables can lead to unintended retention of memory. Use function-local variables or context managers where possible.\n",
    "\n",
    "3. **Use Generators Instead of Lists**  \n",
    "   When dealing with large data sets, use generators. They produce data lazily, saving memory because data is computed on demand.\n"
   ]
  },
  {
   "cell_type": "code",
   "execution_count": 8,
   "metadata": {},
   "outputs": [],
   "source": [
    "# List (consumes all memory at once)\n",
    "my_list = [x for x in range(1000000)]\n",
    "\n",
    "# Generator (saves memory by computing values lazily)\n",
    "my_gen = (x for x in range(1000000))"
   ]
  },
  {
   "cell_type": "markdown",
   "metadata": {},
   "source": [
    "4. **Explicitly Delete Unused Objects**  \n",
    "   Use the `del` keyword to explicitly delete variables no longer in use to free memory.\n"
   ]
  },
  {
   "cell_type": "code",
   "execution_count": 9,
   "metadata": {},
   "outputs": [],
   "source": [
    "data = [1, 2, 3]\n",
    "del data"
   ]
  },
  {
   "cell_type": "markdown",
   "metadata": {},
   "source": [
    "5. **Profile and Optimize Memory Usage**  \n",
    "   Use tools like `gc`, `memory_profiler`, or `tracemalloc` to monitor memory consumption and find memory leaks.\n",
    "\n",
    "---\n",
    "\n",
    "## Python's Built-in Modules for Memory Management\n",
    "\n",
    "1. **gc (Garbage Collection)**\n",
    "\n",
    "   - Monitors and manages circular references.\n",
    "   - Allows you to control garbage collection behavior.\n",
    "\n",
    "2. **sys.getsizeof()**\n",
    "\n",
    "   - Returns the memory size of an object in bytes.\n",
    "\n",
    "3. **tracemalloc**\n",
    "   - Tracks memory allocations and helps debug memory usage issues.\n"
   ]
  },
  {
   "cell_type": "code",
   "execution_count": 10,
   "metadata": {},
   "outputs": [
    {
     "name": "stdout",
     "output_type": "stream",
     "text": [
      "(8001041, 8019157)\n",
      "(2817, 8020835)\n"
     ]
    }
   ],
   "source": [
    "import tracemalloc\n",
    "\n",
    "tracemalloc.start()\n",
    "\n",
    "a = [1] * 1000000\n",
    "print(tracemalloc.get_traced_memory())\n",
    "\n",
    "del a\n",
    "print(tracemalloc.get_traced_memory())"
   ]
  },
  {
   "cell_type": "code",
   "execution_count": 11,
   "metadata": {},
   "outputs": [
    {
     "name": "stdout",
     "output_type": "stream",
     "text": [
      "[ Top 10 ]\n",
      "d:\\Workspace\\python-concepts-master\\.venv\\Lib\\site-packages\\IPython\\core\\compilerop.py:86: size=11.6 KiB, count=108, average=110 B\n",
      "C:\\Users\\ribhav.jain\\AppData\\Local\\Programs\\Python\\Python312\\Lib\\tokenize.py:537: size=5600 B, count=100, average=56 B\n",
      "C:\\Users\\ribhav.jain\\AppData\\Local\\Programs\\Python\\Python312\\Lib\\codeop.py:126: size=2135 B, count=24, average=89 B\n",
      "C:\\Users\\ribhav.jain\\AppData\\Local\\Programs\\Python\\Python312\\Lib\\json\\decoder.py:353: size=1701 B, count=21, average=81 B\n",
      "d:\\Workspace\\python-concepts-master\\.venv\\Lib\\site-packages\\zmq\\sugar\\socket.py:805: size=1056 B, count=6, average=176 B\n",
      "d:\\Workspace\\python-concepts-master\\.venv\\Lib\\site-packages\\jupyter_client\\session.py:1057: size=1040 B, count=5, average=208 B\n",
      "d:\\Workspace\\python-concepts-master\\.venv\\Lib\\site-packages\\IPython\\core\\compilerop.py:174: size=924 B, count=12, average=77 B\n",
      "d:\\Workspace\\python-concepts-master\\.venv\\Lib\\site-packages\\zmq\\sugar\\attrsettr.py:45: size=846 B, count=18, average=47 B\n",
      "d:\\Workspace\\python-concepts-master\\.venv\\Lib\\site-packages\\traitlets\\traitlets.py:731: size=841 B, count=13, average=65 B\n",
      "C:\\Users\\ribhav.jain\\AppData\\Local\\Programs\\Python\\Python312\\Lib\\threading.py:293: size=760 B, count=2, average=380 B\n",
      "d:\\Workspace\\python-concepts-master\\.venv\\Lib\\site-packages\\IPython\\core\\interactiveshell.py:3380: size=658 B, count=2, average=329 B\n",
      "d:\\Workspace\\python-concepts-master\\.venv\\Lib\\site-packages\\traitlets\\traitlets.py:1514: size=600 B, count=5, average=120 B\n",
      "d:\\Workspace\\python-concepts-master\\.venv\\Lib\\site-packages\\IPython\\core\\interactiveshell.py:3104: size=520 B, count=4, average=130 B\n",
      "d:\\Workspace\\python-concepts-master\\.venv\\Lib\\site-packages\\jupyter_client\\jsonutil.py:111: size=450 B, count=9, average=50 B\n",
      "d:\\Workspace\\python-concepts-master\\.venv\\Lib\\site-packages\\traitlets\\traitlets.py:1543: size=433 B, count=7, average=62 B\n",
      "d:\\Workspace\\python-concepts-master\\.venv\\Lib\\site-packages\\ipykernel\\kernelbase.py:775: size=424 B, count=2, average=212 B\n",
      "C:\\Users\\ribhav.jain\\AppData\\Local\\Programs\\Python\\Python312\\Lib\\asyncio\\events.py:88: size=376 B, count=4, average=94 B\n",
      "d:\\Workspace\\python-concepts-master\\.venv\\Lib\\site-packages\\IPython\\core\\interactiveshell.py:3334: size=376 B, count=1, average=376 B\n",
      "d:\\Workspace\\python-concepts-master\\.venv\\Lib\\site-packages\\ipykernel\\iostream.py:346: size=360 B, count=3, average=120 B\n",
      "d:\\Workspace\\python-concepts-master\\.venv\\Lib\\site-packages\\ipykernel\\iostream.py:287: size=360 B, count=3, average=120 B\n",
      "d:\\Workspace\\python-concepts-master\\.venv\\Lib\\site-packages\\ipykernel\\ipkernel.py:362: size=360 B, count=1, average=360 B\n",
      "d:\\Workspace\\python-concepts-master\\.venv\\Lib\\site-packages\\IPython\\core\\history.py:782: size=328 B, count=1, average=328 B\n",
      "C:\\Users\\ribhav.jain\\AppData\\Local\\Programs\\Python\\Python312\\Lib\\asyncio\\base_events.py:813: size=312 B, count=3, average=104 B\n",
      "d:\\Workspace\\python-concepts-master\\.venv\\Lib\\site-packages\\IPython\\core\\interactiveshell.py:3517: size=296 B, count=1, average=296 B\n",
      "d:\\Workspace\\python-concepts-master\\.venv\\Lib\\site-packages\\ipykernel\\zmqshell.py:549: size=288 B, count=4, average=72 B\n",
      "d:\\Workspace\\python-concepts-master\\.venv\\Lib\\site-packages\\tornado\\queues.py:248: size=288 B, count=2, average=144 B\n",
      "d:\\Workspace\\python-concepts-master\\.venv\\Lib\\site-packages\\IPython\\core\\interactiveshell.py:3223: size=280 B, count=3, average=93 B\n",
      "C:\\Users\\ribhav.jain\\AppData\\Local\\Programs\\Python\\Python312\\Lib\\threading.py:290: size=280 B, count=2, average=140 B\n",
      "d:\\Workspace\\python-concepts-master\\.venv\\Lib\\site-packages\\ipykernel\\kernelbase.py:534: size=264 B, count=1, average=264 B\n",
      "d:\\Workspace\\python-concepts-master\\.venv\\Lib\\site-packages\\ipykernel\\kernelbase.py:435: size=248 B, count=1, average=248 B\n",
      "C:\\Users\\ribhav.jain\\AppData\\Local\\Programs\\Python\\Python312\\Lib\\logging\\__init__.py:1622: size=240 B, count=1, average=240 B\n",
      "d:\\Workspace\\python-concepts-master\\.venv\\Lib\\site-packages\\ipykernel\\kernelbase.py:545: size=232 B, count=1, average=232 B\n",
      "d:\\Workspace\\python-concepts-master\\.venv\\Lib\\site-packages\\IPython\\core\\interactiveshell.py:3237: size=224 B, count=2, average=112 B\n",
      "d:\\Workspace\\python-concepts-master\\.venv\\Lib\\site-packages\\jupyter_client\\session.py:1085: size=208 B, count=1, average=208 B\n",
      "d:\\Workspace\\python-concepts-master\\.venv\\Lib\\site-packages\\jupyter_client\\jsonutil.py:75: size=208 B, count=1, average=208 B\n",
      "d:\\Workspace\\python-concepts-master\\.venv\\Lib\\site-packages\\ipykernel\\kernelbase.py:770: size=208 B, count=1, average=208 B\n",
      "C:\\Users\\ribhav.jain\\AppData\\Local\\Programs\\Python\\Python312\\Lib\\asyncio\\futures.py:418: size=200 B, count=5, average=40 B\n",
      "d:\\Workspace\\python-concepts-master\\.venv\\Lib\\site-packages\\IPython\\core\\interactiveshell.py:3224: size=200 B, count=2, average=100 B\n",
      "d:\\Workspace\\python-concepts-master\\.venv\\Lib\\site-packages\\zmq\\sugar\\socket.py:802: size=176 B, count=1, average=176 B\n",
      "d:\\Workspace\\python-concepts-master\\.venv\\Lib\\site-packages\\ipykernel\\kernelbase.py:570: size=160 B, count=1, average=160 B\n",
      "d:\\Workspace\\python-concepts-master\\.venv\\Lib\\site-packages\\IPython\\core\\interactiveshell.py:3577: size=160 B, count=1, average=160 B\n",
      "d:\\Workspace\\python-concepts-master\\.venv\\Lib\\site-packages\\IPython\\core\\interactiveshell.py:3493: size=160 B, count=1, average=160 B\n",
      "C:\\Users\\ribhav.jain\\AppData\\Local\\Temp\\ipykernel_339608\\2939494643.py:5: size=160 B, count=1, average=160 B\n",
      "C:\\Users\\ribhav.jain\\AppData\\Local\\Temp\\ipykernel_339608\\2939494643.py:1: size=160 B, count=1, average=160 B\n",
      "C:\\Users\\ribhav.jain\\AppData\\Local\\Programs\\Python\\Python312\\Lib\\asyncio\\futures.py:394: size=160 B, count=1, average=160 B\n",
      "C:\\Users\\ribhav.jain\\AppData\\Local\\Programs\\Python\\Python312\\Lib\\asyncio\\futures.py:387: size=160 B, count=1, average=160 B\n",
      "C:\\Users\\ribhav.jain\\AppData\\Local\\Programs\\Python\\Python312\\Lib\\asyncio\\futures.py:381: size=160 B, count=1, average=160 B\n",
      "d:\\Workspace\\python-concepts-master\\.venv\\Lib\\site-packages\\ipykernel\\kernelbase.py:318: size=152 B, count=2, average=76 B\n",
      "d:\\Workspace\\python-concepts-master\\.venv\\Lib\\site-packages\\tornado\\platform\\asyncio.py:235: size=144 B, count=2, average=72 B\n",
      "d:\\Workspace\\python-concepts-master\\.venv\\Lib\\site-packages\\ipykernel\\iostream.py:722: size=144 B, count=2, average=72 B\n",
      "C:\\Users\\ribhav.jain\\AppData\\Local\\Programs\\Python\\Python312\\Lib\\asyncio\\base_events.py:448: size=144 B, count=1, average=144 B\n",
      "d:\\Workspace\\python-concepts-master\\.venv\\Lib\\site-packages\\ipykernel\\iostream.py:527: size=136 B, count=2, average=68 B\n",
      "C:\\Users\\ribhav.jain\\AppData\\Local\\Programs\\Python\\Python312\\Lib\\threading.py:348: size=120 B, count=2, average=60 B\n",
      "C:\\Users\\ribhav.jain\\AppData\\Local\\Programs\\Python\\Python312\\Lib\\threading.py:135: size=120 B, count=2, average=60 B\n",
      "C:\\Users\\ribhav.jain\\AppData\\Local\\Programs\\Python\\Python312\\Lib\\inspect.py:265: size=120 B, count=1, average=120 B\n",
      "d:\\Workspace\\python-concepts-master\\.venv\\Lib\\site-packages\\jupyter_client\\session.py:989: size=111 B, count=2, average=56 B\n",
      "d:\\Workspace\\python-concepts-master\\.venv\\Lib\\site-packages\\ipykernel\\compiler.py:91: size=111 B, count=1, average=111 B\n",
      "d:\\Workspace\\python-concepts-master\\.venv\\Lib\\site-packages\\IPython\\core\\async_helpers.py:150: size=102 B, count=2, average=51 B\n",
      "C:\\Users\\ribhav.jain\\AppData\\Local\\Programs\\Python\\Python312\\Lib\\inspect.py:2111: size=96 B, count=1, average=96 B\n",
      "d:\\Workspace\\python-concepts-master\\.venv\\Lib\\site-packages\\IPython\\core\\history.py:836: size=80 B, count=1, average=80 B\n",
      "C:\\Users\\ribhav.jain\\AppData\\Local\\Programs\\Python\\Python312\\Lib\\asyncio\\selector_events.py:132: size=80 B, count=1, average=80 B\n",
      "C:\\Users\\ribhav.jain\\AppData\\Local\\Programs\\Python\\Python312\\Lib\\threading.py:292: size=72 B, count=1, average=72 B\n",
      "C:\\Users\\ribhav.jain\\AppData\\Local\\Programs\\Python\\Python312\\Lib\\threading.py:288: size=72 B, count=1, average=72 B\n",
      "C:\\Users\\ribhav.jain\\AppData\\Local\\Programs\\Python\\Python312\\Lib\\threading.py:283: size=72 B, count=1, average=72 B\n",
      "C:\\Users\\ribhav.jain\\AppData\\Local\\Programs\\Python\\Python312\\Lib\\threading.py:282: size=72 B, count=1, average=72 B\n",
      "d:\\Workspace\\python-concepts-master\\.venv\\Lib\\site-packages\\IPython\\core\\interactiveshell.py:3509: size=64 B, count=2, average=32 B\n",
      "d:\\Workspace\\python-concepts-master\\.venv\\Lib\\site-packages\\zmq\\sugar\\socket.py:806: size=64 B, count=1, average=64 B\n",
      "d:\\Workspace\\python-concepts-master\\.venv\\Lib\\site-packages\\jupyter_client\\jsonutil.py:73: size=64 B, count=1, average=64 B\n",
      "d:\\Workspace\\python-concepts-master\\.venv\\Lib\\site-packages\\ipykernel\\ipkernel.py:384: size=64 B, count=1, average=64 B\n",
      "d:\\Workspace\\python-concepts-master\\.venv\\Lib\\site-packages\\ipykernel\\ipkernel.py:383: size=64 B, count=1, average=64 B\n",
      "d:\\Workspace\\python-concepts-master\\.venv\\Lib\\site-packages\\ipykernel\\ipkernel.py:294: size=64 B, count=1, average=64 B\n",
      "d:\\Workspace\\python-concepts-master\\.venv\\Lib\\site-packages\\ipykernel\\ipkernel.py:291: size=64 B, count=1, average=64 B\n",
      "d:\\Workspace\\python-concepts-master\\.venv\\Lib\\site-packages\\decorator.py:232: size=64 B, count=1, average=64 B\n",
      "d:\\Workspace\\python-concepts-master\\.venv\\Lib\\site-packages\\IPython\\core\\interactiveshell.py:3566: size=64 B, count=1, average=64 B\n",
      "d:\\Workspace\\python-concepts-master\\.venv\\Lib\\site-packages\\IPython\\core\\interactiveshell.py:3515: size=64 B, count=1, average=64 B\n",
      "d:\\Workspace\\python-concepts-master\\.venv\\Lib\\site-packages\\IPython\\core\\interactiveshell.py:3303: size=64 B, count=1, average=64 B\n",
      "d:\\Workspace\\python-concepts-master\\.venv\\Lib\\site-packages\\IPython\\core\\interactiveshell.py:3300: size=64 B, count=1, average=64 B\n",
      "d:\\Workspace\\python-concepts-master\\.venv\\Lib\\site-packages\\IPython\\core\\history.py:868: size=64 B, count=1, average=64 B\n",
      "C:\\Users\\ribhav.jain\\AppData\\Local\\Programs\\Python\\Python312\\Lib\\threading.py:652: size=64 B, count=1, average=64 B\n",
      "d:\\Workspace\\python-concepts-master\\.venv\\Lib\\site-packages\\traitlets\\traitlets.py:1540: size=56 B, count=1, average=56 B\n",
      "d:\\Workspace\\python-concepts-master\\.venv\\Lib\\site-packages\\jupyter_client\\session.py:200: size=48 B, count=1, average=48 B\n",
      "d:\\Workspace\\python-concepts-master\\.venv\\Lib\\site-packages\\ipykernel\\ipkernel.py:449: size=48 B, count=1, average=48 B\n",
      "d:\\Workspace\\python-concepts-master\\.venv\\Lib\\site-packages\\dateutil\\parser\\isoparser.py:146: size=48 B, count=1, average=48 B\n",
      "d:\\Workspace\\python-concepts-master\\.venv\\Lib\\site-packages\\IPython\\core\\interactiveshell.py:3505: size=48 B, count=1, average=48 B\n",
      "C:\\Users\\ribhav.jain\\AppData\\Local\\Programs\\Python\\Python312\\Lib\\enum.py:1549: size=48 B, count=1, average=48 B\n",
      "C:\\Users\\ribhav.jain\\AppData\\Local\\Programs\\Python\\Python312\\Lib\\concurrent\\futures\\_base.py:330: size=48 B, count=1, average=48 B\n",
      "d:\\Workspace\\python-concepts-master\\.venv\\Lib\\site-packages\\IPython\\core\\history.py:805: size=45 B, count=1, average=45 B\n",
      "d:\\Workspace\\python-concepts-master\\.venv\\Lib\\site-packages\\jupyter_client\\session.py:996: size=32 B, count=1, average=32 B\n",
      "d:\\Workspace\\python-concepts-master\\.venv\\Lib\\site-packages\\ipykernel\\iostream.py:637: size=32 B, count=1, average=32 B\n",
      "d:\\Workspace\\python-concepts-master\\.venv\\Lib\\site-packages\\IPython\\core\\interactiveshell.py:3500: size=32 B, count=1, average=32 B\n",
      "d:\\Workspace\\python-concepts-master\\.venv\\Lib\\site-packages\\IPython\\core\\compilerop.py:192: size=32 B, count=1, average=32 B\n",
      "C:\\Users\\ribhav.jain\\AppData\\Local\\Programs\\Python\\Python312\\Lib\\concurrent\\futures\\_base.py:421: size=32 B, count=1, average=32 B\n",
      "C:\\Users\\ribhav.jain\\AppData\\Local\\Programs\\Python\\Python312\\Lib\\asyncio\\base_events.py:1969: size=32 B, count=1, average=32 B\n",
      "C:\\Users\\ribhav.jain\\AppData\\Local\\Programs\\Python\\Python312\\Lib\\asyncio\\base_events.py:1958: size=32 B, count=1, average=32 B\n",
      "d:\\Workspace\\python-concepts-master\\.venv\\Lib\\site-packages\\IPython\\core\\compilerop.py:172: size=28 B, count=1, average=28 B\n",
      "d:\\Workspace\\python-concepts-master\\.venv\\Lib\\site-packages\\IPython\\core\\interactiveshell.py:3485: size=24 B, count=2, average=12 B\n"
     ]
    }
   ],
   "source": [
    "def create_list():\n",
    "    return [i for i in range(10000)]\n",
    "\n",
    "\n",
    "def main():\n",
    "    tracemalloc.start()\n",
    "\n",
    "    create_list()\n",
    "\n",
    "    snapshot = tracemalloc.take_snapshot()\n",
    "    top_stats = snapshot.statistics(\"lineno\")\n",
    "\n",
    "    print(\"[ Top 10 ]\")\n",
    "    for stat in top_stats[::]:\n",
    "        print(stat)\n",
    "\n",
    "\n",
    "main()"
   ]
  },
  {
   "cell_type": "markdown",
   "metadata": {},
   "source": [
    "## Summary\n",
    "\n",
    "### Memory Management Concepts in Python\n",
    "\n",
    "| **Concept**            | **Description**                                           |\n",
    "| ---------------------- | --------------------------------------------------------- |\n",
    "| **Reference Counting** | Tracks the number of references pointing to an object.    |\n",
    "| **Garbage Collection** | Cleans up circular references.                            |\n",
    "| **Memory Pools**       | Optimizes memory reuse for frequently-used small objects. |\n",
    "| **Weak References**    | Avoid circular references by using weak references.       |\n",
    "| **tracemalloc**        | Tracks memory allocations and identifies memory leaks.    |\n",
    "| **sys.getsizeof()**    | Returns the memory consumption of an object.              |\n"
   ]
  }
 ],
 "metadata": {
  "kernelspec": {
   "display_name": ".venv",
   "language": "python",
   "name": "python3"
  },
  "language_info": {
   "codemirror_mode": {
    "name": "ipython",
    "version": 3
   },
   "file_extension": ".py",
   "mimetype": "text/x-python",
   "name": "python",
   "nbconvert_exporter": "python",
   "pygments_lexer": "ipython3",
   "version": "3.12.2"
  }
 },
 "nbformat": 4,
 "nbformat_minor": 2
}
