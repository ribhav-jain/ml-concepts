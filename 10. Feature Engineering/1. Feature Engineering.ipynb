{
 "cells": [
  {
   "cell_type": "markdown",
   "metadata": {},
   "source": [
    "**Feature Engineering in Machine Learning**\n",
    "\n",
    "Feature engineering is the process of selecting, modifying, or creating features (variables, attributes) from raw data to improve the performance of a machine learning model. This critical step can significantly influence the model’s accuracy and robustness.\n",
    "\n",
    "### **Key Steps in Feature Engineering**\n",
    "\n",
    "1. **Understanding Data**\n",
    "\n",
    "   - Explore the dataset: understand its structure, types of variables, and the relationships between them.\n",
    "   - Identify the target variable and its distribution.\n",
    "   - Handle missing values and outliers.\n",
    "\n",
    "2. **Data Cleaning**\n",
    "\n",
    "   - Remove duplicate records.\n",
    "   - Handle missing values (e.g., imputation, deletion).\n",
    "   - Correct inconsistent or erroneous entries.\n",
    "\n",
    "3. **Feature Selection**\n",
    "\n",
    "   - Remove irrelevant features that do not contribute to the target variable.\n",
    "   - Use statistical techniques (e.g., correlation analysis, chi-square test) to select significant features.\n",
    "   - Employ algorithms like Recursive Feature Elimination (RFE) or feature importance metrics from models (e.g., tree-based models).\n",
    "\n",
    "4. **Feature Transformation**\n",
    "\n",
    "   - Normalize or standardize numerical data to ensure comparability.\n",
    "   - Apply log, square root, or exponential transformations to reduce skewness.\n",
    "   - Encode categorical variables using techniques like one-hot encoding, label encoding, or target encoding.\n",
    "   - Discretize continuous variables into bins if needed.\n",
    "\n",
    "5. **Feature Creation**\n",
    "\n",
    "   - **Interaction Features**: Combine two or more features (e.g., multiplication, ratios) to capture relationships.\n",
    "   - **Date/Time Features**: Extract components like year, month, weekday, hour from timestamp data.\n",
    "   - **Text Features**: Use techniques like bag-of-words, TF-IDF, or embeddings for textual data.\n",
    "   - **Domain-Specific Features**: Derive features based on domain knowledge.\n",
    "\n",
    "6. **Dimensionality Reduction**\n",
    "\n",
    "   - Apply techniques like Principal Component Analysis (PCA) or t-SNE to reduce feature space while retaining variability.\n",
    "   - Consider linear methods (e.g., LDA) or nonlinear methods (e.g., autoencoders).\n",
    "\n",
    "7. **Feature Scaling**\n",
    "   - Standardize features using z-scores (mean=0, variance=1).\n",
    "   - Normalize features to a fixed range (e.g., [0, 1]).\n",
    "   - Use robust scaling to handle outliers effectively.\n",
    "\n",
    "### **Best Practices**\n",
    "\n",
    "- Understand the domain and incorporate domain knowledge into feature engineering.\n",
    "- Avoid information leakage by ensuring features derived from target variables are excluded.\n",
    "- Use cross-validation to evaluate the effectiveness of engineered features.\n",
    "- Maintain a balance between model complexity and performance; too many features can lead to overfitting.\n",
    "- Automate feature engineering with tools like FeatureTools or frameworks in Python (e.g., Scikit-learn’s preprocessing module).\n",
    "\n",
    "### **Feature Engineering Tools and Libraries**\n",
    "\n",
    "- **Pandas**: Data manipulation and transformation.\n",
    "- **Scikit-learn**: Preprocessing, feature selection, and scaling utilities.\n",
    "- **FeatureTools**: Automated feature engineering.\n",
    "- **TensorFlow/Keras**: For generating features from images or sequences using pre-trained models.\n",
    "- **Natural Language Toolkit (NLTK), SpaCy**: Text feature extraction.\n",
    "\n",
    "### **Challenges in Feature Engineering**\n",
    "\n",
    "- Time-consuming and requires significant domain expertise.\n",
    "- Overfitting due to excessive or irrelevant features.\n",
    "- Handling imbalanced datasets effectively.\n",
    "- Dealing with high-dimensional data in terms of computation and storage.\n"
   ]
  },
  {
   "cell_type": "markdown",
   "metadata": {},
   "source": [
    "### **Handling Missing Values**\n",
    "\n",
    "Missing values occur in datasets when some information is not stored for a variable. There are three primary mechanisms of missing data:\n",
    "\n",
    "#### **1. Missing Completely at Random (MCAR)**\n",
    "\n",
    "- **Definition**: The probability of a value being missing is unrelated to both observed and missing data. Missing values are randomly distributed without any systematic cause.\n",
    "- **Example**: In a survey about disease prevalence, missing responses are MCAR if participants with missing data were randomly chosen and their missingness is unrelated to their disease status or any other variable.\n",
    "- **Handling**: Use deletion methods like listwise or pairwise deletion, or impute with the mean/median as these methods work effectively when data is MCAR.\n",
    "\n",
    "#### **2. Missing at Random (MAR)**\n",
    "\n",
    "- **Definition**: The probability of a value being missing depends only on the observed data, not on the missing data itself. Missing values are systematically related to observed variables.\n",
    "- **Examples**:\n",
    "  - **Income Data**: Participants might not report their income based on their age or gender but not on their actual income level.\n",
    "  - **Medical Data**: Patients who don’t report their blood pressure might be younger or healthier, but the missingness isn’t related to actual blood pressure values.\n",
    "- **Handling**: Use advanced imputation techniques like multiple imputation or model-based methods (e.g., regression or k-Nearest Neighbors imputation). These methods utilize relationships with observed variables.\n",
    "\n",
    "#### **3. Missing Not at Random (MNAR)**\n",
    "\n",
    "- **Definition**: The probability of missing values depends on the value of the missing data itself or unobserved factors.\n",
    "- **Example**: Employees with lower job satisfaction might be less likely to report their income. Here, missingness depends on satisfaction, an unobserved variable.\n",
    "- **Handling**: MNAR data is challenging to handle. Techniques include:\n",
    "  - Use domain knowledge to model the missingness mechanism explicitly.\n",
    "  - Employ sensitivity analysis or augment datasets with auxiliary variables to capture the missingness.\n",
    "\n",
    "### **When to Use What**\n",
    "\n",
    "1. **MCAR**:\n",
    "\n",
    "   - Use deletion methods when data size is large and MCAR assumptions hold.\n",
    "   - Simple imputation (e.g., mean, median) is acceptable.\n",
    "\n",
    "2. **MAR**:\n",
    "\n",
    "   - Use advanced imputation techniques or predictive modeling approaches.\n",
    "   - Leverage observed relationships in the data.\n",
    "\n",
    "3. **MNAR**:\n",
    "   - Requires domain expertise and careful analysis.\n",
    "   - Collect additional data if feasible to address unobserved factors.\n",
    "   - Model-based approaches or sensitivity analysis may help.\n",
    "\n",
    "### **Best Practices for Missing Values**\n",
    "\n",
    "- Always explore and visualize missing data patterns.\n",
    "- Avoid assuming MCAR without evidence; test assumptions where possible.\n",
    "- Document the handling method used for transparency and reproducibility.\n",
    "- Consider the impact of missing data handling on downstream analysis or modeling.\n"
   ]
  },
  {
   "cell_type": "code",
   "execution_count": 1,
   "metadata": {},
   "outputs": [
    {
     "name": "stdout",
     "output_type": "stream",
     "text": [
      "<class 'pandas.core.frame.DataFrame'>\n",
      "RangeIndex: 891 entries, 0 to 890\n",
      "Data columns (total 15 columns):\n",
      " #   Column       Non-Null Count  Dtype   \n",
      "---  ------       --------------  -----   \n",
      " 0   survived     891 non-null    int64   \n",
      " 1   pclass       891 non-null    int64   \n",
      " 2   sex          891 non-null    object  \n",
      " 3   age          714 non-null    float64 \n",
      " 4   sibsp        891 non-null    int64   \n",
      " 5   parch        891 non-null    int64   \n",
      " 6   fare         891 non-null    float64 \n",
      " 7   embarked     889 non-null    object  \n",
      " 8   class        891 non-null    category\n",
      " 9   who          891 non-null    object  \n",
      " 10  adult_male   891 non-null    bool    \n",
      " 11  deck         203 non-null    category\n",
      " 12  embark_town  889 non-null    object  \n",
      " 13  alive        891 non-null    object  \n",
      " 14  alone        891 non-null    bool    \n",
      "dtypes: bool(2), category(2), float64(2), int64(4), object(5)\n",
      "memory usage: 80.7+ KB\n",
      "None\n"
     ]
    }
   ],
   "source": [
    "import seaborn as sns\n",
    "import pandas as pd\n",
    "\n",
    "# Load Titanic dataset\n",
    "titanic = sns.load_dataset(\"titanic\")\n",
    "\n",
    "# Display a summary of the dataset\n",
    "print(titanic.info())"
   ]
  },
  {
   "cell_type": "code",
   "execution_count": 2,
   "metadata": {},
   "outputs": [
    {
     "data": {
      "text/html": [
       "<div>\n",
       "<style scoped>\n",
       "    .dataframe tbody tr th:only-of-type {\n",
       "        vertical-align: middle;\n",
       "    }\n",
       "\n",
       "    .dataframe tbody tr th {\n",
       "        vertical-align: top;\n",
       "    }\n",
       "\n",
       "    .dataframe thead th {\n",
       "        text-align: right;\n",
       "    }\n",
       "</style>\n",
       "<table border=\"1\" class=\"dataframe\">\n",
       "  <thead>\n",
       "    <tr style=\"text-align: right;\">\n",
       "      <th></th>\n",
       "      <th>survived</th>\n",
       "      <th>pclass</th>\n",
       "      <th>sex</th>\n",
       "      <th>age</th>\n",
       "      <th>sibsp</th>\n",
       "      <th>parch</th>\n",
       "      <th>fare</th>\n",
       "      <th>embarked</th>\n",
       "      <th>class</th>\n",
       "      <th>who</th>\n",
       "      <th>adult_male</th>\n",
       "      <th>deck</th>\n",
       "      <th>embark_town</th>\n",
       "      <th>alive</th>\n",
       "      <th>alone</th>\n",
       "    </tr>\n",
       "  </thead>\n",
       "  <tbody>\n",
       "    <tr>\n",
       "      <th>0</th>\n",
       "      <td>0</td>\n",
       "      <td>3</td>\n",
       "      <td>male</td>\n",
       "      <td>22.0</td>\n",
       "      <td>1</td>\n",
       "      <td>0</td>\n",
       "      <td>7.2500</td>\n",
       "      <td>S</td>\n",
       "      <td>Third</td>\n",
       "      <td>man</td>\n",
       "      <td>True</td>\n",
       "      <td>NaN</td>\n",
       "      <td>Southampton</td>\n",
       "      <td>no</td>\n",
       "      <td>False</td>\n",
       "    </tr>\n",
       "    <tr>\n",
       "      <th>1</th>\n",
       "      <td>1</td>\n",
       "      <td>1</td>\n",
       "      <td>female</td>\n",
       "      <td>38.0</td>\n",
       "      <td>1</td>\n",
       "      <td>0</td>\n",
       "      <td>71.2833</td>\n",
       "      <td>C</td>\n",
       "      <td>First</td>\n",
       "      <td>woman</td>\n",
       "      <td>False</td>\n",
       "      <td>C</td>\n",
       "      <td>Cherbourg</td>\n",
       "      <td>yes</td>\n",
       "      <td>False</td>\n",
       "    </tr>\n",
       "    <tr>\n",
       "      <th>2</th>\n",
       "      <td>1</td>\n",
       "      <td>3</td>\n",
       "      <td>female</td>\n",
       "      <td>26.0</td>\n",
       "      <td>0</td>\n",
       "      <td>0</td>\n",
       "      <td>7.9250</td>\n",
       "      <td>S</td>\n",
       "      <td>Third</td>\n",
       "      <td>woman</td>\n",
       "      <td>False</td>\n",
       "      <td>NaN</td>\n",
       "      <td>Southampton</td>\n",
       "      <td>yes</td>\n",
       "      <td>True</td>\n",
       "    </tr>\n",
       "    <tr>\n",
       "      <th>3</th>\n",
       "      <td>1</td>\n",
       "      <td>1</td>\n",
       "      <td>female</td>\n",
       "      <td>35.0</td>\n",
       "      <td>1</td>\n",
       "      <td>0</td>\n",
       "      <td>53.1000</td>\n",
       "      <td>S</td>\n",
       "      <td>First</td>\n",
       "      <td>woman</td>\n",
       "      <td>False</td>\n",
       "      <td>C</td>\n",
       "      <td>Southampton</td>\n",
       "      <td>yes</td>\n",
       "      <td>False</td>\n",
       "    </tr>\n",
       "    <tr>\n",
       "      <th>4</th>\n",
       "      <td>0</td>\n",
       "      <td>3</td>\n",
       "      <td>male</td>\n",
       "      <td>35.0</td>\n",
       "      <td>0</td>\n",
       "      <td>0</td>\n",
       "      <td>8.0500</td>\n",
       "      <td>S</td>\n",
       "      <td>Third</td>\n",
       "      <td>man</td>\n",
       "      <td>True</td>\n",
       "      <td>NaN</td>\n",
       "      <td>Southampton</td>\n",
       "      <td>no</td>\n",
       "      <td>True</td>\n",
       "    </tr>\n",
       "  </tbody>\n",
       "</table>\n",
       "</div>"
      ],
      "text/plain": [
       "   survived  pclass     sex   age  sibsp  parch     fare embarked  class  \\\n",
       "0         0       3    male  22.0      1      0   7.2500        S  Third   \n",
       "1         1       1  female  38.0      1      0  71.2833        C  First   \n",
       "2         1       3  female  26.0      0      0   7.9250        S  Third   \n",
       "3         1       1  female  35.0      1      0  53.1000        S  First   \n",
       "4         0       3    male  35.0      0      0   8.0500        S  Third   \n",
       "\n",
       "     who  adult_male deck  embark_town alive  alone  \n",
       "0    man        True  NaN  Southampton    no  False  \n",
       "1  woman       False    C    Cherbourg   yes  False  \n",
       "2  woman       False  NaN  Southampton   yes   True  \n",
       "3  woman       False    C  Southampton   yes  False  \n",
       "4    man        True  NaN  Southampton    no   True  "
      ]
     },
     "execution_count": 2,
     "metadata": {},
     "output_type": "execute_result"
    }
   ],
   "source": [
    "titanic.head()"
   ]
  },
  {
   "cell_type": "code",
   "execution_count": 3,
   "metadata": {},
   "outputs": [
    {
     "data": {
      "text/plain": [
       "survived         0\n",
       "pclass           0\n",
       "sex              0\n",
       "age            177\n",
       "sibsp            0\n",
       "parch            0\n",
       "fare             0\n",
       "embarked         2\n",
       "class            0\n",
       "who              0\n",
       "adult_male       0\n",
       "deck           688\n",
       "embark_town      2\n",
       "alive            0\n",
       "alone            0\n",
       "dtype: int64"
      ]
     },
     "execution_count": 3,
     "metadata": {},
     "output_type": "execute_result"
    }
   ],
   "source": [
    "## Check missing values\n",
    "titanic.isnull().sum()"
   ]
  },
  {
   "cell_type": "code",
   "execution_count": 5,
   "metadata": {},
   "outputs": [
    {
     "data": {
      "text/plain": [
       "(891, 15)"
      ]
     },
     "execution_count": 5,
     "metadata": {},
     "output_type": "execute_result"
    }
   ],
   "source": [
    "## Delete the rows or data point to handle missing values\n",
    "\n",
    "titanic.shape"
   ]
  },
  {
   "cell_type": "code",
   "execution_count": 6,
   "metadata": {},
   "outputs": [
    {
     "data": {
      "text/plain": [
       "(182, 15)"
      ]
     },
     "execution_count": 6,
     "metadata": {},
     "output_type": "execute_result"
    }
   ],
   "source": [
    "titanic.dropna().shape  # not good approach as we lost most of the data"
   ]
  },
  {
   "cell_type": "code",
   "execution_count": 8,
   "metadata": {},
   "outputs": [
    {
     "data": {
      "text/html": [
       "<div>\n",
       "<style scoped>\n",
       "    .dataframe tbody tr th:only-of-type {\n",
       "        vertical-align: middle;\n",
       "    }\n",
       "\n",
       "    .dataframe tbody tr th {\n",
       "        vertical-align: top;\n",
       "    }\n",
       "\n",
       "    .dataframe thead th {\n",
       "        text-align: right;\n",
       "    }\n",
       "</style>\n",
       "<table border=\"1\" class=\"dataframe\">\n",
       "  <thead>\n",
       "    <tr style=\"text-align: right;\">\n",
       "      <th></th>\n",
       "      <th>survived</th>\n",
       "      <th>pclass</th>\n",
       "      <th>sex</th>\n",
       "      <th>sibsp</th>\n",
       "      <th>parch</th>\n",
       "      <th>fare</th>\n",
       "      <th>class</th>\n",
       "      <th>who</th>\n",
       "      <th>adult_male</th>\n",
       "      <th>alive</th>\n",
       "      <th>alone</th>\n",
       "    </tr>\n",
       "  </thead>\n",
       "  <tbody>\n",
       "    <tr>\n",
       "      <th>0</th>\n",
       "      <td>0</td>\n",
       "      <td>3</td>\n",
       "      <td>male</td>\n",
       "      <td>1</td>\n",
       "      <td>0</td>\n",
       "      <td>7.2500</td>\n",
       "      <td>Third</td>\n",
       "      <td>man</td>\n",
       "      <td>True</td>\n",
       "      <td>no</td>\n",
       "      <td>False</td>\n",
       "    </tr>\n",
       "    <tr>\n",
       "      <th>1</th>\n",
       "      <td>1</td>\n",
       "      <td>1</td>\n",
       "      <td>female</td>\n",
       "      <td>1</td>\n",
       "      <td>0</td>\n",
       "      <td>71.2833</td>\n",
       "      <td>First</td>\n",
       "      <td>woman</td>\n",
       "      <td>False</td>\n",
       "      <td>yes</td>\n",
       "      <td>False</td>\n",
       "    </tr>\n",
       "    <tr>\n",
       "      <th>2</th>\n",
       "      <td>1</td>\n",
       "      <td>3</td>\n",
       "      <td>female</td>\n",
       "      <td>0</td>\n",
       "      <td>0</td>\n",
       "      <td>7.9250</td>\n",
       "      <td>Third</td>\n",
       "      <td>woman</td>\n",
       "      <td>False</td>\n",
       "      <td>yes</td>\n",
       "      <td>True</td>\n",
       "    </tr>\n",
       "    <tr>\n",
       "      <th>3</th>\n",
       "      <td>1</td>\n",
       "      <td>1</td>\n",
       "      <td>female</td>\n",
       "      <td>1</td>\n",
       "      <td>0</td>\n",
       "      <td>53.1000</td>\n",
       "      <td>First</td>\n",
       "      <td>woman</td>\n",
       "      <td>False</td>\n",
       "      <td>yes</td>\n",
       "      <td>False</td>\n",
       "    </tr>\n",
       "    <tr>\n",
       "      <th>4</th>\n",
       "      <td>0</td>\n",
       "      <td>3</td>\n",
       "      <td>male</td>\n",
       "      <td>0</td>\n",
       "      <td>0</td>\n",
       "      <td>8.0500</td>\n",
       "      <td>Third</td>\n",
       "      <td>man</td>\n",
       "      <td>True</td>\n",
       "      <td>no</td>\n",
       "      <td>True</td>\n",
       "    </tr>\n",
       "    <tr>\n",
       "      <th>...</th>\n",
       "      <td>...</td>\n",
       "      <td>...</td>\n",
       "      <td>...</td>\n",
       "      <td>...</td>\n",
       "      <td>...</td>\n",
       "      <td>...</td>\n",
       "      <td>...</td>\n",
       "      <td>...</td>\n",
       "      <td>...</td>\n",
       "      <td>...</td>\n",
       "      <td>...</td>\n",
       "    </tr>\n",
       "    <tr>\n",
       "      <th>886</th>\n",
       "      <td>0</td>\n",
       "      <td>2</td>\n",
       "      <td>male</td>\n",
       "      <td>0</td>\n",
       "      <td>0</td>\n",
       "      <td>13.0000</td>\n",
       "      <td>Second</td>\n",
       "      <td>man</td>\n",
       "      <td>True</td>\n",
       "      <td>no</td>\n",
       "      <td>True</td>\n",
       "    </tr>\n",
       "    <tr>\n",
       "      <th>887</th>\n",
       "      <td>1</td>\n",
       "      <td>1</td>\n",
       "      <td>female</td>\n",
       "      <td>0</td>\n",
       "      <td>0</td>\n",
       "      <td>30.0000</td>\n",
       "      <td>First</td>\n",
       "      <td>woman</td>\n",
       "      <td>False</td>\n",
       "      <td>yes</td>\n",
       "      <td>True</td>\n",
       "    </tr>\n",
       "    <tr>\n",
       "      <th>888</th>\n",
       "      <td>0</td>\n",
       "      <td>3</td>\n",
       "      <td>female</td>\n",
       "      <td>1</td>\n",
       "      <td>2</td>\n",
       "      <td>23.4500</td>\n",
       "      <td>Third</td>\n",
       "      <td>woman</td>\n",
       "      <td>False</td>\n",
       "      <td>no</td>\n",
       "      <td>False</td>\n",
       "    </tr>\n",
       "    <tr>\n",
       "      <th>889</th>\n",
       "      <td>1</td>\n",
       "      <td>1</td>\n",
       "      <td>male</td>\n",
       "      <td>0</td>\n",
       "      <td>0</td>\n",
       "      <td>30.0000</td>\n",
       "      <td>First</td>\n",
       "      <td>man</td>\n",
       "      <td>True</td>\n",
       "      <td>yes</td>\n",
       "      <td>True</td>\n",
       "    </tr>\n",
       "    <tr>\n",
       "      <th>890</th>\n",
       "      <td>0</td>\n",
       "      <td>3</td>\n",
       "      <td>male</td>\n",
       "      <td>0</td>\n",
       "      <td>0</td>\n",
       "      <td>7.7500</td>\n",
       "      <td>Third</td>\n",
       "      <td>man</td>\n",
       "      <td>True</td>\n",
       "      <td>no</td>\n",
       "      <td>True</td>\n",
       "    </tr>\n",
       "  </tbody>\n",
       "</table>\n",
       "<p>891 rows × 11 columns</p>\n",
       "</div>"
      ],
      "text/plain": [
       "     survived  pclass     sex  sibsp  parch     fare   class    who  \\\n",
       "0           0       3    male      1      0   7.2500   Third    man   \n",
       "1           1       1  female      1      0  71.2833   First  woman   \n",
       "2           1       3  female      0      0   7.9250   Third  woman   \n",
       "3           1       1  female      1      0  53.1000   First  woman   \n",
       "4           0       3    male      0      0   8.0500   Third    man   \n",
       "..        ...     ...     ...    ...    ...      ...     ...    ...   \n",
       "886         0       2    male      0      0  13.0000  Second    man   \n",
       "887         1       1  female      0      0  30.0000   First  woman   \n",
       "888         0       3  female      1      2  23.4500   Third  woman   \n",
       "889         1       1    male      0      0  30.0000   First    man   \n",
       "890         0       3    male      0      0   7.7500   Third    man   \n",
       "\n",
       "     adult_male alive  alone  \n",
       "0          True    no  False  \n",
       "1         False   yes  False  \n",
       "2         False   yes   True  \n",
       "3         False   yes  False  \n",
       "4          True    no   True  \n",
       "..          ...   ...    ...  \n",
       "886        True    no   True  \n",
       "887       False   yes   True  \n",
       "888       False    no  False  \n",
       "889        True   yes   True  \n",
       "890        True    no   True  \n",
       "\n",
       "[891 rows x 11 columns]"
      ]
     },
     "execution_count": 8,
     "metadata": {},
     "output_type": "execute_result"
    }
   ],
   "source": [
    "## Column wise deletion\n",
    "titanic.dropna(axis=1)"
   ]
  },
  {
   "cell_type": "markdown",
   "metadata": {},
   "source": [
    "### 1. Mean/Median Imputation (Numerical Data)\n",
    "\n",
    "**Use Case**: For numerical variables like `age`, mean or median imputation is simple and works well if data is **MCAR** or **MAR**.\n",
    "\n",
    "**When to Use**:\n",
    "\n",
    "- Use **mean imputation** if the data is symmetrically distributed(normally distributed).\n",
    "- Use **median imputation** for skewed data or when outliers are present.\n"
   ]
  },
  {
   "cell_type": "code",
   "execution_count": 9,
   "metadata": {},
   "outputs": [
    {
     "data": {
      "text/plain": [
       "<Axes: xlabel='age', ylabel='Count'>"
      ]
     },
     "execution_count": 9,
     "metadata": {},
     "output_type": "execute_result"
    },
    {
     "data": {
      "image/png": "[encoded data removed]",
      "text/plain": [
       "<Figure size 640x480 with 1 Axes>"
      ]
     },
     "metadata": {},
     "output_type": "display_data"
    }
   ],
   "source": [
    "sns.histplot(titanic[\"age\"], kde=True)"
   ]
  },
  {
   "cell_type": "code",
   "execution_count": 10,
   "metadata": {},
   "outputs": [],
   "source": [
    "# Impute missing age values with the mean\n",
    "titanic[\"age_mean_imputed\"] = titanic[\"age\"].fillna(titanic[\"age\"].mean())\n",
    "\n",
    "# Impute missing age values with the median\n",
    "titanic[\"age_median_imputed\"] = titanic[\"age\"].fillna(titanic[\"age\"].median())"
   ]
  },
  {
   "cell_type": "code",
   "execution_count": 11,
   "metadata": {},
   "outputs": [
    {
     "data": {
      "text/html": [
       "<div>\n",
       "<style scoped>\n",
       "    .dataframe tbody tr th:only-of-type {\n",
       "        vertical-align: middle;\n",
       "    }\n",
       "\n",
       "    .dataframe tbody tr th {\n",
       "        vertical-align: top;\n",
       "    }\n",
       "\n",
       "    .dataframe thead th {\n",
       "        text-align: right;\n",
       "    }\n",
       "</style>\n",
       "<table border=\"1\" class=\"dataframe\">\n",
       "  <thead>\n",
       "    <tr style=\"text-align: right;\">\n",
       "      <th></th>\n",
       "      <th>age</th>\n",
       "      <th>age_mean_imputed</th>\n",
       "      <th>age_median_imputed</th>\n",
       "    </tr>\n",
       "  </thead>\n",
       "  <tbody>\n",
       "    <tr>\n",
       "      <th>0</th>\n",
       "      <td>22.0</td>\n",
       "      <td>22.000000</td>\n",
       "      <td>22.0</td>\n",
       "    </tr>\n",
       "    <tr>\n",
       "      <th>1</th>\n",
       "      <td>38.0</td>\n",
       "      <td>38.000000</td>\n",
       "      <td>38.0</td>\n",
       "    </tr>\n",
       "    <tr>\n",
       "      <th>2</th>\n",
       "      <td>26.0</td>\n",
       "      <td>26.000000</td>\n",
       "      <td>26.0</td>\n",
       "    </tr>\n",
       "    <tr>\n",
       "      <th>3</th>\n",
       "      <td>35.0</td>\n",
       "      <td>35.000000</td>\n",
       "      <td>35.0</td>\n",
       "    </tr>\n",
       "    <tr>\n",
       "      <th>4</th>\n",
       "      <td>35.0</td>\n",
       "      <td>35.000000</td>\n",
       "      <td>35.0</td>\n",
       "    </tr>\n",
       "    <tr>\n",
       "      <th>5</th>\n",
       "      <td>NaN</td>\n",
       "      <td>29.699118</td>\n",
       "      <td>28.0</td>\n",
       "    </tr>\n",
       "    <tr>\n",
       "      <th>6</th>\n",
       "      <td>54.0</td>\n",
       "      <td>54.000000</td>\n",
       "      <td>54.0</td>\n",
       "    </tr>\n",
       "    <tr>\n",
       "      <th>7</th>\n",
       "      <td>2.0</td>\n",
       "      <td>2.000000</td>\n",
       "      <td>2.0</td>\n",
       "    </tr>\n",
       "    <tr>\n",
       "      <th>8</th>\n",
       "      <td>27.0</td>\n",
       "      <td>27.000000</td>\n",
       "      <td>27.0</td>\n",
       "    </tr>\n",
       "    <tr>\n",
       "      <th>9</th>\n",
       "      <td>14.0</td>\n",
       "      <td>14.000000</td>\n",
       "      <td>14.0</td>\n",
       "    </tr>\n",
       "  </tbody>\n",
       "</table>\n",
       "</div>"
      ],
      "text/plain": [
       "    age  age_mean_imputed  age_median_imputed\n",
       "0  22.0         22.000000                22.0\n",
       "1  38.0         38.000000                38.0\n",
       "2  26.0         26.000000                26.0\n",
       "3  35.0         35.000000                35.0\n",
       "4  35.0         35.000000                35.0\n",
       "5   NaN         29.699118                28.0\n",
       "6  54.0         54.000000                54.0\n",
       "7   2.0          2.000000                 2.0\n",
       "8  27.0         27.000000                27.0\n",
       "9  14.0         14.000000                14.0"
      ]
     },
     "execution_count": 11,
     "metadata": {},
     "output_type": "execute_result"
    }
   ],
   "source": [
    "# Check results\n",
    "titanic[[\"age\", \"age_mean_imputed\", \"age_median_imputed\"]].head(10)"
   ]
  },
  {
   "cell_type": "markdown",
   "metadata": {},
   "source": [
    "### Mode Imputation (Categorical Data)\n",
    "\n",
    "**Use Case**: For categorical variables like `embark_town`, mode imputation is commonly used to replace missing values with the most frequent category.\n",
    "\n",
    "**Explanation**: Mode imputation works well for **MAR** data if one category is significantly more common than others.\n"
   ]
  },
  {
   "cell_type": "code",
   "execution_count": 12,
   "metadata": {},
   "outputs": [
    {
     "data": {
      "text/html": [
       "<div>\n",
       "<style scoped>\n",
       "    .dataframe tbody tr th:only-of-type {\n",
       "        vertical-align: middle;\n",
       "    }\n",
       "\n",
       "    .dataframe tbody tr th {\n",
       "        vertical-align: top;\n",
       "    }\n",
       "\n",
       "    .dataframe thead th {\n",
       "        text-align: right;\n",
       "    }\n",
       "</style>\n",
       "<table border=\"1\" class=\"dataframe\">\n",
       "  <thead>\n",
       "    <tr style=\"text-align: right;\">\n",
       "      <th></th>\n",
       "      <th>survived</th>\n",
       "      <th>pclass</th>\n",
       "      <th>sex</th>\n",
       "      <th>age</th>\n",
       "      <th>sibsp</th>\n",
       "      <th>parch</th>\n",
       "      <th>fare</th>\n",
       "      <th>embarked</th>\n",
       "      <th>class</th>\n",
       "      <th>who</th>\n",
       "      <th>adult_male</th>\n",
       "      <th>deck</th>\n",
       "      <th>embark_town</th>\n",
       "      <th>alive</th>\n",
       "      <th>alone</th>\n",
       "      <th>age_mean_imputed</th>\n",
       "      <th>age_median_imputed</th>\n",
       "    </tr>\n",
       "  </thead>\n",
       "  <tbody>\n",
       "    <tr>\n",
       "      <th>61</th>\n",
       "      <td>1</td>\n",
       "      <td>1</td>\n",
       "      <td>female</td>\n",
       "      <td>38.0</td>\n",
       "      <td>0</td>\n",
       "      <td>0</td>\n",
       "      <td>80.0</td>\n",
       "      <td>NaN</td>\n",
       "      <td>First</td>\n",
       "      <td>woman</td>\n",
       "      <td>False</td>\n",
       "      <td>B</td>\n",
       "      <td>NaN</td>\n",
       "      <td>yes</td>\n",
       "      <td>True</td>\n",
       "      <td>38.0</td>\n",
       "      <td>38.0</td>\n",
       "    </tr>\n",
       "    <tr>\n",
       "      <th>829</th>\n",
       "      <td>1</td>\n",
       "      <td>1</td>\n",
       "      <td>female</td>\n",
       "      <td>62.0</td>\n",
       "      <td>0</td>\n",
       "      <td>0</td>\n",
       "      <td>80.0</td>\n",
       "      <td>NaN</td>\n",
       "      <td>First</td>\n",
       "      <td>woman</td>\n",
       "      <td>False</td>\n",
       "      <td>B</td>\n",
       "      <td>NaN</td>\n",
       "      <td>yes</td>\n",
       "      <td>True</td>\n",
       "      <td>62.0</td>\n",
       "      <td>62.0</td>\n",
       "    </tr>\n",
       "  </tbody>\n",
       "</table>\n",
       "</div>"
      ],
      "text/plain": [
       "     survived  pclass     sex   age  sibsp  parch  fare embarked  class  \\\n",
       "61          1       1  female  38.0      0      0  80.0      NaN  First   \n",
       "829         1       1  female  62.0      0      0  80.0      NaN  First   \n",
       "\n",
       "       who  adult_male deck embark_town alive  alone  age_mean_imputed  \\\n",
       "61   woman       False    B         NaN   yes   True              38.0   \n",
       "829  woman       False    B         NaN   yes   True              62.0   \n",
       "\n",
       "     age_median_imputed  \n",
       "61                 38.0  \n",
       "829                62.0  "
      ]
     },
     "execution_count": 12,
     "metadata": {},
     "output_type": "execute_result"
    }
   ],
   "source": [
    "titanic[titanic[\"embarked\"].isnull()]"
   ]
  },
  {
   "cell_type": "code",
   "execution_count": 13,
   "metadata": {},
   "outputs": [
    {
     "data": {
      "text/plain": [
       "array(['S', 'C', 'Q', nan], dtype=object)"
      ]
     },
     "execution_count": 13,
     "metadata": {},
     "output_type": "execute_result"
    }
   ],
   "source": [
    "titanic[\"embarked\"].unique()"
   ]
  },
  {
   "cell_type": "code",
   "execution_count": 14,
   "metadata": {},
   "outputs": [],
   "source": [
    "# Impute missing embark_town values with the mode\n",
    "titanic[\"embark_mode_imputed\"] = titanic[\"embarked\"].fillna(\n",
    "    titanic[\"embarked\"].mode()[0]\n",
    ")"
   ]
  },
  {
   "cell_type": "code",
   "execution_count": 15,
   "metadata": {},
   "outputs": [
    {
     "data": {
      "text/html": [
       "<div>\n",
       "<style scoped>\n",
       "    .dataframe tbody tr th:only-of-type {\n",
       "        vertical-align: middle;\n",
       "    }\n",
       "\n",
       "    .dataframe tbody tr th {\n",
       "        vertical-align: top;\n",
       "    }\n",
       "\n",
       "    .dataframe thead th {\n",
       "        text-align: right;\n",
       "    }\n",
       "</style>\n",
       "<table border=\"1\" class=\"dataframe\">\n",
       "  <thead>\n",
       "    <tr style=\"text-align: right;\">\n",
       "      <th></th>\n",
       "      <th>embarked</th>\n",
       "      <th>embark_mode_imputed</th>\n",
       "    </tr>\n",
       "  </thead>\n",
       "  <tbody>\n",
       "    <tr>\n",
       "      <th>0</th>\n",
       "      <td>S</td>\n",
       "      <td>S</td>\n",
       "    </tr>\n",
       "    <tr>\n",
       "      <th>1</th>\n",
       "      <td>C</td>\n",
       "      <td>C</td>\n",
       "    </tr>\n",
       "    <tr>\n",
       "      <th>2</th>\n",
       "      <td>S</td>\n",
       "      <td>S</td>\n",
       "    </tr>\n",
       "    <tr>\n",
       "      <th>3</th>\n",
       "      <td>S</td>\n",
       "      <td>S</td>\n",
       "    </tr>\n",
       "    <tr>\n",
       "      <th>4</th>\n",
       "      <td>S</td>\n",
       "      <td>S</td>\n",
       "    </tr>\n",
       "    <tr>\n",
       "      <th>5</th>\n",
       "      <td>Q</td>\n",
       "      <td>Q</td>\n",
       "    </tr>\n",
       "    <tr>\n",
       "      <th>6</th>\n",
       "      <td>S</td>\n",
       "      <td>S</td>\n",
       "    </tr>\n",
       "    <tr>\n",
       "      <th>7</th>\n",
       "      <td>S</td>\n",
       "      <td>S</td>\n",
       "    </tr>\n",
       "    <tr>\n",
       "      <th>8</th>\n",
       "      <td>S</td>\n",
       "      <td>S</td>\n",
       "    </tr>\n",
       "    <tr>\n",
       "      <th>9</th>\n",
       "      <td>C</td>\n",
       "      <td>C</td>\n",
       "    </tr>\n",
       "  </tbody>\n",
       "</table>\n",
       "</div>"
      ],
      "text/plain": [
       "  embarked embark_mode_imputed\n",
       "0        S                   S\n",
       "1        C                   C\n",
       "2        S                   S\n",
       "3        S                   S\n",
       "4        S                   S\n",
       "5        Q                   Q\n",
       "6        S                   S\n",
       "7        S                   S\n",
       "8        S                   S\n",
       "9        C                   C"
      ]
     },
     "execution_count": 15,
     "metadata": {},
     "output_type": "execute_result"
    }
   ],
   "source": [
    "titanic[[\"embarked\", \"embark_mode_imputed\"]].head(10)"
   ]
  },
  {
   "cell_type": "code",
   "execution_count": 16,
   "metadata": {},
   "outputs": [
    {
     "data": {
      "text/plain": [
       "0"
      ]
     },
     "execution_count": 16,
     "metadata": {},
     "output_type": "execute_result"
    }
   ],
   "source": [
    "titanic[\"embark_mode_imputed\"].isnull().sum()"
   ]
  },
  {
   "cell_type": "markdown",
   "metadata": {},
   "source": [
    "### k-Nearest Neighbors (KNN) Imputation\n",
    "\n",
    "**Use Case**: For both numerical and categorical variables, KNN imputes missing values based on the similarity of other rows.\n",
    "\n",
    "**Explanation**: KNN considers neighboring data points for imputation and is effective when missing values are **MAR**.\n"
   ]
  },
  {
   "cell_type": "code",
   "execution_count": 17,
   "metadata": {},
   "outputs": [
    {
     "name": "stdout",
     "output_type": "stream",
     "text": [
      "    age  age_knn_imputed\n",
      "0  22.0           22.000\n",
      "1  38.0           38.000\n",
      "2  26.0           26.000\n",
      "3  35.0           35.000\n",
      "4  35.0           35.000\n",
      "5   NaN           22.684\n",
      "6  54.0           54.000\n",
      "7   2.0            2.000\n",
      "8  27.0           27.000\n",
      "9  14.0           14.000\n"
     ]
    }
   ],
   "source": [
    "from sklearn.impute import KNNImputer\n",
    "\n",
    "# Select relevant features\n",
    "knn_data = titanic[[\"age\", \"fare\", \"pclass\"]]\n",
    "\n",
    "# Initialize KNNImputer and fit-transform the data\n",
    "knn_imputer = KNNImputer(n_neighbors=5)\n",
    "knn_imputed = knn_imputer.fit_transform(knn_data)\n",
    "\n",
    "# Add imputed age values back to the dataset\n",
    "titanic[\"age_knn_imputed\"] = knn_imputed[:, 0]\n",
    "\n",
    "# Check results\n",
    "print(titanic[[\"age\", \"age_knn_imputed\"]].head(10))"
   ]
  },
  {
   "cell_type": "markdown",
   "metadata": {},
   "source": [
    "### Multiple Imputation by Chained Equations (MICE)\n",
    "\n",
    "**Use Case**: MICE generates multiple datasets with imputed values, fits models on each dataset, and averages the results.\n",
    "\n",
    "**Explanation**: MICE works well for **MAR** data by using a regression model to predict missing values.\n"
   ]
  },
  {
   "cell_type": "code",
   "execution_count": 18,
   "metadata": {},
   "outputs": [
    {
     "name": "stdout",
     "output_type": "stream",
     "text": [
      "    age  age_mice_imputed\n",
      "0  22.0         22.000000\n",
      "1  38.0         38.000000\n",
      "2  26.0         26.000000\n",
      "3  35.0         35.000000\n",
      "4  35.0         35.000000\n",
      "5   NaN         29.110719\n",
      "6  54.0         54.000000\n",
      "7   2.0          2.000000\n",
      "8  27.0         27.000000\n",
      "9  14.0         14.000000\n"
     ]
    }
   ],
   "source": [
    "from sklearn.experimental import enable_iterative_imputer\n",
    "from sklearn.impute import IterativeImputer\n",
    "\n",
    "# Initialize IterativeImputer (MICE)\n",
    "mice_imputer = IterativeImputer(max_iter=10, random_state=0)\n",
    "\n",
    "# Fit-transform age column\n",
    "titanic[\"age_mice_imputed\"] = mice_imputer.fit_transform(titanic[[\"age\", \"fare\"]])[:, 0]\n",
    "\n",
    "# Check results\n",
    "print(titanic[[\"age\", \"age_mice_imputed\"]].head(10))"
   ]
  },
  {
   "cell_type": "markdown",
   "metadata": {},
   "source": [
    "### Drop Missing Values\n",
    "\n",
    "**Use Case**: When the proportion of missing values is low and data is **MCAR**, dropping rows or columns is a simple option.\n",
    "\n",
    "**Explanation**: Dropping data reduces the dataset's size but ensures clean data for analysis.\n"
   ]
  },
  {
   "cell_type": "code",
   "execution_count": 19,
   "metadata": {},
   "outputs": [
    {
     "name": "stdout",
     "output_type": "stream",
     "text": [
      "<class 'pandas.core.frame.DataFrame'>\n",
      "Index: 182 entries, 1 to 889\n",
      "Data columns (total 20 columns):\n",
      " #   Column               Non-Null Count  Dtype   \n",
      "---  ------               --------------  -----   \n",
      " 0   survived             182 non-null    int64   \n",
      " 1   pclass               182 non-null    int64   \n",
      " 2   sex                  182 non-null    object  \n",
      " 3   age                  182 non-null    float64 \n",
      " 4   sibsp                182 non-null    int64   \n",
      " 5   parch                182 non-null    int64   \n",
      " 6   fare                 182 non-null    float64 \n",
      " 7   embarked             182 non-null    object  \n",
      " 8   class                182 non-null    category\n",
      " 9   who                  182 non-null    object  \n",
      " 10  adult_male           182 non-null    bool    \n",
      " 11  deck                 182 non-null    category\n",
      " 12  embark_town          182 non-null    object  \n",
      " 13  alive                182 non-null    object  \n",
      " 14  alone                182 non-null    bool    \n",
      " 15  age_mean_imputed     182 non-null    float64 \n",
      " 16  age_median_imputed   182 non-null    float64 \n",
      " 17  embark_mode_imputed  182 non-null    object  \n",
      " 18  age_knn_imputed      182 non-null    float64 \n",
      " 19  age_mice_imputed     182 non-null    float64 \n",
      "dtypes: bool(2), category(2), float64(6), int64(4), object(6)\n",
      "memory usage: 25.4+ KB\n",
      "None\n",
      "<class 'pandas.core.frame.DataFrame'>\n",
      "RangeIndex: 891 entries, 0 to 890\n",
      "Data columns (total 16 columns):\n",
      " #   Column               Non-Null Count  Dtype   \n",
      "---  ------               --------------  -----   \n",
      " 0   survived             891 non-null    int64   \n",
      " 1   pclass               891 non-null    int64   \n",
      " 2   sex                  891 non-null    object  \n",
      " 3   sibsp                891 non-null    int64   \n",
      " 4   parch                891 non-null    int64   \n",
      " 5   fare                 891 non-null    float64 \n",
      " 6   class                891 non-null    category\n",
      " 7   who                  891 non-null    object  \n",
      " 8   adult_male           891 non-null    bool    \n",
      " 9   alive                891 non-null    object  \n",
      " 10  alone                891 non-null    bool    \n",
      " 11  age_mean_imputed     891 non-null    float64 \n",
      " 12  age_median_imputed   891 non-null    float64 \n",
      " 13  embark_mode_imputed  891 non-null    object  \n",
      " 14  age_knn_imputed      891 non-null    float64 \n",
      " 15  age_mice_imputed     891 non-null    float64 \n",
      "dtypes: bool(2), category(1), float64(5), int64(4), object(4)\n",
      "memory usage: 93.4+ KB\n",
      "None\n"
     ]
    }
   ],
   "source": [
    "# Drop rows with missing values\n",
    "titanic_dropped_rows = titanic.dropna()\n",
    "\n",
    "# Drop columns with missing values\n",
    "titanic_dropped_columns = titanic.dropna(axis=1)\n",
    "\n",
    "# Check the results\n",
    "print(titanic_dropped_rows.info())\n",
    "print(titanic_dropped_columns.info())"
   ]
  },
  {
   "cell_type": "code",
   "execution_count": 20,
   "metadata": {},
   "outputs": [
    {
     "data": {
      "image/png": "[encoded data removed]",
      "text/plain": [
       "<Figure size 1000x600 with 1 Axes>"
      ]
     },
     "metadata": {},
     "output_type": "display_data"
    }
   ],
   "source": [
    "import matplotlib.pyplot as plt\n",
    "\n",
    "# Plot original and imputed values\n",
    "plt.figure(figsize=(10, 6))\n",
    "sns.kdeplot(titanic[\"age\"], label=\"Original Age\", color=\"blue\")\n",
    "sns.kdeplot(titanic[\"age_mean_imputed\"], label=\"Mean Imputed\", color=\"red\")\n",
    "sns.kdeplot(titanic[\"age_median_imputed\"], label=\"Median Imputed\", color=\"green\")\n",
    "sns.kdeplot(titanic[\"age_knn_imputed\"], label=\"KNN Imputed\", color=\"purple\")\n",
    "sns.kdeplot(titanic[\"age_mice_imputed\"], label=\"MICE Imputed\", color=\"orange\")\n",
    "plt.legend()\n",
    "plt.title(\"Comparison of Age Imputation Techniques\")\n",
    "plt.show()"
   ]
  },
  {
   "cell_type": "markdown",
   "metadata": {},
   "source": [
    "### Upsampling and Downsampling in Data Science: Handling Imbalanced Datasets\n",
    "\n",
    "### Scenario:\n",
    "\n",
    "You have a dataset for binary classification, where the target variable (`Yes` or `No`) is highly imbalanced:\n",
    "\n",
    "- **Yes** = 900 instances\n",
    "- **No** = 100 instances\n",
    "\n",
    "If you train a machine learning model on this dataset, it will likely be biased toward the majority class (`Yes`). Upsampling or downsampling can help balance the dataset.\n",
    "\n",
    "---\n",
    "\n",
    "### 1. Upsampling\n",
    "\n",
    "### Definition:\n",
    "\n",
    "Increase the number of samples in the minority class by duplicating or synthesizing new data.\n",
    "\n",
    "### How?\n",
    "\n",
    "Use techniques like:\n",
    "\n",
    "- Random Oversampling\n",
    "- SMOTE (Synthetic Minority Oversampling Technique)\n",
    "\n",
    "---\n",
    "\n",
    "### 2. Downsampling\n",
    "\n",
    "### Definition:\n",
    "\n",
    "Reduce the number of samples in the majority class to match the minority class.\n",
    "\n",
    "### How?\n",
    "\n",
    "Randomly remove data points from the majority class.\n",
    "\n",
    "---\n",
    "\n",
    "## When to Use Upsampling or Downsampling?\n",
    "\n",
    "| **Method**       | **When to Use**                                              | **Advantages**                               | **Disadvantages**                                   |\n",
    "| ---------------- | ------------------------------------------------------------ | -------------------------------------------- | --------------------------------------------------- |\n",
    "| **Upsampling**   | When you need to preserve all majority class data            | No loss of information in the majority class | Risk of overfitting due to duplicate/synthetic data |\n",
    "| **Downsampling** | When the dataset is very large and training time is critical | Faster model training                        | Loss of information in the majority class           |\n"
   ]
  },
  {
   "cell_type": "code",
   "execution_count": 21,
   "metadata": {},
   "outputs": [
    {
     "name": "stdout",
     "output_type": "stream",
     "text": [
      "After Upsampling:\n",
      " Target\n",
      "Yes    8\n",
      "No     8\n",
      "Name: count, dtype: int64\n"
     ]
    }
   ],
   "source": [
    "from sklearn.utils import resample\n",
    "import pandas as pd\n",
    "\n",
    "# Create a simple dataset\n",
    "data = {\n",
    "    \"Feature\": [1, 2, 3, 4, 5, 6, 7, 8, 9, 10],\n",
    "    \"Target\": [\"Yes\", \"Yes\", \"Yes\", \"Yes\", \"Yes\", \"Yes\", \"Yes\", \"Yes\", \"No\", \"No\"],\n",
    "}\n",
    "df = pd.DataFrame(data)\n",
    "\n",
    "# Separate majority and minority classes\n",
    "majority = df[df[\"Target\"] == \"Yes\"]\n",
    "minority = df[df[\"Target\"] == \"No\"]\n",
    "\n",
    "# Upsample minority class\n",
    "minority_upsampled = resample(\n",
    "    minority,\n",
    "    replace=True,  # Sample with replacement\n",
    "    n_samples=len(majority),  # Match number of majority samples\n",
    "    random_state=42,\n",
    ")\n",
    "\n",
    "# Combine majority class with upsampled minority class\n",
    "upsampled = pd.concat([majority, minority_upsampled])\n",
    "\n",
    "print(\"After Upsampling:\\n\", upsampled[\"Target\"].value_counts())"
   ]
  },
  {
   "cell_type": "code",
   "execution_count": 22,
   "metadata": {},
   "outputs": [
    {
     "name": "stdout",
     "output_type": "stream",
     "text": [
      "After Downsampling:\n",
      " Target\n",
      "Yes    2\n",
      "No     2\n",
      "Name: count, dtype: int64\n"
     ]
    }
   ],
   "source": [
    "# Downsample majority class\n",
    "majority_downsampled = resample(\n",
    "    majority,\n",
    "    replace=False,  # Sample without replacement\n",
    "    n_samples=len(minority),  # Match number of minority samples\n",
    "    random_state=42,\n",
    ")\n",
    "\n",
    "# Combine downsampled majority class with minority class\n",
    "downsampled = pd.concat([majority_downsampled, minority])\n",
    "\n",
    "print(\"After Downsampling:\\n\", downsampled[\"Target\"].value_counts())"
   ]
  },
  {
   "cell_type": "markdown",
   "metadata": {},
   "source": [
    "## SMOTE (Synthetic Minority Oversampling Technique)\n",
    "\n",
    "## Definition:\n",
    "\n",
    "SMOTE is a data augmentation technique used to address the issue of class imbalance in classification problems. It works by generating synthetic samples for the minority class using a method based on nearest neighbors, rather than simply duplicating the existing minority class samples.\n",
    "\n",
    "---\n",
    "\n",
    "## How SMOTE Works:\n",
    "\n",
    "1. **Select a Minority Sample:**  \n",
    "   Randomly pick a data point from the minority class.\n",
    "\n",
    "2. **Find Nearest Neighbors:**  \n",
    "   Identify its k-nearest neighbors (typically `k=5`) in the feature space.\n",
    "\n",
    "3. **Generate Synthetic Data:**  \n",
    "   For each selected sample, create new samples along the line joining the selected sample and its neighbors. This is done by interpolating new feature values.\n",
    "\n",
    "---\n",
    "\n",
    "## Advantages of SMOTE:\n",
    "\n",
    "- Reduces overfitting compared to simple oversampling (duplication).\n",
    "- Maintains the distribution of minority class data.\n",
    "- Generates diverse synthetic data points, enhancing model generalization.\n",
    "\n",
    "---\n",
    "\n",
    "## Disadvantages of SMOTE:\n",
    "\n",
    "- Can introduce noise if the minority class samples are noisy or have overlapping regions with the majority class.\n",
    "- Does not account for the boundary between classes, which can lead to poor decision boundaries.\n"
   ]
  },
  {
   "cell_type": "markdown",
   "metadata": {},
   "source": [
    "![Image](images/SMOTE1.png)\n"
   ]
  },
  {
   "cell_type": "markdown",
   "metadata": {},
   "source": [
    "![Image](images/SMOTE.webp)\n"
   ]
  },
  {
   "cell_type": "code",
   "execution_count": 23,
   "metadata": {},
   "outputs": [],
   "source": [
    "from sklearn.datasets import make_classification\n",
    "from sklearn.model_selection import train_test_split\n",
    "import matplotlib.pyplot as plt\n",
    "\n",
    "# Create an imbalanced dataset\n",
    "# Generate a synthetic dataset with specified characteristics\n",
    "X, y = make_classification(\n",
    "    n_classes=2,               # Binary classification (2 output classes: 0 and 1)\n",
    "    class_sep=1,               # Controls how separable the classes are; higher means more separable\n",
    "    weights=[0.9, 0.1],        # Class distribution: 90% for class 0, 10% for class 1 (imbalanced)\n",
    "    n_informative=2,           # Number of informative features (reduced to fit `n_features`)\n",
    "    n_redundant=0,             # Number of redundant features (set to 0 to fit `n_features`)\n",
    "    flip_y=0,                  # Proportion of labels to randomly flip (introduces noise, 0 = no noise)\n",
    "    n_features=2,              # Total number of features in the dataset\n",
    "    n_clusters_per_class=1,    # Number of clusters to generate per class in the feature space\n",
    "    n_samples=1000,            # Total number of samples (rows) to generate\n",
    "    random_state=42            # Seed for reproducibility of results\n",
    ")\n",
    "\n",
    "# `X`: Feature matrix of shape (1000, 2), where each row represents a sample and each column is a feature\n",
    "# `y`: Target vector of shape (1000,), where each entry is the class label (0 or 1)\n"
   ]
  },
  {
   "cell_type": "code",
   "execution_count": 24,
   "metadata": {},
   "outputs": [
    {
     "data": {
      "text/html": [
       "<div>\n",
       "<style scoped>\n",
       "    .dataframe tbody tr th:only-of-type {\n",
       "        vertical-align: middle;\n",
       "    }\n",
       "\n",
       "    .dataframe tbody tr th {\n",
       "        vertical-align: top;\n",
       "    }\n",
       "\n",
       "    .dataframe thead th {\n",
       "        text-align: right;\n",
       "    }\n",
       "</style>\n",
       "<table border=\"1\" class=\"dataframe\">\n",
       "  <thead>\n",
       "    <tr style=\"text-align: right;\">\n",
       "      <th></th>\n",
       "      <th>f1</th>\n",
       "      <th>f2</th>\n",
       "      <th>target</th>\n",
       "    </tr>\n",
       "  </thead>\n",
       "  <tbody>\n",
       "    <tr>\n",
       "      <th>0</th>\n",
       "      <td>-1.402878</td>\n",
       "      <td>-0.173382</td>\n",
       "      <td>0</td>\n",
       "    </tr>\n",
       "    <tr>\n",
       "      <th>1</th>\n",
       "      <td>-2.245828</td>\n",
       "      <td>-1.120642</td>\n",
       "      <td>0</td>\n",
       "    </tr>\n",
       "    <tr>\n",
       "      <th>2</th>\n",
       "      <td>-1.914231</td>\n",
       "      <td>-0.572390</td>\n",
       "      <td>0</td>\n",
       "    </tr>\n",
       "    <tr>\n",
       "      <th>3</th>\n",
       "      <td>-0.566826</td>\n",
       "      <td>1.595493</td>\n",
       "      <td>0</td>\n",
       "    </tr>\n",
       "    <tr>\n",
       "      <th>4</th>\n",
       "      <td>-1.339679</td>\n",
       "      <td>0.863684</td>\n",
       "      <td>0</td>\n",
       "    </tr>\n",
       "  </tbody>\n",
       "</table>\n",
       "</div>"
      ],
      "text/plain": [
       "         f1        f2  target\n",
       "0 -1.402878 -0.173382       0\n",
       "1 -2.245828 -1.120642       0\n",
       "2 -1.914231 -0.572390       0\n",
       "3 -0.566826  1.595493       0\n",
       "4 -1.339679  0.863684       0"
      ]
     },
     "execution_count": 24,
     "metadata": {},
     "output_type": "execute_result"
    }
   ],
   "source": [
    "df1 = pd.DataFrame(X, columns=[\"f1\", \"f2\"])\n",
    "df2 = pd.DataFrame(y, columns=[\"target\"])\n",
    "final_df = pd.concat([df1, df2], axis=1)\n",
    "final_df.head()"
   ]
  },
  {
   "cell_type": "code",
   "execution_count": 25,
   "metadata": {},
   "outputs": [
    {
     "data": {
      "text/plain": [
       "target\n",
       "0    900\n",
       "1    100\n",
       "Name: count, dtype: int64"
      ]
     },
     "execution_count": 25,
     "metadata": {},
     "output_type": "execute_result"
    }
   ],
   "source": [
    "final_df[\"target\"].value_counts()"
   ]
  },
  {
   "cell_type": "code",
   "execution_count": 26,
   "metadata": {},
   "outputs": [
    {
     "data": {
      "image/png": "[encoded data removed]",
      "text/plain": [
       "<Figure size 1000x500 with 1 Axes>"
      ]
     },
     "metadata": {},
     "output_type": "display_data"
    }
   ],
   "source": [
    "# Visualize the original dataset\n",
    "plt.figure(figsize=(10, 5))\n",
    "# Scatter plot for Class 0 (Majority)\n",
    "plt.scatter(\n",
    "    X[y == 0][:, 0],    # Select rows in X where y == 0, and take the first feature (x-axis values)\n",
    "    X[y == 0][:, 1],    # Select rows in X where y == 0, and take the second feature (y-axis values)\n",
    "    label='Class 0 (Majority)',  # Label for the legend\n",
    "    alpha=0.6           # Transparency level to handle overlapping points\n",
    ")\n",
    "\n",
    "# Scatter plot for Class 1 (Minority)\n",
    "plt.scatter(\n",
    "    X[y == 1][:, 0],    # Select rows in X where y == 1, and take the first feature (x-axis values)\n",
    "    X[y == 1][:, 1],    # Select rows in X where y == 1, and take the second feature (y-axis values)\n",
    "    label='Class 1 (Minority)',  # Label for the legend\n",
    "    alpha=0.6           # Transparency level to handle overlapping points\n",
    ")\n",
    "plt.title('Original Dataset')\n",
    "plt.legend()\n",
    "plt.show()"
   ]
  },
  {
   "cell_type": "code",
   "execution_count": 27,
   "metadata": {},
   "outputs": [
    {
     "name": "stdout",
     "output_type": "stream",
     "text": [
      "Requirement already satisfied: imblearn in c:\\users\\ribhav.jain\\appdata\\local\\programs\\python\\python312\\lib\\site-packages (0.0)\n",
      "Requirement already satisfied: imbalanced-learn in c:\\users\\ribhav.jain\\appdata\\local\\programs\\python\\python312\\lib\\site-packages (from imblearn) (0.13.0)\n",
      "Requirement already satisfied: numpy<3,>=1.24.3 in c:\\users\\ribhav.jain\\appdata\\local\\programs\\python\\python312\\lib\\site-packages (from imbalanced-learn->imblearn) (1.26.4)\n",
      "Requirement already satisfied: scipy<2,>=1.10.1 in c:\\users\\ribhav.jain\\appdata\\local\\programs\\python\\python312\\lib\\site-packages (from imbalanced-learn->imblearn) (1.14.0)\n",
      "Requirement already satisfied: scikit-learn<2,>=1.3.2 in c:\\users\\ribhav.jain\\appdata\\local\\programs\\python\\python312\\lib\\site-packages (from imbalanced-learn->imblearn) (1.5.0)\n",
      "Requirement already satisfied: sklearn-compat<1,>=0.1 in c:\\users\\ribhav.jain\\appdata\\local\\programs\\python\\python312\\lib\\site-packages (from imbalanced-learn->imblearn) (0.1.3)\n",
      "Requirement already satisfied: joblib<2,>=1.1.1 in c:\\users\\ribhav.jain\\appdata\\local\\programs\\python\\python312\\lib\\site-packages (from imbalanced-learn->imblearn) (1.4.2)\n",
      "Requirement already satisfied: threadpoolctl<4,>=2.0.0 in c:\\users\\ribhav.jain\\appdata\\local\\programs\\python\\python312\\lib\\site-packages (from imbalanced-learn->imblearn) (3.5.0)\n",
      "Note: you may need to restart the kernel to use updated packages.\n"
     ]
    },
    {
     "name": "stderr",
     "output_type": "stream",
     "text": [
      "\n",
      "[notice] A new release of pip is available: 24.0 -> 24.3.1\n",
      "[notice] To update, run: python.exe -m pip install --upgrade pip\n"
     ]
    }
   ],
   "source": [
    "%pip install imblearn"
   ]
  },
  {
   "cell_type": "code",
   "execution_count": 28,
   "metadata": {},
   "outputs": [],
   "source": [
    "from imblearn.over_sampling import SMOTE"
   ]
  },
  {
   "cell_type": "code",
   "execution_count": 29,
   "metadata": {},
   "outputs": [],
   "source": [
    "# Apply SMOTE to balance the dataset\n",
    "smote = SMOTE(random_state=42)\n",
    "X_resampled, y_resampled = smote.fit_resample(X, y)"
   ]
  },
  {
   "cell_type": "code",
   "execution_count": 30,
   "metadata": {},
   "outputs": [
    {
     "data": {
      "text/plain": [
       "(1000, 2)"
      ]
     },
     "execution_count": 30,
     "metadata": {},
     "output_type": "execute_result"
    }
   ],
   "source": [
    "X.shape"
   ]
  },
  {
   "cell_type": "code",
   "execution_count": 31,
   "metadata": {},
   "outputs": [
    {
     "data": {
      "text/plain": [
       "(1000,)"
      ]
     },
     "execution_count": 31,
     "metadata": {},
     "output_type": "execute_result"
    }
   ],
   "source": [
    "y.shape"
   ]
  },
  {
   "cell_type": "code",
   "execution_count": 32,
   "metadata": {},
   "outputs": [
    {
     "data": {
      "image/png": "[encoded data removed]",
      "text/plain": [
       "<Figure size 1000x500 with 1 Axes>"
      ]
     },
     "metadata": {},
     "output_type": "display_data"
    }
   ],
   "source": [
    "# Visualize the balanced dataset\n",
    "plt.figure(figsize=(10, 5))\n",
    "plt.scatter(\n",
    "    X_resampled[y_resampled == 0][:, 0],\n",
    "    X_resampled[y_resampled == 0][:, 1],\n",
    "    label=\"Class 0 (Majority)\",\n",
    "    alpha=0.6,\n",
    ")\n",
    "plt.scatter(\n",
    "    X_resampled[y_resampled == 1][:, 0],\n",
    "    X_resampled[y_resampled == 1][:, 1],\n",
    "    label=\"Class 1 (Minority)\",\n",
    "    alpha=0.6,\n",
    ")\n",
    "plt.title(\"Dataset After Applying SMOTE\")\n",
    "plt.legend()\n",
    "plt.show()"
   ]
  },
  {
   "cell_type": "markdown",
   "metadata": {},
   "source": [
    "# **5-Number Summary**\n",
    "\n",
    "The 5-number summary is a set of descriptive statistics that provides a quick overview of the distribution of a dataset. It includes:\n",
    "\n",
    "1. **Minimum**: The smallest value in the dataset.\n",
    "2. **First Quartile (Q1)**: The 25th percentile, or the value below which 25% of the data lies.\n",
    "3. **Median (Q2)**: The 50th percentile, or the middle value of the dataset.\n",
    "4. **Third Quartile (Q3)**: The 75th percentile, or the value below which 75% of the data lies.\n",
    "5. **Maximum**: The largest value in the dataset.\n",
    "\n",
    "---\n",
    "\n",
    "# **Box Plot**\n",
    "\n",
    "A box plot (or box-and-whisker plot) is a graphical representation of the 5-number summary. It visualizes:\n",
    "\n",
    "- The **spread** and **skewness** of the data.\n",
    "- **Potential outliers**.\n",
    "- The **central tendency** (via the median).\n",
    "\n",
    "---\n",
    "\n",
    "### **Key Components of a Box Plot**\n",
    "\n",
    "1. **Box**: Represents the interquartile range (IQR) from Q1 to Q3.\n",
    "2. **Line in the Box**: Represents the median (Q2).\n",
    "3. **Whiskers**: Extend to the smallest and largest values within 1.5 × IQR from Q1 and Q3.\n",
    "4. **Dots (if present)**: Represent outliers beyond the whiskers.\n"
   ]
  },
  {
   "cell_type": "code",
   "execution_count": 33,
   "metadata": {},
   "outputs": [
    {
     "name": "stdout",
     "output_type": "stream",
     "text": [
      "5-Number Summary:\n",
      "Minimum: 7\n",
      "Q1 (25th percentile): 17.5\n",
      "Median (50th percentile): 31.0\n",
      "Q3 (75th percentile): 47.5\n",
      "Maximum: 78\n",
      "30.0\n"
     ]
    }
   ],
   "source": [
    "import numpy as np\n",
    "import matplotlib.pyplot as plt\n",
    "\n",
    "# Example dataset\n",
    "data = [12, 7, 22, 33, 45, 55, 78, 13, 29, 41, 57, 62, 19, 37, 10, 25]\n",
    "\n",
    "# Compute the 5-number summary\n",
    "minimum = np.min(data)  # Minimum value\n",
    "q1 = np.percentile(data, 25)  # First Quartile (25th percentile)\n",
    "median = np.median(data)  # Median (50th percentile)\n",
    "q3 = np.percentile(data, 75)  # Third Quartile (75th percentile)\n",
    "maximum = np.max(data)  # Maximum value\n",
    "\n",
    "# Display the 5-number summary\n",
    "print(\"5-Number Summary:\")\n",
    "print(f\"Minimum: {minimum}\")\n",
    "print(f\"Q1 (25th percentile): {q1}\")\n",
    "print(f\"Median (50th percentile): {median}\")\n",
    "print(f\"Q3 (75th percentile): {q3}\")\n",
    "print(f\"Maximum: {maximum}\")\n",
    "\n",
    "IQR = q3 - q1\n",
    "print(IQR)"
   ]
  },
  {
   "cell_type": "code",
   "execution_count": 34,
   "metadata": {},
   "outputs": [],
   "source": [
    "lower_fence = q1 - 1.5 * (IQR)\n",
    "higher_fence = q3 + 1.5 * (IQR)"
   ]
  },
  {
   "cell_type": "code",
   "execution_count": 35,
   "metadata": {},
   "outputs": [
    {
     "data": {
      "text/plain": [
       "-27.5"
      ]
     },
     "execution_count": 35,
     "metadata": {},
     "output_type": "execute_result"
    }
   ],
   "source": [
    "lower_fence"
   ]
  },
  {
   "cell_type": "code",
   "execution_count": 36,
   "metadata": {},
   "outputs": [
    {
     "data": {
      "text/plain": [
       "92.5"
      ]
     },
     "execution_count": 36,
     "metadata": {},
     "output_type": "execute_result"
    }
   ],
   "source": [
    "higher_fence"
   ]
  },
  {
   "cell_type": "code",
   "execution_count": 37,
   "metadata": {},
   "outputs": [
    {
     "data": {
      "image/png": "[encoded data removed]",
      "text/plain": [
       "<Figure size 640x480 with 1 Axes>"
      ]
     },
     "metadata": {},
     "output_type": "display_data"
    }
   ],
   "source": [
    "# Create a box plot\n",
    "plt.boxplot(data, vert=False, patch_artist=True, boxprops=dict(facecolor=\"lightblue\"))\n",
    "plt.title(\"Box Plot of Dataset\")\n",
    "plt.xlabel(\"Value\")\n",
    "plt.show()"
   ]
  },
  {
   "cell_type": "code",
   "execution_count": 38,
   "metadata": {},
   "outputs": [
    {
     "name": "stdout",
     "output_type": "stream",
     "text": [
      "5-Number Summary:\n",
      "Minimum: -20\n",
      "Q1 (25th percentile): 14.5\n",
      "Median (50th percentile): 31.0\n",
      "Q3 (75th percentile): 52.5\n",
      "Maximum: 150\n",
      "Outliers: [150]\n"
     ]
    },
    {
     "data": {
      "image/png": "[encoded data removed]",
      "text/plain": [
       "<Figure size 640x480 with 1 Axes>"
      ]
     },
     "metadata": {},
     "output_type": "display_data"
    }
   ],
   "source": [
    "import numpy as np\n",
    "import matplotlib.pyplot as plt\n",
    "\n",
    "# Example dataset with outliers\n",
    "data_with_outliers = [12, 7, 22, 33, 45, 55, 78, 13, 29, 41, 57, 62, 19, 37, 10, 25, 150, -20]\n",
    "\n",
    "# Compute the 5-number summary\n",
    "minimum = np.min(data_with_outliers)           # Minimum value\n",
    "q1 = np.percentile(data_with_outliers, 25)     # First Quartile (25th percentile)\n",
    "median = np.median(data_with_outliers)         # Median (50th percentile)\n",
    "q3 = np.percentile(data_with_outliers, 75)     # Third Quartile (75th percentile)\n",
    "maximum = np.max(data_with_outliers)           # Maximum value\n",
    "\n",
    "# Calculate IQR and whisker range\n",
    "iqr = q3 - q1                                  # Interquartile Range\n",
    "lower_bound = q1 - 1.5 * iqr                   # Lower whisker boundary\n",
    "upper_bound = q3 + 1.5 * iqr                   # Upper whisker boundary\n",
    "\n",
    "# Print the 5-number summary and outliers\n",
    "print(\"5-Number Summary:\")\n",
    "print(f\"Minimum: {minimum}\")\n",
    "print(f\"Q1 (25th percentile): {q1}\")\n",
    "print(f\"Median (50th percentile): {median}\")\n",
    "print(f\"Q3 (75th percentile): {q3}\")\n",
    "print(f\"Maximum: {maximum}\")\n",
    "print(f\"Outliers: {[x for x in data_with_outliers if x < lower_bound or x > upper_bound]}\")\n",
    "\n",
    "# Create a box plot\n",
    "plt.boxplot(data_with_outliers, vert=False, patch_artist=True, boxprops=dict(facecolor=\"lightblue\"))\n",
    "plt.title(\"Box Plot with Outliers\")\n",
    "plt.xlabel(\"Value\")\n",
    "plt.show()"
   ]
  },
  {
   "cell_type": "markdown",
   "metadata": {},
   "source": [
    "## Data Encoding\n",
    "\n",
    "1. Nominal/OHE Encoding\n",
    "2. Label and Ordinal Encoding\n",
    "3. Target Guided Ordinal Encoding\n"
   ]
  },
  {
   "cell_type": "markdown",
   "metadata": {},
   "source": [
    "# One-Hot Encoding\n",
    "\n",
    "**One-Hot Encoding** is a technique used to convert categorical variables into a binary matrix (0s and 1s). It creates a new column for each unique category in the data, with a 1 indicating the presence of a category in a specific row and 0 indicating its absence.\n",
    "\n",
    "---\n",
    "\n",
    "## Basics:\n",
    "\n",
    "For a variable `color` with categories `[\"Red\", \"Blue\", \"Green\"]`, one-hot encoding will create three new columns:\n",
    "\n",
    "- **`color_Red`** → 1 for \"Red\", 0 otherwise.\n",
    "- **`color_Blue`** → 1 for \"Blue\", 0 otherwise.\n",
    "- **`color_Green`** → 1 for \"Green\", 0 otherwise.\n",
    "\n",
    "If the original data had rows like:  \n",
    "`[\"Red\", \"Blue\", \"Green\", \"Red\"]`,  \n",
    "after one-hot encoding, it becomes:\n",
    "\n",
    "- `[1, 0, 0]` for \"Red\"\n",
    "- `[0, 1, 0]` for \"Blue\"\n",
    "- `[0, 0, 1]` for \"Green\"\n",
    "- `[1, 0, 0]` for \"Red\"\n",
    "\n",
    "---\n",
    "\n",
    "## When to Use:\n",
    "\n",
    "One-Hot Encoding is used for **nominal categorical variables** where the categories do not have an inherent order (e.g., colors, names, or countries). It ensures the model does not assume a numeric relationship between categories.\n",
    "\n",
    "---\n",
    "\n",
    "## Advantages:\n",
    "\n",
    "1. **Prevents ordinal relationships**: Ensures categories are treated as distinct and unrelated.\n",
    "2. **Simple and widely used**: Compatible with most machine learning algorithms.\n",
    "3. **Suitable for nominal data**: Best choice when there is no category hierarchy.\n",
    "\n",
    "---\n",
    "\n",
    "## Disadvantages:\n",
    "\n",
    "1. **Increases dimensionality**: For a variable with many categories, it can create a large number of columns, which may lead to memory and computational inefficiency.\n",
    "2. **Sparsity**: Results in many 0s, which can make the dataset sparse and harder to process for some algorithms.\n",
    "3. **Not ideal for high-cardinality data**: For variables like zip codes or user IDs, one-hot encoding can be impractical.\n",
    "\n",
    "---\n",
    "\n",
    "One-hot encoding is most effective for **categorical variables with a manageable number of unique values**. For datasets with high-cardinality features, consider alternative methods like **binary encoding** or **frequency encoding** to address dimensionality issues.\n"
   ]
  },
  {
   "cell_type": "code",
   "execution_count": 39,
   "metadata": {},
   "outputs": [
    {
     "name": "stdout",
     "output_type": "stream",
     "text": [
      "   City_London  City_New York  City_Paris\n",
      "0          0.0            0.0         1.0\n",
      "1          1.0            0.0         0.0\n",
      "2          0.0            0.0         1.0\n",
      "3          0.0            1.0         0.0\n"
     ]
    }
   ],
   "source": [
    "import pandas as pd\n",
    "from sklearn.preprocessing import OneHotEncoder\n",
    "\n",
    "# Sample dataset\n",
    "data = {\"City\": [\"Paris\", \"London\", \"Paris\", \"New York\"]}\n",
    "\n",
    "# Create a DataFrame\n",
    "df = pd.DataFrame(data)\n",
    "\n",
    "# Initialize the OneHotEncoder\n",
    "encoder = OneHotEncoder()\n",
    "\n",
    "# Fit and transform the data\n",
    "encoded_data = encoder.fit_transform(\n",
    "    df[[\"City\"]]\n",
    ").toarray()  # Convert sparse matrix to dense array\n",
    "\n",
    "# Create a DataFrame with the encoded data\n",
    "encoded_df = pd.DataFrame(encoded_data, columns=encoder.get_feature_names_out([\"City\"]))\n",
    "\n",
    "# Display the result\n",
    "print(encoded_df)"
   ]
  },
  {
   "cell_type": "markdown",
   "metadata": {},
   "source": [
    "# Label Encoding\n",
    "\n",
    "**Label Encoding** is a technique used to convert categorical variables into numerical values. It assigns a unique integer to each category in a variable, enabling machine learning algorithms to process categorical data.\n",
    "\n",
    "---\n",
    "\n",
    "## How It Works:\n",
    "\n",
    "Each unique category is mapped to a corresponding integer.\n",
    "\n",
    "For example, for a column `Color` with values `[\"Red\", \"Blue\", \"Green\"]`, Label Encoding might result in:\n",
    "\n",
    "- `\"Red\"` → `0`\n",
    "- `\"Blue\"` → `1`\n",
    "- `\"Green\"` → `2`\n",
    "\n",
    "---\n",
    "\n",
    "## When to Use:\n",
    "\n",
    "- Use **Label Encoding** for **ordinal categorical variables**, where the categories have a meaningful order or ranking (e.g., low, medium, high).\n",
    "- Avoid using it for **nominal categorical variables** (e.g., colors, countries) if the algorithm might interpret the numerical values as having an order or magnitude.\n",
    "\n",
    "---\n",
    "\n",
    "## Advantages:\n",
    "\n",
    "1. **Simplicity**: Easy to implement and requires less memory compared to other encoding techniques.\n",
    "2. **Efficiency**: Works well with algorithms that can handle ordinal relationships, such as tree-based models (e.g., decision trees, random forests).\n",
    "\n",
    "---\n",
    "\n",
    "## Disadvantages:\n",
    "\n",
    "1. **Risk of Misinterpretation**: For nominal variables, the encoded values may falsely imply an ordinal relationship.\n",
    "2. **Limited Applicability**: Not suitable for algorithms that might interpret numeric values as continuous (e.g., linear regression).\n"
   ]
  },
  {
   "cell_type": "code",
   "execution_count": 40,
   "metadata": {},
   "outputs": [
    {
     "name": "stdout",
     "output_type": "stream",
     "text": [
      "   Color  Color_Encoded\n",
      "0    Red              2\n",
      "1   Blue              0\n",
      "2  Green              1\n",
      "3    Red              2\n"
     ]
    }
   ],
   "source": [
    "import pandas as pd\n",
    "from sklearn.preprocessing import LabelEncoder\n",
    "\n",
    "# Sample dataset\n",
    "data = {\"Color\": [\"Red\", \"Blue\", \"Green\", \"Red\"]}\n",
    "\n",
    "# Create a DataFrame\n",
    "df = pd.DataFrame(data)\n",
    "\n",
    "# Initialize LabelEncoder\n",
    "encoder = LabelEncoder()\n",
    "\n",
    "# Fit and transform the data\n",
    "df[\"Color_Encoded\"] = encoder.fit_transform(df[\"Color\"])\n",
    "\n",
    "# Display the result\n",
    "print(df)"
   ]
  },
  {
   "cell_type": "code",
   "execution_count": 41,
   "metadata": {},
   "outputs": [
    {
     "name": "stderr",
     "output_type": "stream",
     "text": [
      "c:\\Users\\ribhav.jain\\AppData\\Local\\Programs\\Python\\Python312\\Lib\\site-packages\\sklearn\\preprocessing\\_label.py:132: DataConversionWarning: A column-vector y was passed when a 1d array was expected. Please change the shape of y to (n_samples, ), for example using ravel().\n",
      "  y = column_or_1d(y, dtype=self.classes_.dtype, warn=True)\n"
     ]
    },
    {
     "data": {
      "text/plain": [
       "array([1])"
      ]
     },
     "execution_count": 41,
     "metadata": {},
     "output_type": "execute_result"
    }
   ],
   "source": [
    "encoder.transform([[\"Green\"]])"
   ]
  },
  {
   "cell_type": "markdown",
   "metadata": {},
   "source": [
    "# Ordinal Encoding\n",
    "\n",
    "**Ordinal Encoding** is a technique used to encode categorical variables into numerical values while preserving the order or rank of the categories. Unlike one-hot encoding, ordinal encoding assigns a unique integer to each category based on its order.\n",
    "\n",
    "---\n",
    "\n",
    "## How It Works:\n",
    "\n",
    "Each category is mapped to an integer that reflects its rank or order.\n",
    "\n",
    "For example, for a column `Size` with categories `[\"Small\", \"Medium\", \"Large\"]`, the encoding might be:\n",
    "\n",
    "- `\"Small\"` → `0`\n",
    "- `\"Medium\"` → `1`\n",
    "- `\"Large\"` → `2`\n",
    "\n",
    "---\n",
    "\n",
    "## When to Use:\n",
    "\n",
    "- Use **Ordinal Encoding** when the categorical variable has a natural **order or ranking** (e.g., education levels, survey ratings, size categories).\n",
    "- Avoid using it for **nominal variables** (e.g., colors, countries) since they lack an inherent order.\n",
    "\n",
    "---\n",
    "\n",
    "## Advantages:\n",
    "\n",
    "1. **Captures Order**: Retains the ordinal relationship between categories, which can be meaningful for certain algorithms.\n",
    "2. **Memory Efficient**: Uses less memory compared to one-hot encoding.\n",
    "\n",
    "---\n",
    "\n",
    "## Disadvantages:\n",
    "\n",
    "1. **Implies Linear Relationship**: Assumes the difference between consecutive categories is equal, which may not always be true (e.g., the difference between \"Medium\" and \"Large\" might not equal that of \"Small\" to \"Medium\").\n",
    "2. **Misinterpretation**: Misused for nominal data, it can lead to poor model performance.\n"
   ]
  },
  {
   "cell_type": "code",
   "execution_count": 42,
   "metadata": {},
   "outputs": [
    {
     "name": "stdout",
     "output_type": "stream",
     "text": [
      "     Size  Size_Encoded\n",
      "0   Small           0.0\n",
      "1  Medium           1.0\n",
      "2   Large           2.0\n",
      "3  Medium           1.0\n",
      "4   Small           0.0\n"
     ]
    }
   ],
   "source": [
    "import pandas as pd\n",
    "from sklearn.preprocessing import OrdinalEncoder\n",
    "\n",
    "# Sample dataset\n",
    "data = {\"Size\": [\"Small\", \"Medium\", \"Large\", \"Medium\", \"Small\"]}\n",
    "\n",
    "# Create a DataFrame\n",
    "df = pd.DataFrame(data)\n",
    "\n",
    "# Initialize OrdinalEncoder\n",
    "encoder = OrdinalEncoder(categories=[[\"Small\", \"Medium\", \"Large\"]])  # Specify the order\n",
    "\n",
    "# Fit and transform the data\n",
    "df[\"Size_Encoded\"] = encoder.fit_transform(df[[\"Size\"]])\n",
    "\n",
    "# Display the result\n",
    "print(df)"
   ]
  },
  {
   "cell_type": "markdown",
   "metadata": {},
   "source": [
    "# Target Guided Ordinal Encoding (TGOE)\n",
    "\n",
    "**Target Guided Ordinal Encoding (TGOE)** is a technique for encoding categorical variables by replacing each category with an ordinal integer, based on its relationship with the target variable (e.g., using the mean or median of the target variable within each category). This method is particularly useful when the categories of a feature have a meaningful relationship with the target variable.\n",
    "\n",
    "---\n",
    "\n",
    "## How It Works:\n",
    "\n",
    "1. **Calculate the Target Statistic**: Compute the statistic (e.g., mean, median) of the target variable for each category. This represents the central tendency of the target variable for that category.\n",
    "2. **Sort Categories**: Arrange the categories based on their calculated statistic.\n",
    "3. **Assign Ordinal Integers**: Map the smallest statistic to `0`, the next to `1`, and so on.\n",
    "\n",
    "### Example:\n",
    "\n",
    "| Region | Sales | Mean Sales (Target) |\n",
    "| ------ | ----- | ------------------- |\n",
    "| North  | 100   | 110                 |\n",
    "| South  | 200   | 190                 |\n",
    "| East   | 150   | 150                 |\n",
    "| West   | 250   | 240                 |\n",
    "\n",
    "**Encoding**:\n",
    "\n",
    "- `West` → `3`\n",
    "- `South` → `2`\n",
    "- `East` → `1`\n",
    "- `North` → `0`\n",
    "\n",
    "**Encoded Dataset**:\n",
    "\n",
    "| Region | Sales | Region Encoded |\n",
    "| ------ | ----- | -------------- |\n",
    "| North  | 100   | 0              |\n",
    "| South  | 200   | 2              |\n",
    "| East   | 150   | 1              |\n",
    "| West   | 250   | 3              |\n",
    "\n",
    "---\n",
    "\n",
    "## Advantages:\n",
    "\n",
    "1. **Captures Relationship with Target**: Encodes categories based on their relationship with the target, helping models recognize patterns that one-hot encoding might miss.\n",
    "2. **Reduces Dimensionality**: Requires only one column per feature, unlike one-hot encoding which creates multiple columns.\n",
    "3. **Works Well with High-Cardinality Features**: Effective for categorical features with many unique values, avoiding the sparse matrices produced by one-hot encoding.\n",
    "\n",
    "---\n",
    "\n",
    "## Disadvantages:\n",
    "\n",
    "1. **Risk of Data Leakage**: If the encoding uses the entire dataset (including the test set), it can lead to data leakage, where the target variable unintentionally influences the feature encoding.\n",
    "2. **Assumes Linear Relationship**: Assumes the relationship between categories and the target is linear, which may not always hold.\n",
    "3. **Overfitting Risk**: Rare categories can be overfit if the dataset is small or unbalanced.\n",
    "\n",
    "---\n",
    "\n",
    "## When to Use:\n",
    "\n",
    "1. **Clear Relationship**: When the feature categories have a clear and meaningful relationship with the target variable.\n",
    "2. **High Cardinality**: When the feature has many unique values, making one-hot encoding inefficient.\n",
    "3. **Ordinal Model Compatibility**: Works well with models that can interpret ordinal features effectively, such as decision trees.\n"
   ]
  }
 ],
 "metadata": {
  "kernelspec": {
   "display_name": "Python 3",
   "language": "python",
   "name": "python3"
  },
  "language_info": {
   "codemirror_mode": {
    "name": "ipython",
    "version": 3
   },
   "file_extension": ".py",
   "mimetype": "text/x-python",
   "name": "python",
   "nbconvert_exporter": "python",
   "pygments_lexer": "ipython3",
   "version": "3.12.2"
  }
 },
 "nbformat": 4,
 "nbformat_minor": 2
}
